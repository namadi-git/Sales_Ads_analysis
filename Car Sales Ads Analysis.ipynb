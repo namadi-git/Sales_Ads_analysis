{
 "cells": [
  {
   "cell_type": "markdown",
   "metadata": {},
   "source": [
    "# Analysis of Car Sales Ads\n"
   ]
  },
  {
   "cell_type": "markdown",
   "metadata": {},
   "source": [
    "The objective of the project is to:\n",
    "\n",
    "  * Perform Exploratory Analysis on the data for key insights\n",
    "  * Analyze parameters and features of ads posted for different vehicles in a time period and check if any of this parameter significantly affects the price of the car. "
   ]
  },
  {
   "cell_type": "markdown",
   "metadata": {},
   "source": [
    "## Initialization"
   ]
  },
  {
   "cell_type": "code",
   "execution_count": 1,
   "metadata": {},
   "outputs": [
    {
     "name": "stdout",
     "output_type": "stream",
     "text": [
      "Libraries loaded successfully!\n"
     ]
    }
   ],
   "source": [
    "# Loading all the libraries\n",
    "import pandas as pd\n",
    "import numpy as np\n",
    "import statistics\n",
    "\n",
    "import matplotlib.pyplot as plt\n",
    "%matplotlib inline\n",
    "\n",
    "import seaborn as sns\n",
    "sns.set()\n",
    "\n",
    "print('Libraries loaded successfully!')"
   ]
  },
  {
   "cell_type": "markdown",
   "metadata": {},
   "source": [
    "### Data Check"
   ]
  },
  {
   "cell_type": "code",
   "execution_count": 2,
   "metadata": {},
   "outputs": [
    {
     "data": {
      "text/html": [
       "<div>\n",
       "<style scoped>\n",
       "    .dataframe tbody tr th:only-of-type {\n",
       "        vertical-align: middle;\n",
       "    }\n",
       "\n",
       "    .dataframe tbody tr th {\n",
       "        vertical-align: top;\n",
       "    }\n",
       "\n",
       "    .dataframe thead th {\n",
       "        text-align: right;\n",
       "    }\n",
       "</style>\n",
       "<table border=\"1\" class=\"dataframe\">\n",
       "  <thead>\n",
       "    <tr style=\"text-align: right;\">\n",
       "      <th></th>\n",
       "      <th>price</th>\n",
       "      <th>model_year</th>\n",
       "      <th>model</th>\n",
       "      <th>condition</th>\n",
       "      <th>cylinders</th>\n",
       "      <th>fuel</th>\n",
       "      <th>odometer</th>\n",
       "      <th>transmission</th>\n",
       "      <th>type</th>\n",
       "      <th>paint_color</th>\n",
       "      <th>is_4wd</th>\n",
       "      <th>date_posted</th>\n",
       "      <th>days_listed</th>\n",
       "    </tr>\n",
       "  </thead>\n",
       "  <tbody>\n",
       "    <tr>\n",
       "      <th>0</th>\n",
       "      <td>9400</td>\n",
       "      <td>2011.0</td>\n",
       "      <td>bmw x5</td>\n",
       "      <td>good</td>\n",
       "      <td>6.0</td>\n",
       "      <td>gas</td>\n",
       "      <td>145000.0</td>\n",
       "      <td>automatic</td>\n",
       "      <td>SUV</td>\n",
       "      <td>NaN</td>\n",
       "      <td>1.0</td>\n",
       "      <td>2018-06-23</td>\n",
       "      <td>19</td>\n",
       "    </tr>\n",
       "    <tr>\n",
       "      <th>1</th>\n",
       "      <td>25500</td>\n",
       "      <td>NaN</td>\n",
       "      <td>ford f-150</td>\n",
       "      <td>good</td>\n",
       "      <td>6.0</td>\n",
       "      <td>gas</td>\n",
       "      <td>88705.0</td>\n",
       "      <td>automatic</td>\n",
       "      <td>pickup</td>\n",
       "      <td>white</td>\n",
       "      <td>1.0</td>\n",
       "      <td>2018-10-19</td>\n",
       "      <td>50</td>\n",
       "    </tr>\n",
       "    <tr>\n",
       "      <th>2</th>\n",
       "      <td>5500</td>\n",
       "      <td>2013.0</td>\n",
       "      <td>hyundai sonata</td>\n",
       "      <td>like new</td>\n",
       "      <td>4.0</td>\n",
       "      <td>gas</td>\n",
       "      <td>110000.0</td>\n",
       "      <td>automatic</td>\n",
       "      <td>sedan</td>\n",
       "      <td>red</td>\n",
       "      <td>NaN</td>\n",
       "      <td>2019-02-07</td>\n",
       "      <td>79</td>\n",
       "    </tr>\n",
       "    <tr>\n",
       "      <th>3</th>\n",
       "      <td>1500</td>\n",
       "      <td>2003.0</td>\n",
       "      <td>ford f-150</td>\n",
       "      <td>fair</td>\n",
       "      <td>8.0</td>\n",
       "      <td>gas</td>\n",
       "      <td>NaN</td>\n",
       "      <td>automatic</td>\n",
       "      <td>pickup</td>\n",
       "      <td>NaN</td>\n",
       "      <td>NaN</td>\n",
       "      <td>2019-03-22</td>\n",
       "      <td>9</td>\n",
       "    </tr>\n",
       "    <tr>\n",
       "      <th>4</th>\n",
       "      <td>14900</td>\n",
       "      <td>2017.0</td>\n",
       "      <td>chrysler 200</td>\n",
       "      <td>excellent</td>\n",
       "      <td>4.0</td>\n",
       "      <td>gas</td>\n",
       "      <td>80903.0</td>\n",
       "      <td>automatic</td>\n",
       "      <td>sedan</td>\n",
       "      <td>black</td>\n",
       "      <td>NaN</td>\n",
       "      <td>2019-04-02</td>\n",
       "      <td>28</td>\n",
       "    </tr>\n",
       "  </tbody>\n",
       "</table>\n",
       "</div>"
      ],
      "text/plain": [
       "   price  model_year           model  condition  cylinders fuel  odometer  \\\n",
       "0   9400      2011.0          bmw x5       good        6.0  gas  145000.0   \n",
       "1  25500         NaN      ford f-150       good        6.0  gas   88705.0   \n",
       "2   5500      2013.0  hyundai sonata   like new        4.0  gas  110000.0   \n",
       "3   1500      2003.0      ford f-150       fair        8.0  gas       NaN   \n",
       "4  14900      2017.0    chrysler 200  excellent        4.0  gas   80903.0   \n",
       "\n",
       "  transmission    type paint_color  is_4wd date_posted  days_listed  \n",
       "0    automatic     SUV         NaN     1.0  2018-06-23           19  \n",
       "1    automatic  pickup       white     1.0  2018-10-19           50  \n",
       "2    automatic   sedan         red     NaN  2019-02-07           79  \n",
       "3    automatic  pickup         NaN     NaN  2019-03-22            9  \n",
       "4    automatic   sedan       black     NaN  2019-04-02           28  "
      ]
     },
     "execution_count": 2,
     "metadata": {},
     "output_type": "execute_result"
    }
   ],
   "source": [
    "# Load the data file into a DataFrame\n",
    "data=pd.read_csv('vehicles_us.csv')\n",
    "data.head()"
   ]
  },
  {
   "cell_type": "markdown",
   "metadata": {},
   "source": [
    "The dataset contains the following fields:\n",
    "- `price`\n",
    "- `model_year`\n",
    "- `model`\n",
    "- `condition`\n",
    "- `cylinders`\n",
    "- `fuel` — gas, diesel, etc.\n",
    "- `odometer` — the vehicle's mileage when the ad was published\n",
    "- `transmission`\n",
    "- `paint_color`\n",
    "- `is_4wd` — whether the vehicle has 4-wheel drive (Boolean type)\n",
    "- `date_posted` — the date the ad was published\n",
    "- `days_listed` — from publication to removal\n",
    "\n"
   ]
  },
  {
   "cell_type": "code",
   "execution_count": 3,
   "metadata": {},
   "outputs": [
    {
     "name": "stdout",
     "output_type": "stream",
     "text": [
      "<class 'pandas.core.frame.DataFrame'>\n",
      "RangeIndex: 51525 entries, 0 to 51524\n",
      "Data columns (total 13 columns):\n",
      " #   Column        Non-Null Count  Dtype  \n",
      "---  ------        --------------  -----  \n",
      " 0   price         51525 non-null  int64  \n",
      " 1   model_year    47906 non-null  float64\n",
      " 2   model         51525 non-null  object \n",
      " 3   condition     51525 non-null  object \n",
      " 4   cylinders     46265 non-null  float64\n",
      " 5   fuel          51525 non-null  object \n",
      " 6   odometer      43633 non-null  float64\n",
      " 7   transmission  51525 non-null  object \n",
      " 8   type          51525 non-null  object \n",
      " 9   paint_color   42258 non-null  object \n",
      " 10  is_4wd        25572 non-null  float64\n",
      " 11  date_posted   51525 non-null  object \n",
      " 12  days_listed   51525 non-null  int64  \n",
      "dtypes: float64(4), int64(2), object(7)\n",
      "memory usage: 5.1+ MB\n"
     ]
    }
   ],
   "source": [
    "data.info()"
   ]
  },
  {
   "cell_type": "code",
   "execution_count": 4,
   "metadata": {},
   "outputs": [
    {
     "data": {
      "text/plain": [
       "price               0\n",
       "model_year       3619\n",
       "model               0\n",
       "condition           0\n",
       "cylinders        5260\n",
       "fuel                0\n",
       "odometer         7892\n",
       "transmission        0\n",
       "type                0\n",
       "paint_color      9267\n",
       "is_4wd          25953\n",
       "date_posted         0\n",
       "days_listed         0\n",
       "dtype: int64"
      ]
     },
     "execution_count": 4,
     "metadata": {},
     "output_type": "execute_result"
    }
   ],
   "source": [
    "#number of missing data in each row\n",
    "data.isna().sum()"
   ]
  },
  {
   "cell_type": "code",
   "execution_count": 5,
   "metadata": {},
   "outputs": [
    {
     "data": {
      "text/plain": [
       "0"
      ]
     },
     "execution_count": 5,
     "metadata": {},
     "output_type": "execute_result"
    }
   ],
   "source": [
    "#check for duplicate rows\n",
    "data.duplicated().sum()"
   ]
  },
  {
   "cell_type": "code",
   "execution_count": 6,
   "metadata": {},
   "outputs": [
    {
     "data": {
      "text/html": [
       "<div>\n",
       "<style scoped>\n",
       "    .dataframe tbody tr th:only-of-type {\n",
       "        vertical-align: middle;\n",
       "    }\n",
       "\n",
       "    .dataframe tbody tr th {\n",
       "        vertical-align: top;\n",
       "    }\n",
       "\n",
       "    .dataframe thead th {\n",
       "        text-align: right;\n",
       "    }\n",
       "</style>\n",
       "<table border=\"1\" class=\"dataframe\">\n",
       "  <thead>\n",
       "    <tr style=\"text-align: right;\">\n",
       "      <th></th>\n",
       "      <th>price</th>\n",
       "      <th>model_year</th>\n",
       "      <th>model</th>\n",
       "      <th>condition</th>\n",
       "      <th>cylinders</th>\n",
       "      <th>fuel</th>\n",
       "      <th>odometer</th>\n",
       "      <th>transmission</th>\n",
       "      <th>type</th>\n",
       "      <th>paint_color</th>\n",
       "      <th>is_4wd</th>\n",
       "      <th>date_posted</th>\n",
       "      <th>days_listed</th>\n",
       "    </tr>\n",
       "  </thead>\n",
       "  <tbody>\n",
       "    <tr>\n",
       "      <th>count</th>\n",
       "      <td>51525.000000</td>\n",
       "      <td>47906.000000</td>\n",
       "      <td>51525</td>\n",
       "      <td>51525</td>\n",
       "      <td>46265.000000</td>\n",
       "      <td>51525</td>\n",
       "      <td>43633.000000</td>\n",
       "      <td>51525</td>\n",
       "      <td>51525</td>\n",
       "      <td>42258</td>\n",
       "      <td>25572.0</td>\n",
       "      <td>51525</td>\n",
       "      <td>51525.00000</td>\n",
       "    </tr>\n",
       "    <tr>\n",
       "      <th>unique</th>\n",
       "      <td>NaN</td>\n",
       "      <td>NaN</td>\n",
       "      <td>100</td>\n",
       "      <td>6</td>\n",
       "      <td>NaN</td>\n",
       "      <td>5</td>\n",
       "      <td>NaN</td>\n",
       "      <td>3</td>\n",
       "      <td>13</td>\n",
       "      <td>12</td>\n",
       "      <td>NaN</td>\n",
       "      <td>354</td>\n",
       "      <td>NaN</td>\n",
       "    </tr>\n",
       "    <tr>\n",
       "      <th>top</th>\n",
       "      <td>NaN</td>\n",
       "      <td>NaN</td>\n",
       "      <td>ford f-150</td>\n",
       "      <td>excellent</td>\n",
       "      <td>NaN</td>\n",
       "      <td>gas</td>\n",
       "      <td>NaN</td>\n",
       "      <td>automatic</td>\n",
       "      <td>SUV</td>\n",
       "      <td>white</td>\n",
       "      <td>NaN</td>\n",
       "      <td>2019-03-17</td>\n",
       "      <td>NaN</td>\n",
       "    </tr>\n",
       "    <tr>\n",
       "      <th>freq</th>\n",
       "      <td>NaN</td>\n",
       "      <td>NaN</td>\n",
       "      <td>2796</td>\n",
       "      <td>24773</td>\n",
       "      <td>NaN</td>\n",
       "      <td>47288</td>\n",
       "      <td>NaN</td>\n",
       "      <td>46902</td>\n",
       "      <td>12405</td>\n",
       "      <td>10029</td>\n",
       "      <td>NaN</td>\n",
       "      <td>186</td>\n",
       "      <td>NaN</td>\n",
       "    </tr>\n",
       "    <tr>\n",
       "      <th>mean</th>\n",
       "      <td>12132.464920</td>\n",
       "      <td>2009.750470</td>\n",
       "      <td>NaN</td>\n",
       "      <td>NaN</td>\n",
       "      <td>6.125235</td>\n",
       "      <td>NaN</td>\n",
       "      <td>115553.461738</td>\n",
       "      <td>NaN</td>\n",
       "      <td>NaN</td>\n",
       "      <td>NaN</td>\n",
       "      <td>1.0</td>\n",
       "      <td>NaN</td>\n",
       "      <td>39.55476</td>\n",
       "    </tr>\n",
       "    <tr>\n",
       "      <th>std</th>\n",
       "      <td>10040.803015</td>\n",
       "      <td>6.282065</td>\n",
       "      <td>NaN</td>\n",
       "      <td>NaN</td>\n",
       "      <td>1.660360</td>\n",
       "      <td>NaN</td>\n",
       "      <td>65094.611341</td>\n",
       "      <td>NaN</td>\n",
       "      <td>NaN</td>\n",
       "      <td>NaN</td>\n",
       "      <td>0.0</td>\n",
       "      <td>NaN</td>\n",
       "      <td>28.20427</td>\n",
       "    </tr>\n",
       "    <tr>\n",
       "      <th>min</th>\n",
       "      <td>1.000000</td>\n",
       "      <td>1908.000000</td>\n",
       "      <td>NaN</td>\n",
       "      <td>NaN</td>\n",
       "      <td>3.000000</td>\n",
       "      <td>NaN</td>\n",
       "      <td>0.000000</td>\n",
       "      <td>NaN</td>\n",
       "      <td>NaN</td>\n",
       "      <td>NaN</td>\n",
       "      <td>1.0</td>\n",
       "      <td>NaN</td>\n",
       "      <td>0.00000</td>\n",
       "    </tr>\n",
       "    <tr>\n",
       "      <th>25%</th>\n",
       "      <td>5000.000000</td>\n",
       "      <td>2006.000000</td>\n",
       "      <td>NaN</td>\n",
       "      <td>NaN</td>\n",
       "      <td>4.000000</td>\n",
       "      <td>NaN</td>\n",
       "      <td>70000.000000</td>\n",
       "      <td>NaN</td>\n",
       "      <td>NaN</td>\n",
       "      <td>NaN</td>\n",
       "      <td>1.0</td>\n",
       "      <td>NaN</td>\n",
       "      <td>19.00000</td>\n",
       "    </tr>\n",
       "    <tr>\n",
       "      <th>50%</th>\n",
       "      <td>9000.000000</td>\n",
       "      <td>2011.000000</td>\n",
       "      <td>NaN</td>\n",
       "      <td>NaN</td>\n",
       "      <td>6.000000</td>\n",
       "      <td>NaN</td>\n",
       "      <td>113000.000000</td>\n",
       "      <td>NaN</td>\n",
       "      <td>NaN</td>\n",
       "      <td>NaN</td>\n",
       "      <td>1.0</td>\n",
       "      <td>NaN</td>\n",
       "      <td>33.00000</td>\n",
       "    </tr>\n",
       "    <tr>\n",
       "      <th>75%</th>\n",
       "      <td>16839.000000</td>\n",
       "      <td>2014.000000</td>\n",
       "      <td>NaN</td>\n",
       "      <td>NaN</td>\n",
       "      <td>8.000000</td>\n",
       "      <td>NaN</td>\n",
       "      <td>155000.000000</td>\n",
       "      <td>NaN</td>\n",
       "      <td>NaN</td>\n",
       "      <td>NaN</td>\n",
       "      <td>1.0</td>\n",
       "      <td>NaN</td>\n",
       "      <td>53.00000</td>\n",
       "    </tr>\n",
       "    <tr>\n",
       "      <th>max</th>\n",
       "      <td>375000.000000</td>\n",
       "      <td>2019.000000</td>\n",
       "      <td>NaN</td>\n",
       "      <td>NaN</td>\n",
       "      <td>12.000000</td>\n",
       "      <td>NaN</td>\n",
       "      <td>990000.000000</td>\n",
       "      <td>NaN</td>\n",
       "      <td>NaN</td>\n",
       "      <td>NaN</td>\n",
       "      <td>1.0</td>\n",
       "      <td>NaN</td>\n",
       "      <td>271.00000</td>\n",
       "    </tr>\n",
       "  </tbody>\n",
       "</table>\n",
       "</div>"
      ],
      "text/plain": [
       "                price    model_year       model  condition     cylinders  \\\n",
       "count    51525.000000  47906.000000       51525      51525  46265.000000   \n",
       "unique            NaN           NaN         100          6           NaN   \n",
       "top               NaN           NaN  ford f-150  excellent           NaN   \n",
       "freq              NaN           NaN        2796      24773           NaN   \n",
       "mean     12132.464920   2009.750470         NaN        NaN      6.125235   \n",
       "std      10040.803015      6.282065         NaN        NaN      1.660360   \n",
       "min          1.000000   1908.000000         NaN        NaN      3.000000   \n",
       "25%       5000.000000   2006.000000         NaN        NaN      4.000000   \n",
       "50%       9000.000000   2011.000000         NaN        NaN      6.000000   \n",
       "75%      16839.000000   2014.000000         NaN        NaN      8.000000   \n",
       "max     375000.000000   2019.000000         NaN        NaN     12.000000   \n",
       "\n",
       "         fuel       odometer transmission   type paint_color   is_4wd  \\\n",
       "count   51525   43633.000000        51525  51525       42258  25572.0   \n",
       "unique      5            NaN            3     13          12      NaN   \n",
       "top       gas            NaN    automatic    SUV       white      NaN   \n",
       "freq    47288            NaN        46902  12405       10029      NaN   \n",
       "mean      NaN  115553.461738          NaN    NaN         NaN      1.0   \n",
       "std       NaN   65094.611341          NaN    NaN         NaN      0.0   \n",
       "min       NaN       0.000000          NaN    NaN         NaN      1.0   \n",
       "25%       NaN   70000.000000          NaN    NaN         NaN      1.0   \n",
       "50%       NaN  113000.000000          NaN    NaN         NaN      1.0   \n",
       "75%       NaN  155000.000000          NaN    NaN         NaN      1.0   \n",
       "max       NaN  990000.000000          NaN    NaN         NaN      1.0   \n",
       "\n",
       "       date_posted  days_listed  \n",
       "count        51525  51525.00000  \n",
       "unique         354          NaN  \n",
       "top     2019-03-17          NaN  \n",
       "freq           186          NaN  \n",
       "mean           NaN     39.55476  \n",
       "std            NaN     28.20427  \n",
       "min            NaN      0.00000  \n",
       "25%            NaN     19.00000  \n",
       "50%            NaN     33.00000  \n",
       "75%            NaN     53.00000  \n",
       "max            NaN    271.00000  "
      ]
     },
     "execution_count": 6,
     "metadata": {},
     "output_type": "execute_result"
    }
   ],
   "source": [
    "# print the general/summary information about the DataFrame\n",
    "data.describe(include='all')"
   ]
  },
  {
   "cell_type": "code",
   "execution_count": 7,
   "metadata": {},
   "outputs": [
    {
     "name": "stdout",
     "output_type": "stream",
     "text": [
      "condition ['good' 'like new' 'fair' 'excellent' 'salvage' 'new']\n",
      "\n",
      "\n",
      "\n",
      "cylinders [ 6.  4.  8. nan  5. 10.  3. 12.]\n",
      "\n",
      "\n",
      "\n",
      "fuel ['gas' 'diesel' 'other' 'hybrid' 'electric']\n",
      "\n",
      "\n",
      "\n",
      "transmission ['automatic' 'manual' 'other']\n",
      "\n",
      "\n",
      "\n",
      "type ['SUV' 'pickup' 'sedan' 'truck' 'coupe' 'van' 'convertible' 'hatchback'\n",
      " 'wagon' 'mini-van' 'other' 'offroad' 'bus']\n",
      "\n",
      "\n",
      "\n",
      "paint_color [nan 'white' 'red' 'black' 'blue' 'grey' 'silver' 'custom' 'orange'\n",
      " 'yellow' 'brown' 'green' 'purple']\n",
      "\n",
      "\n",
      "\n",
      "is_4wd [ 1. nan]\n",
      "\n",
      "\n",
      "\n"
     ]
    }
   ],
   "source": [
    "#Inspect categorical data entries\n",
    "for col in ['condition', 'cylinders', 'fuel', 'transmission', 'type', 'paint_color', 'is_4wd']:\n",
    "    print(col, data[col].unique())\n",
    "    print('\\n\\n')"
   ]
  },
  {
   "cell_type": "markdown",
   "metadata": {},
   "source": [
    "From the data check we notice some data quality issues:\n",
    "  * Missing data in columns; is_4wd, paint_color, odometer, cylinder and model year\n",
    "  * Wrong data type for the date_posted and model_year column\n",
    "  * No duplicate rows\n",
    "  \n",
    "The data will need preprocessing before further analysis"
   ]
  },
  {
   "cell_type": "markdown",
   "metadata": {},
   "source": [
    "## Data Preprocessing"
   ]
  },
  {
   "cell_type": "markdown",
   "metadata": {},
   "source": [
    "### Handling missing values"
   ]
  },
  {
   "cell_type": "code",
   "execution_count": 8,
   "metadata": {},
   "outputs": [
    {
     "data": {
      "text/plain": [
       "price            0.000000\n",
       "model_year       7.023775\n",
       "model            0.000000\n",
       "condition        0.000000\n",
       "cylinders       10.208637\n",
       "fuel             0.000000\n",
       "odometer        15.316836\n",
       "transmission     0.000000\n",
       "type             0.000000\n",
       "paint_color     17.985444\n",
       "is_4wd          50.369723\n",
       "date_posted      0.000000\n",
       "days_listed      0.000000\n",
       "dtype: float64"
      ]
     },
     "execution_count": 8,
     "metadata": {},
     "output_type": "execute_result"
    }
   ],
   "source": [
    "#percentage of missing data in each column\n",
    "\n",
    "data.isna().mean()*100"
   ]
  },
  {
   "cell_type": "code",
   "execution_count": 9,
   "metadata": {},
   "outputs": [
    {
     "data": {
      "text/plain": [
       "array([ 1., nan])"
      ]
     },
     "execution_count": 9,
     "metadata": {},
     "output_type": "execute_result"
    }
   ],
   "source": [
    "#is_4wd values\n",
    "data['is_4wd'].unique()"
   ]
  },
  {
   "cell_type": "code",
   "execution_count": 10,
   "metadata": {},
   "outputs": [],
   "source": [
    "#only one value '1'representing true. missing values indicate false. Filling missing values with 0\n",
    "data['is_4wd']=data['is_4wd'].fillna(0)"
   ]
  },
  {
   "cell_type": "markdown",
   "metadata": {},
   "source": [
    "Over 50% of our data has a missing data in the is_4wd column. This is a significant portion. We also noticed this is a binary representation of if the vehicle if a four wheel drive where 1 mean Yes and the missing value means no. \n",
    "\n",
    "Hence, replaced all missing values in this column with 0 for easier analyis."
   ]
  },
  {
   "cell_type": "code",
   "execution_count": 11,
   "metadata": {},
   "outputs": [
    {
     "data": {
      "text/html": [
       "<div>\n",
       "<style scoped>\n",
       "    .dataframe tbody tr th:only-of-type {\n",
       "        vertical-align: middle;\n",
       "    }\n",
       "\n",
       "    .dataframe tbody tr th {\n",
       "        vertical-align: top;\n",
       "    }\n",
       "\n",
       "    .dataframe thead th {\n",
       "        text-align: right;\n",
       "    }\n",
       "</style>\n",
       "<table border=\"1\" class=\"dataframe\">\n",
       "  <thead>\n",
       "    <tr style=\"text-align: right;\">\n",
       "      <th></th>\n",
       "      <th>price</th>\n",
       "      <th>model_year</th>\n",
       "      <th>model</th>\n",
       "      <th>condition</th>\n",
       "      <th>cylinders</th>\n",
       "      <th>fuel</th>\n",
       "      <th>odometer</th>\n",
       "      <th>transmission</th>\n",
       "      <th>type</th>\n",
       "      <th>paint_color</th>\n",
       "      <th>is_4wd</th>\n",
       "      <th>date_posted</th>\n",
       "      <th>days_listed</th>\n",
       "    </tr>\n",
       "  </thead>\n",
       "  <tbody>\n",
       "    <tr>\n",
       "      <th>1</th>\n",
       "      <td>25500</td>\n",
       "      <td>NaN</td>\n",
       "      <td>ford f-150</td>\n",
       "      <td>good</td>\n",
       "      <td>6.0</td>\n",
       "      <td>gas</td>\n",
       "      <td>88705.0</td>\n",
       "      <td>automatic</td>\n",
       "      <td>pickup</td>\n",
       "      <td>white</td>\n",
       "      <td>1.0</td>\n",
       "      <td>2018-10-19</td>\n",
       "      <td>50</td>\n",
       "    </tr>\n",
       "    <tr>\n",
       "      <th>20</th>\n",
       "      <td>6990</td>\n",
       "      <td>NaN</td>\n",
       "      <td>chevrolet tahoe</td>\n",
       "      <td>excellent</td>\n",
       "      <td>8.0</td>\n",
       "      <td>gas</td>\n",
       "      <td>147485.0</td>\n",
       "      <td>automatic</td>\n",
       "      <td>SUV</td>\n",
       "      <td>silver</td>\n",
       "      <td>1.0</td>\n",
       "      <td>2018-08-05</td>\n",
       "      <td>28</td>\n",
       "    </tr>\n",
       "    <tr>\n",
       "      <th>65</th>\n",
       "      <td>12800</td>\n",
       "      <td>NaN</td>\n",
       "      <td>ford f-150</td>\n",
       "      <td>excellent</td>\n",
       "      <td>6.0</td>\n",
       "      <td>gas</td>\n",
       "      <td>108500.0</td>\n",
       "      <td>automatic</td>\n",
       "      <td>pickup</td>\n",
       "      <td>white</td>\n",
       "      <td>0.0</td>\n",
       "      <td>2018-09-23</td>\n",
       "      <td>15</td>\n",
       "    </tr>\n",
       "    <tr>\n",
       "      <th>69</th>\n",
       "      <td>7800</td>\n",
       "      <td>NaN</td>\n",
       "      <td>ford f-150</td>\n",
       "      <td>like new</td>\n",
       "      <td>8.0</td>\n",
       "      <td>gas</td>\n",
       "      <td>97510.0</td>\n",
       "      <td>automatic</td>\n",
       "      <td>truck</td>\n",
       "      <td>white</td>\n",
       "      <td>1.0</td>\n",
       "      <td>2019-02-20</td>\n",
       "      <td>39</td>\n",
       "    </tr>\n",
       "    <tr>\n",
       "      <th>72</th>\n",
       "      <td>3650</td>\n",
       "      <td>NaN</td>\n",
       "      <td>subaru impreza</td>\n",
       "      <td>excellent</td>\n",
       "      <td>NaN</td>\n",
       "      <td>gas</td>\n",
       "      <td>74000.0</td>\n",
       "      <td>automatic</td>\n",
       "      <td>sedan</td>\n",
       "      <td>blue</td>\n",
       "      <td>1.0</td>\n",
       "      <td>2018-08-07</td>\n",
       "      <td>60</td>\n",
       "    </tr>\n",
       "    <tr>\n",
       "      <th>84</th>\n",
       "      <td>4995</td>\n",
       "      <td>NaN</td>\n",
       "      <td>hyundai elantra</td>\n",
       "      <td>like new</td>\n",
       "      <td>4.0</td>\n",
       "      <td>gas</td>\n",
       "      <td>151223.0</td>\n",
       "      <td>automatic</td>\n",
       "      <td>sedan</td>\n",
       "      <td>custom</td>\n",
       "      <td>0.0</td>\n",
       "      <td>2018-09-15</td>\n",
       "      <td>1</td>\n",
       "    </tr>\n",
       "    <tr>\n",
       "      <th>102</th>\n",
       "      <td>10800</td>\n",
       "      <td>NaN</td>\n",
       "      <td>chevrolet colorado</td>\n",
       "      <td>excellent</td>\n",
       "      <td>5.0</td>\n",
       "      <td>gas</td>\n",
       "      <td>114922.0</td>\n",
       "      <td>automatic</td>\n",
       "      <td>truck</td>\n",
       "      <td>red</td>\n",
       "      <td>1.0</td>\n",
       "      <td>2018-06-23</td>\n",
       "      <td>35</td>\n",
       "    </tr>\n",
       "    <tr>\n",
       "      <th>114</th>\n",
       "      <td>23700</td>\n",
       "      <td>NaN</td>\n",
       "      <td>nissan frontier crew cab sv</td>\n",
       "      <td>good</td>\n",
       "      <td>6.0</td>\n",
       "      <td>gas</td>\n",
       "      <td>12901.0</td>\n",
       "      <td>other</td>\n",
       "      <td>pickup</td>\n",
       "      <td>black</td>\n",
       "      <td>1.0</td>\n",
       "      <td>2018-09-21</td>\n",
       "      <td>8</td>\n",
       "    </tr>\n",
       "    <tr>\n",
       "      <th>116</th>\n",
       "      <td>25300</td>\n",
       "      <td>NaN</td>\n",
       "      <td>chevrolet camaro lt coupe 2d</td>\n",
       "      <td>good</td>\n",
       "      <td>6.0</td>\n",
       "      <td>gas</td>\n",
       "      <td>3568.0</td>\n",
       "      <td>other</td>\n",
       "      <td>coupe</td>\n",
       "      <td>NaN</td>\n",
       "      <td>0.0</td>\n",
       "      <td>2018-06-16</td>\n",
       "      <td>34</td>\n",
       "    </tr>\n",
       "    <tr>\n",
       "      <th>144</th>\n",
       "      <td>8995</td>\n",
       "      <td>NaN</td>\n",
       "      <td>chevrolet silverado 1500</td>\n",
       "      <td>excellent</td>\n",
       "      <td>8.0</td>\n",
       "      <td>gas</td>\n",
       "      <td>119726.0</td>\n",
       "      <td>automatic</td>\n",
       "      <td>truck</td>\n",
       "      <td>grey</td>\n",
       "      <td>1.0</td>\n",
       "      <td>2019-03-18</td>\n",
       "      <td>27</td>\n",
       "    </tr>\n",
       "  </tbody>\n",
       "</table>\n",
       "</div>"
      ],
      "text/plain": [
       "     price  model_year                         model  condition  cylinders  \\\n",
       "1    25500         NaN                    ford f-150       good        6.0   \n",
       "20    6990         NaN               chevrolet tahoe  excellent        8.0   \n",
       "65   12800         NaN                    ford f-150  excellent        6.0   \n",
       "69    7800         NaN                    ford f-150   like new        8.0   \n",
       "72    3650         NaN                subaru impreza  excellent        NaN   \n",
       "84    4995         NaN               hyundai elantra   like new        4.0   \n",
       "102  10800         NaN            chevrolet colorado  excellent        5.0   \n",
       "114  23700         NaN   nissan frontier crew cab sv       good        6.0   \n",
       "116  25300         NaN  chevrolet camaro lt coupe 2d       good        6.0   \n",
       "144   8995         NaN      chevrolet silverado 1500  excellent        8.0   \n",
       "\n",
       "    fuel  odometer transmission    type paint_color  is_4wd date_posted  \\\n",
       "1    gas   88705.0    automatic  pickup       white     1.0  2018-10-19   \n",
       "20   gas  147485.0    automatic     SUV      silver     1.0  2018-08-05   \n",
       "65   gas  108500.0    automatic  pickup       white     0.0  2018-09-23   \n",
       "69   gas   97510.0    automatic   truck       white     1.0  2019-02-20   \n",
       "72   gas   74000.0    automatic   sedan        blue     1.0  2018-08-07   \n",
       "84   gas  151223.0    automatic   sedan      custom     0.0  2018-09-15   \n",
       "102  gas  114922.0    automatic   truck         red     1.0  2018-06-23   \n",
       "114  gas   12901.0        other  pickup       black     1.0  2018-09-21   \n",
       "116  gas    3568.0        other   coupe         NaN     0.0  2018-06-16   \n",
       "144  gas  119726.0    automatic   truck        grey     1.0  2019-03-18   \n",
       "\n",
       "     days_listed  \n",
       "1             50  \n",
       "20            28  \n",
       "65            15  \n",
       "69            39  \n",
       "72            60  \n",
       "84             1  \n",
       "102           35  \n",
       "114            8  \n",
       "116           34  \n",
       "144           27  "
      ]
     },
     "execution_count": 11,
     "metadata": {},
     "output_type": "execute_result"
    }
   ],
   "source": [
    "#view sample of rows with missing data in model year\n",
    "data[data['model_year'].isna()].head(10)"
   ]
  },
  {
   "cell_type": "code",
   "execution_count": 12,
   "metadata": {},
   "outputs": [],
   "source": [
    "#handling missing value in model_year\n",
    "# fill missing value in model_year with the median year based on the condition of the car\n",
    "data['model_year']=data['model_year'].fillna(data.groupby('condition')['model_year'].transform('median'))"
   ]
  },
  {
   "cell_type": "markdown",
   "metadata": {},
   "source": [
    "Over 7% of data missing in the model year column. The condition of the car is a logical predictor of the model year of the vehicle. Hence the missing values model year values were filled using the median year of the vehicle condition they fall under"
   ]
  },
  {
   "cell_type": "code",
   "execution_count": 13,
   "metadata": {},
   "outputs": [
    {
     "data": {
      "text/html": [
       "<div>\n",
       "<style scoped>\n",
       "    .dataframe tbody tr th:only-of-type {\n",
       "        vertical-align: middle;\n",
       "    }\n",
       "\n",
       "    .dataframe tbody tr th {\n",
       "        vertical-align: top;\n",
       "    }\n",
       "\n",
       "    .dataframe thead th {\n",
       "        text-align: right;\n",
       "    }\n",
       "</style>\n",
       "<table border=\"1\" class=\"dataframe\">\n",
       "  <thead>\n",
       "    <tr style=\"text-align: right;\">\n",
       "      <th></th>\n",
       "      <th>price</th>\n",
       "      <th>model_year</th>\n",
       "      <th>model</th>\n",
       "      <th>condition</th>\n",
       "      <th>cylinders</th>\n",
       "      <th>fuel</th>\n",
       "      <th>odometer</th>\n",
       "      <th>transmission</th>\n",
       "      <th>type</th>\n",
       "      <th>paint_color</th>\n",
       "      <th>is_4wd</th>\n",
       "      <th>date_posted</th>\n",
       "      <th>days_listed</th>\n",
       "    </tr>\n",
       "  </thead>\n",
       "  <tbody>\n",
       "    <tr>\n",
       "      <th>3</th>\n",
       "      <td>1500</td>\n",
       "      <td>2003.0</td>\n",
       "      <td>ford f-150</td>\n",
       "      <td>fair</td>\n",
       "      <td>8.0</td>\n",
       "      <td>gas</td>\n",
       "      <td>NaN</td>\n",
       "      <td>automatic</td>\n",
       "      <td>pickup</td>\n",
       "      <td>NaN</td>\n",
       "      <td>0.0</td>\n",
       "      <td>2019-03-22</td>\n",
       "      <td>9</td>\n",
       "    </tr>\n",
       "    <tr>\n",
       "      <th>15</th>\n",
       "      <td>17990</td>\n",
       "      <td>2013.0</td>\n",
       "      <td>ram 1500</td>\n",
       "      <td>excellent</td>\n",
       "      <td>8.0</td>\n",
       "      <td>gas</td>\n",
       "      <td>NaN</td>\n",
       "      <td>automatic</td>\n",
       "      <td>pickup</td>\n",
       "      <td>red</td>\n",
       "      <td>1.0</td>\n",
       "      <td>2018-05-15</td>\n",
       "      <td>111</td>\n",
       "    </tr>\n",
       "    <tr>\n",
       "      <th>23</th>\n",
       "      <td>7500</td>\n",
       "      <td>2004.0</td>\n",
       "      <td>jeep wrangler</td>\n",
       "      <td>good</td>\n",
       "      <td>6.0</td>\n",
       "      <td>gas</td>\n",
       "      <td>NaN</td>\n",
       "      <td>automatic</td>\n",
       "      <td>SUV</td>\n",
       "      <td>red</td>\n",
       "      <td>1.0</td>\n",
       "      <td>2018-05-17</td>\n",
       "      <td>39</td>\n",
       "    </tr>\n",
       "    <tr>\n",
       "      <th>24</th>\n",
       "      <td>3950</td>\n",
       "      <td>2009.0</td>\n",
       "      <td>chrysler 200</td>\n",
       "      <td>excellent</td>\n",
       "      <td>4.0</td>\n",
       "      <td>gas</td>\n",
       "      <td>NaN</td>\n",
       "      <td>automatic</td>\n",
       "      <td>sedan</td>\n",
       "      <td>red</td>\n",
       "      <td>0.0</td>\n",
       "      <td>2018-06-11</td>\n",
       "      <td>40</td>\n",
       "    </tr>\n",
       "    <tr>\n",
       "      <th>25</th>\n",
       "      <td>11499</td>\n",
       "      <td>2017.0</td>\n",
       "      <td>chevrolet malibu</td>\n",
       "      <td>like new</td>\n",
       "      <td>4.0</td>\n",
       "      <td>gas</td>\n",
       "      <td>NaN</td>\n",
       "      <td>automatic</td>\n",
       "      <td>sedan</td>\n",
       "      <td>NaN</td>\n",
       "      <td>0.0</td>\n",
       "      <td>2018-07-26</td>\n",
       "      <td>43</td>\n",
       "    </tr>\n",
       "    <tr>\n",
       "      <th>29</th>\n",
       "      <td>5495</td>\n",
       "      <td>2010.0</td>\n",
       "      <td>chevrolet impala</td>\n",
       "      <td>excellent</td>\n",
       "      <td>6.0</td>\n",
       "      <td>gas</td>\n",
       "      <td>NaN</td>\n",
       "      <td>automatic</td>\n",
       "      <td>sedan</td>\n",
       "      <td>white</td>\n",
       "      <td>0.0</td>\n",
       "      <td>2019-02-18</td>\n",
       "      <td>20</td>\n",
       "    </tr>\n",
       "    <tr>\n",
       "      <th>38</th>\n",
       "      <td>7999</td>\n",
       "      <td>2015.0</td>\n",
       "      <td>chrysler 200</td>\n",
       "      <td>good</td>\n",
       "      <td>4.0</td>\n",
       "      <td>gas</td>\n",
       "      <td>NaN</td>\n",
       "      <td>automatic</td>\n",
       "      <td>sedan</td>\n",
       "      <td>NaN</td>\n",
       "      <td>0.0</td>\n",
       "      <td>2019-03-08</td>\n",
       "      <td>29</td>\n",
       "    </tr>\n",
       "    <tr>\n",
       "      <th>41</th>\n",
       "      <td>11995</td>\n",
       "      <td>2017.0</td>\n",
       "      <td>nissan rogue</td>\n",
       "      <td>like new</td>\n",
       "      <td>4.0</td>\n",
       "      <td>gas</td>\n",
       "      <td>NaN</td>\n",
       "      <td>automatic</td>\n",
       "      <td>SUV</td>\n",
       "      <td>silver</td>\n",
       "      <td>1.0</td>\n",
       "      <td>2018-09-20</td>\n",
       "      <td>21</td>\n",
       "    </tr>\n",
       "    <tr>\n",
       "      <th>42</th>\n",
       "      <td>34900</td>\n",
       "      <td>2013.0</td>\n",
       "      <td>mercedes-benz benze sprinter 2500</td>\n",
       "      <td>excellent</td>\n",
       "      <td>6.0</td>\n",
       "      <td>diesel</td>\n",
       "      <td>NaN</td>\n",
       "      <td>automatic</td>\n",
       "      <td>van</td>\n",
       "      <td>black</td>\n",
       "      <td>0.0</td>\n",
       "      <td>2019-01-15</td>\n",
       "      <td>16</td>\n",
       "    </tr>\n",
       "    <tr>\n",
       "      <th>56</th>\n",
       "      <td>4200</td>\n",
       "      <td>2006.0</td>\n",
       "      <td>jeep grand cherokee</td>\n",
       "      <td>excellent</td>\n",
       "      <td>6.0</td>\n",
       "      <td>gas</td>\n",
       "      <td>NaN</td>\n",
       "      <td>automatic</td>\n",
       "      <td>SUV</td>\n",
       "      <td>white</td>\n",
       "      <td>1.0</td>\n",
       "      <td>2018-07-01</td>\n",
       "      <td>79</td>\n",
       "    </tr>\n",
       "    <tr>\n",
       "      <th>58</th>\n",
       "      <td>3200</td>\n",
       "      <td>2004.0</td>\n",
       "      <td>bmw x5</td>\n",
       "      <td>excellent</td>\n",
       "      <td>6.0</td>\n",
       "      <td>gas</td>\n",
       "      <td>NaN</td>\n",
       "      <td>automatic</td>\n",
       "      <td>SUV</td>\n",
       "      <td>black</td>\n",
       "      <td>1.0</td>\n",
       "      <td>2019-04-09</td>\n",
       "      <td>10</td>\n",
       "    </tr>\n",
       "    <tr>\n",
       "      <th>66</th>\n",
       "      <td>14999</td>\n",
       "      <td>2013.0</td>\n",
       "      <td>chevrolet silverado 3500hd</td>\n",
       "      <td>good</td>\n",
       "      <td>8.0</td>\n",
       "      <td>gas</td>\n",
       "      <td>NaN</td>\n",
       "      <td>automatic</td>\n",
       "      <td>truck</td>\n",
       "      <td>white</td>\n",
       "      <td>1.0</td>\n",
       "      <td>2018-05-09</td>\n",
       "      <td>22</td>\n",
       "    </tr>\n",
       "    <tr>\n",
       "      <th>70</th>\n",
       "      <td>5500</td>\n",
       "      <td>2006.0</td>\n",
       "      <td>honda accord</td>\n",
       "      <td>good</td>\n",
       "      <td>4.0</td>\n",
       "      <td>gas</td>\n",
       "      <td>NaN</td>\n",
       "      <td>automatic</td>\n",
       "      <td>sedan</td>\n",
       "      <td>silver</td>\n",
       "      <td>0.0</td>\n",
       "      <td>2018-11-27</td>\n",
       "      <td>15</td>\n",
       "    </tr>\n",
       "    <tr>\n",
       "      <th>74</th>\n",
       "      <td>9950</td>\n",
       "      <td>2008.0</td>\n",
       "      <td>toyota 4runner</td>\n",
       "      <td>excellent</td>\n",
       "      <td>6.0</td>\n",
       "      <td>gas</td>\n",
       "      <td>NaN</td>\n",
       "      <td>automatic</td>\n",
       "      <td>SUV</td>\n",
       "      <td>silver</td>\n",
       "      <td>1.0</td>\n",
       "      <td>2018-06-08</td>\n",
       "      <td>53</td>\n",
       "    </tr>\n",
       "    <tr>\n",
       "      <th>88</th>\n",
       "      <td>26000</td>\n",
       "      <td>2017.0</td>\n",
       "      <td>ford mustang gt coupe 2d</td>\n",
       "      <td>good</td>\n",
       "      <td>8.0</td>\n",
       "      <td>gas</td>\n",
       "      <td>NaN</td>\n",
       "      <td>other</td>\n",
       "      <td>coupe</td>\n",
       "      <td>yellow</td>\n",
       "      <td>0.0</td>\n",
       "      <td>2018-11-26</td>\n",
       "      <td>31</td>\n",
       "    </tr>\n",
       "  </tbody>\n",
       "</table>\n",
       "</div>"
      ],
      "text/plain": [
       "    price  model_year                              model  condition  \\\n",
       "3    1500      2003.0                         ford f-150       fair   \n",
       "15  17990      2013.0                           ram 1500  excellent   \n",
       "23   7500      2004.0                      jeep wrangler       good   \n",
       "24   3950      2009.0                       chrysler 200  excellent   \n",
       "25  11499      2017.0                   chevrolet malibu   like new   \n",
       "29   5495      2010.0                   chevrolet impala  excellent   \n",
       "38   7999      2015.0                       chrysler 200       good   \n",
       "41  11995      2017.0                       nissan rogue   like new   \n",
       "42  34900      2013.0  mercedes-benz benze sprinter 2500  excellent   \n",
       "56   4200      2006.0                jeep grand cherokee  excellent   \n",
       "58   3200      2004.0                             bmw x5  excellent   \n",
       "66  14999      2013.0         chevrolet silverado 3500hd       good   \n",
       "70   5500      2006.0                       honda accord       good   \n",
       "74   9950      2008.0                     toyota 4runner  excellent   \n",
       "88  26000      2017.0           ford mustang gt coupe 2d       good   \n",
       "\n",
       "    cylinders    fuel  odometer transmission    type paint_color  is_4wd  \\\n",
       "3         8.0     gas       NaN    automatic  pickup         NaN     0.0   \n",
       "15        8.0     gas       NaN    automatic  pickup         red     1.0   \n",
       "23        6.0     gas       NaN    automatic     SUV         red     1.0   \n",
       "24        4.0     gas       NaN    automatic   sedan         red     0.0   \n",
       "25        4.0     gas       NaN    automatic   sedan         NaN     0.0   \n",
       "29        6.0     gas       NaN    automatic   sedan       white     0.0   \n",
       "38        4.0     gas       NaN    automatic   sedan         NaN     0.0   \n",
       "41        4.0     gas       NaN    automatic     SUV      silver     1.0   \n",
       "42        6.0  diesel       NaN    automatic     van       black     0.0   \n",
       "56        6.0     gas       NaN    automatic     SUV       white     1.0   \n",
       "58        6.0     gas       NaN    automatic     SUV       black     1.0   \n",
       "66        8.0     gas       NaN    automatic   truck       white     1.0   \n",
       "70        4.0     gas       NaN    automatic   sedan      silver     0.0   \n",
       "74        6.0     gas       NaN    automatic     SUV      silver     1.0   \n",
       "88        8.0     gas       NaN        other   coupe      yellow     0.0   \n",
       "\n",
       "   date_posted  days_listed  \n",
       "3   2019-03-22            9  \n",
       "15  2018-05-15          111  \n",
       "23  2018-05-17           39  \n",
       "24  2018-06-11           40  \n",
       "25  2018-07-26           43  \n",
       "29  2019-02-18           20  \n",
       "38  2019-03-08           29  \n",
       "41  2018-09-20           21  \n",
       "42  2019-01-15           16  \n",
       "56  2018-07-01           79  \n",
       "58  2019-04-09           10  \n",
       "66  2018-05-09           22  \n",
       "70  2018-11-27           15  \n",
       "74  2018-06-08           53  \n",
       "88  2018-11-26           31  "
      ]
     },
     "execution_count": 13,
     "metadata": {},
     "output_type": "execute_result"
    }
   ],
   "source": [
    "#view sample row of missing value in odometer\n",
    "data[data['odometer'].isna()].head(15)"
   ]
  },
  {
   "cell_type": "code",
   "execution_count": 14,
   "metadata": {},
   "outputs": [
    {
     "data": {
      "image/png": "[encoded data removed]",
      "text/plain": [
       "<Figure size 432x288 with 1 Axes>"
      ]
     },
     "metadata": {},
     "output_type": "display_data"
    }
   ],
   "source": [
    "data.plot(kind='scatter', x='model_year', y='odometer', c='red', alpha=0.5)\n",
    "plt.show()"
   ]
  },
  {
   "cell_type": "code",
   "execution_count": 15,
   "metadata": {},
   "outputs": [
    {
     "data": {
      "text/plain": [
       "price         -0.420299\n",
       "model_year    -0.462296\n",
       "cylinders      0.090160\n",
       "odometer       1.000000\n",
       "is_4wd         0.036267\n",
       "days_listed    0.003804\n",
       "Name: odometer, dtype: float64"
      ]
     },
     "execution_count": 15,
     "metadata": {},
     "output_type": "execute_result"
    }
   ],
   "source": [
    "data.corr()['odometer']"
   ]
  },
  {
   "cell_type": "markdown",
   "metadata": {},
   "source": [
    "The plot shows a trend relationship between odometer and the model year of the vehicle. Hence the model year of the car will be used to estimate the odometer of the vehicle where missing.\n",
    "\n",
    "The model year will be grouped into categories and the median of each category will be used to fill the missing values"
   ]
  },
  {
   "cell_type": "code",
   "execution_count": 16,
   "metadata": {},
   "outputs": [],
   "source": [
    "#function to categorize year into 4 groups\n",
    "def year_cat(year):\n",
    "    if year < 1960:\n",
    "        return 'super vintage'\n",
    "    elif year< 1980:\n",
    "        return 'vintage'\n",
    "    elif year<2000:\n",
    "        return 'old'\n",
    "    else:\n",
    "        return 'current'\n"
   ]
  },
  {
   "cell_type": "code",
   "execution_count": 17,
   "metadata": {},
   "outputs": [
    {
     "data": {
      "text/html": [
       "<div>\n",
       "<style scoped>\n",
       "    .dataframe tbody tr th:only-of-type {\n",
       "        vertical-align: middle;\n",
       "    }\n",
       "\n",
       "    .dataframe tbody tr th {\n",
       "        vertical-align: top;\n",
       "    }\n",
       "\n",
       "    .dataframe thead th {\n",
       "        text-align: right;\n",
       "    }\n",
       "</style>\n",
       "<table border=\"1\" class=\"dataframe\">\n",
       "  <thead>\n",
       "    <tr style=\"text-align: right;\">\n",
       "      <th></th>\n",
       "      <th>price</th>\n",
       "      <th>model_year</th>\n",
       "      <th>model</th>\n",
       "      <th>condition</th>\n",
       "      <th>cylinders</th>\n",
       "      <th>fuel</th>\n",
       "      <th>odometer</th>\n",
       "      <th>transmission</th>\n",
       "      <th>type</th>\n",
       "      <th>paint_color</th>\n",
       "      <th>is_4wd</th>\n",
       "      <th>date_posted</th>\n",
       "      <th>days_listed</th>\n",
       "      <th>year_category</th>\n",
       "    </tr>\n",
       "  </thead>\n",
       "  <tbody>\n",
       "    <tr>\n",
       "      <th>0</th>\n",
       "      <td>9400</td>\n",
       "      <td>2011.0</td>\n",
       "      <td>bmw x5</td>\n",
       "      <td>good</td>\n",
       "      <td>6.0</td>\n",
       "      <td>gas</td>\n",
       "      <td>145000.0</td>\n",
       "      <td>automatic</td>\n",
       "      <td>SUV</td>\n",
       "      <td>NaN</td>\n",
       "      <td>1.0</td>\n",
       "      <td>2018-06-23</td>\n",
       "      <td>19</td>\n",
       "      <td>current</td>\n",
       "    </tr>\n",
       "    <tr>\n",
       "      <th>1</th>\n",
       "      <td>25500</td>\n",
       "      <td>2009.0</td>\n",
       "      <td>ford f-150</td>\n",
       "      <td>good</td>\n",
       "      <td>6.0</td>\n",
       "      <td>gas</td>\n",
       "      <td>88705.0</td>\n",
       "      <td>automatic</td>\n",
       "      <td>pickup</td>\n",
       "      <td>white</td>\n",
       "      <td>1.0</td>\n",
       "      <td>2018-10-19</td>\n",
       "      <td>50</td>\n",
       "      <td>current</td>\n",
       "    </tr>\n",
       "    <tr>\n",
       "      <th>2</th>\n",
       "      <td>5500</td>\n",
       "      <td>2013.0</td>\n",
       "      <td>hyundai sonata</td>\n",
       "      <td>like new</td>\n",
       "      <td>4.0</td>\n",
       "      <td>gas</td>\n",
       "      <td>110000.0</td>\n",
       "      <td>automatic</td>\n",
       "      <td>sedan</td>\n",
       "      <td>red</td>\n",
       "      <td>0.0</td>\n",
       "      <td>2019-02-07</td>\n",
       "      <td>79</td>\n",
       "      <td>current</td>\n",
       "    </tr>\n",
       "    <tr>\n",
       "      <th>3</th>\n",
       "      <td>1500</td>\n",
       "      <td>2003.0</td>\n",
       "      <td>ford f-150</td>\n",
       "      <td>fair</td>\n",
       "      <td>8.0</td>\n",
       "      <td>gas</td>\n",
       "      <td>NaN</td>\n",
       "      <td>automatic</td>\n",
       "      <td>pickup</td>\n",
       "      <td>NaN</td>\n",
       "      <td>0.0</td>\n",
       "      <td>2019-03-22</td>\n",
       "      <td>9</td>\n",
       "      <td>current</td>\n",
       "    </tr>\n",
       "    <tr>\n",
       "      <th>4</th>\n",
       "      <td>14900</td>\n",
       "      <td>2017.0</td>\n",
       "      <td>chrysler 200</td>\n",
       "      <td>excellent</td>\n",
       "      <td>4.0</td>\n",
       "      <td>gas</td>\n",
       "      <td>80903.0</td>\n",
       "      <td>automatic</td>\n",
       "      <td>sedan</td>\n",
       "      <td>black</td>\n",
       "      <td>0.0</td>\n",
       "      <td>2019-04-02</td>\n",
       "      <td>28</td>\n",
       "      <td>current</td>\n",
       "    </tr>\n",
       "  </tbody>\n",
       "</table>\n",
       "</div>"
      ],
      "text/plain": [
       "   price  model_year           model  condition  cylinders fuel  odometer  \\\n",
       "0   9400      2011.0          bmw x5       good        6.0  gas  145000.0   \n",
       "1  25500      2009.0      ford f-150       good        6.0  gas   88705.0   \n",
       "2   5500      2013.0  hyundai sonata   like new        4.0  gas  110000.0   \n",
       "3   1500      2003.0      ford f-150       fair        8.0  gas       NaN   \n",
       "4  14900      2017.0    chrysler 200  excellent        4.0  gas   80903.0   \n",
       "\n",
       "  transmission    type paint_color  is_4wd date_posted  days_listed  \\\n",
       "0    automatic     SUV         NaN     1.0  2018-06-23           19   \n",
       "1    automatic  pickup       white     1.0  2018-10-19           50   \n",
       "2    automatic   sedan         red     0.0  2019-02-07           79   \n",
       "3    automatic  pickup         NaN     0.0  2019-03-22            9   \n",
       "4    automatic   sedan       black     0.0  2019-04-02           28   \n",
       "\n",
       "  year_category  \n",
       "0       current  \n",
       "1       current  \n",
       "2       current  \n",
       "3       current  \n",
       "4       current  "
      ]
     },
     "execution_count": 17,
     "metadata": {},
     "output_type": "execute_result"
    }
   ],
   "source": [
    "#apply function to model_year\n",
    "data['year_category']=data['model_year'].apply(year_cat)\n",
    "data.head()"
   ]
  },
  {
   "cell_type": "code",
   "execution_count": 18,
   "metadata": {},
   "outputs": [
    {
     "data": {
      "text/plain": [
       "year_category\n",
       "current          111526.0\n",
       "old              165000.0\n",
       "super vintage     17000.0\n",
       "vintage           60005.0\n",
       "Name: odometer, dtype: float64"
      ]
     },
     "execution_count": 18,
     "metadata": {},
     "output_type": "execute_result"
    }
   ],
   "source": [
    "#median odometer for each year category\n",
    "data.groupby('year_category')['odometer'].median()"
   ]
  },
  {
   "cell_type": "code",
   "execution_count": 19,
   "metadata": {},
   "outputs": [],
   "source": [
    "#fill missing values in odometer with the median odometer value for that year category\n",
    "data['odometer']=data['odometer'].fillna(data.groupby('year_category')['odometer'].transform('median'))"
   ]
  },
  {
   "cell_type": "code",
   "execution_count": 20,
   "metadata": {},
   "outputs": [
    {
     "data": {
      "text/html": [
       "<div>\n",
       "<style scoped>\n",
       "    .dataframe tbody tr th:only-of-type {\n",
       "        vertical-align: middle;\n",
       "    }\n",
       "\n",
       "    .dataframe tbody tr th {\n",
       "        vertical-align: top;\n",
       "    }\n",
       "\n",
       "    .dataframe thead th {\n",
       "        text-align: right;\n",
       "    }\n",
       "</style>\n",
       "<table border=\"1\" class=\"dataframe\">\n",
       "  <thead>\n",
       "    <tr style=\"text-align: right;\">\n",
       "      <th></th>\n",
       "      <th>price</th>\n",
       "      <th>model_year</th>\n",
       "      <th>model</th>\n",
       "      <th>condition</th>\n",
       "      <th>cylinders</th>\n",
       "      <th>fuel</th>\n",
       "      <th>odometer</th>\n",
       "      <th>transmission</th>\n",
       "      <th>type</th>\n",
       "      <th>paint_color</th>\n",
       "      <th>is_4wd</th>\n",
       "      <th>date_posted</th>\n",
       "      <th>days_listed</th>\n",
       "      <th>year_category</th>\n",
       "    </tr>\n",
       "  </thead>\n",
       "  <tbody>\n",
       "    <tr>\n",
       "      <th>0</th>\n",
       "      <td>9400</td>\n",
       "      <td>2011.0</td>\n",
       "      <td>bmw x5</td>\n",
       "      <td>good</td>\n",
       "      <td>6.0</td>\n",
       "      <td>gas</td>\n",
       "      <td>145000.0</td>\n",
       "      <td>automatic</td>\n",
       "      <td>SUV</td>\n",
       "      <td>NaN</td>\n",
       "      <td>1.0</td>\n",
       "      <td>2018-06-23</td>\n",
       "      <td>19</td>\n",
       "      <td>current</td>\n",
       "    </tr>\n",
       "    <tr>\n",
       "      <th>3</th>\n",
       "      <td>1500</td>\n",
       "      <td>2003.0</td>\n",
       "      <td>ford f-150</td>\n",
       "      <td>fair</td>\n",
       "      <td>8.0</td>\n",
       "      <td>gas</td>\n",
       "      <td>111526.0</td>\n",
       "      <td>automatic</td>\n",
       "      <td>pickup</td>\n",
       "      <td>NaN</td>\n",
       "      <td>0.0</td>\n",
       "      <td>2019-03-22</td>\n",
       "      <td>9</td>\n",
       "      <td>current</td>\n",
       "    </tr>\n",
       "    <tr>\n",
       "      <th>8</th>\n",
       "      <td>11500</td>\n",
       "      <td>2012.0</td>\n",
       "      <td>kia sorento</td>\n",
       "      <td>excellent</td>\n",
       "      <td>4.0</td>\n",
       "      <td>gas</td>\n",
       "      <td>104174.0</td>\n",
       "      <td>automatic</td>\n",
       "      <td>SUV</td>\n",
       "      <td>NaN</td>\n",
       "      <td>1.0</td>\n",
       "      <td>2018-07-16</td>\n",
       "      <td>19</td>\n",
       "      <td>current</td>\n",
       "    </tr>\n",
       "    <tr>\n",
       "      <th>12</th>\n",
       "      <td>18990</td>\n",
       "      <td>2012.0</td>\n",
       "      <td>ram 1500</td>\n",
       "      <td>excellent</td>\n",
       "      <td>8.0</td>\n",
       "      <td>gas</td>\n",
       "      <td>140742.0</td>\n",
       "      <td>automatic</td>\n",
       "      <td>pickup</td>\n",
       "      <td>NaN</td>\n",
       "      <td>1.0</td>\n",
       "      <td>2019-04-02</td>\n",
       "      <td>37</td>\n",
       "      <td>current</td>\n",
       "    </tr>\n",
       "    <tr>\n",
       "      <th>21</th>\n",
       "      <td>5250</td>\n",
       "      <td>2007.0</td>\n",
       "      <td>toyota rav4</td>\n",
       "      <td>good</td>\n",
       "      <td>6.0</td>\n",
       "      <td>gas</td>\n",
       "      <td>154000.0</td>\n",
       "      <td>automatic</td>\n",
       "      <td>SUV</td>\n",
       "      <td>NaN</td>\n",
       "      <td>0.0</td>\n",
       "      <td>2018-08-22</td>\n",
       "      <td>8</td>\n",
       "      <td>current</td>\n",
       "    </tr>\n",
       "    <tr>\n",
       "      <th>25</th>\n",
       "      <td>11499</td>\n",
       "      <td>2017.0</td>\n",
       "      <td>chevrolet malibu</td>\n",
       "      <td>like new</td>\n",
       "      <td>4.0</td>\n",
       "      <td>gas</td>\n",
       "      <td>111526.0</td>\n",
       "      <td>automatic</td>\n",
       "      <td>sedan</td>\n",
       "      <td>NaN</td>\n",
       "      <td>0.0</td>\n",
       "      <td>2018-07-26</td>\n",
       "      <td>43</td>\n",
       "      <td>current</td>\n",
       "    </tr>\n",
       "    <tr>\n",
       "      <th>31</th>\n",
       "      <td>11999</td>\n",
       "      <td>2017.0</td>\n",
       "      <td>toyota camry le</td>\n",
       "      <td>excellent</td>\n",
       "      <td>4.0</td>\n",
       "      <td>gas</td>\n",
       "      <td>35721.0</td>\n",
       "      <td>automatic</td>\n",
       "      <td>sedan</td>\n",
       "      <td>NaN</td>\n",
       "      <td>0.0</td>\n",
       "      <td>2018-09-13</td>\n",
       "      <td>25</td>\n",
       "      <td>current</td>\n",
       "    </tr>\n",
       "    <tr>\n",
       "      <th>34</th>\n",
       "      <td>9500</td>\n",
       "      <td>2008.0</td>\n",
       "      <td>toyota highlander</td>\n",
       "      <td>good</td>\n",
       "      <td>6.0</td>\n",
       "      <td>gas</td>\n",
       "      <td>149799.0</td>\n",
       "      <td>automatic</td>\n",
       "      <td>SUV</td>\n",
       "      <td>NaN</td>\n",
       "      <td>0.0</td>\n",
       "      <td>2018-06-04</td>\n",
       "      <td>121</td>\n",
       "      <td>current</td>\n",
       "    </tr>\n",
       "    <tr>\n",
       "      <th>35</th>\n",
       "      <td>14999</td>\n",
       "      <td>2015.0</td>\n",
       "      <td>dodge charger</td>\n",
       "      <td>good</td>\n",
       "      <td>6.0</td>\n",
       "      <td>gas</td>\n",
       "      <td>63037.0</td>\n",
       "      <td>automatic</td>\n",
       "      <td>sedan</td>\n",
       "      <td>NaN</td>\n",
       "      <td>0.0</td>\n",
       "      <td>2018-05-11</td>\n",
       "      <td>37</td>\n",
       "      <td>current</td>\n",
       "    </tr>\n",
       "    <tr>\n",
       "      <th>36</th>\n",
       "      <td>10499</td>\n",
       "      <td>2013.0</td>\n",
       "      <td>chrysler 300</td>\n",
       "      <td>good</td>\n",
       "      <td>NaN</td>\n",
       "      <td>gas</td>\n",
       "      <td>88042.0</td>\n",
       "      <td>automatic</td>\n",
       "      <td>sedan</td>\n",
       "      <td>NaN</td>\n",
       "      <td>0.0</td>\n",
       "      <td>2018-05-05</td>\n",
       "      <td>22</td>\n",
       "      <td>current</td>\n",
       "    </tr>\n",
       "    <tr>\n",
       "      <th>37</th>\n",
       "      <td>7500</td>\n",
       "      <td>2005.0</td>\n",
       "      <td>toyota tacoma</td>\n",
       "      <td>good</td>\n",
       "      <td>NaN</td>\n",
       "      <td>gas</td>\n",
       "      <td>160000.0</td>\n",
       "      <td>automatic</td>\n",
       "      <td>pickup</td>\n",
       "      <td>NaN</td>\n",
       "      <td>0.0</td>\n",
       "      <td>2018-07-22</td>\n",
       "      <td>44</td>\n",
       "      <td>current</td>\n",
       "    </tr>\n",
       "    <tr>\n",
       "      <th>38</th>\n",
       "      <td>7999</td>\n",
       "      <td>2015.0</td>\n",
       "      <td>chrysler 200</td>\n",
       "      <td>good</td>\n",
       "      <td>4.0</td>\n",
       "      <td>gas</td>\n",
       "      <td>111526.0</td>\n",
       "      <td>automatic</td>\n",
       "      <td>sedan</td>\n",
       "      <td>NaN</td>\n",
       "      <td>0.0</td>\n",
       "      <td>2019-03-08</td>\n",
       "      <td>29</td>\n",
       "      <td>current</td>\n",
       "    </tr>\n",
       "    <tr>\n",
       "      <th>44</th>\n",
       "      <td>4500</td>\n",
       "      <td>2004.0</td>\n",
       "      <td>jeep grand cherokee</td>\n",
       "      <td>good</td>\n",
       "      <td>6.0</td>\n",
       "      <td>gas</td>\n",
       "      <td>168821.0</td>\n",
       "      <td>automatic</td>\n",
       "      <td>SUV</td>\n",
       "      <td>NaN</td>\n",
       "      <td>1.0</td>\n",
       "      <td>2019-01-31</td>\n",
       "      <td>60</td>\n",
       "      <td>current</td>\n",
       "    </tr>\n",
       "    <tr>\n",
       "      <th>48</th>\n",
       "      <td>9500</td>\n",
       "      <td>2014.0</td>\n",
       "      <td>ford focus</td>\n",
       "      <td>excellent</td>\n",
       "      <td>4.0</td>\n",
       "      <td>diesel</td>\n",
       "      <td>46000.0</td>\n",
       "      <td>automatic</td>\n",
       "      <td>sedan</td>\n",
       "      <td>NaN</td>\n",
       "      <td>0.0</td>\n",
       "      <td>2018-10-09</td>\n",
       "      <td>24</td>\n",
       "      <td>current</td>\n",
       "    </tr>\n",
       "    <tr>\n",
       "      <th>55</th>\n",
       "      <td>19700</td>\n",
       "      <td>2017.0</td>\n",
       "      <td>chevrolet camaro lt coupe 2d</td>\n",
       "      <td>good</td>\n",
       "      <td>6.0</td>\n",
       "      <td>gas</td>\n",
       "      <td>35807.0</td>\n",
       "      <td>other</td>\n",
       "      <td>coupe</td>\n",
       "      <td>NaN</td>\n",
       "      <td>0.0</td>\n",
       "      <td>2018-05-16</td>\n",
       "      <td>99</td>\n",
       "      <td>current</td>\n",
       "    </tr>\n",
       "  </tbody>\n",
       "</table>\n",
       "</div>"
      ],
      "text/plain": [
       "    price  model_year                         model  condition  cylinders  \\\n",
       "0    9400      2011.0                        bmw x5       good        6.0   \n",
       "3    1500      2003.0                    ford f-150       fair        8.0   \n",
       "8   11500      2012.0                   kia sorento  excellent        4.0   \n",
       "12  18990      2012.0                      ram 1500  excellent        8.0   \n",
       "21   5250      2007.0                   toyota rav4       good        6.0   \n",
       "25  11499      2017.0              chevrolet malibu   like new        4.0   \n",
       "31  11999      2017.0               toyota camry le  excellent        4.0   \n",
       "34   9500      2008.0             toyota highlander       good        6.0   \n",
       "35  14999      2015.0                 dodge charger       good        6.0   \n",
       "36  10499      2013.0                  chrysler 300       good        NaN   \n",
       "37   7500      2005.0                 toyota tacoma       good        NaN   \n",
       "38   7999      2015.0                  chrysler 200       good        4.0   \n",
       "44   4500      2004.0           jeep grand cherokee       good        6.0   \n",
       "48   9500      2014.0                    ford focus  excellent        4.0   \n",
       "55  19700      2017.0  chevrolet camaro lt coupe 2d       good        6.0   \n",
       "\n",
       "      fuel  odometer transmission    type paint_color  is_4wd date_posted  \\\n",
       "0      gas  145000.0    automatic     SUV         NaN     1.0  2018-06-23   \n",
       "3      gas  111526.0    automatic  pickup         NaN     0.0  2019-03-22   \n",
       "8      gas  104174.0    automatic     SUV         NaN     1.0  2018-07-16   \n",
       "12     gas  140742.0    automatic  pickup         NaN     1.0  2019-04-02   \n",
       "21     gas  154000.0    automatic     SUV         NaN     0.0  2018-08-22   \n",
       "25     gas  111526.0    automatic   sedan         NaN     0.0  2018-07-26   \n",
       "31     gas   35721.0    automatic   sedan         NaN     0.0  2018-09-13   \n",
       "34     gas  149799.0    automatic     SUV         NaN     0.0  2018-06-04   \n",
       "35     gas   63037.0    automatic   sedan         NaN     0.0  2018-05-11   \n",
       "36     gas   88042.0    automatic   sedan         NaN     0.0  2018-05-05   \n",
       "37     gas  160000.0    automatic  pickup         NaN     0.0  2018-07-22   \n",
       "38     gas  111526.0    automatic   sedan         NaN     0.0  2019-03-08   \n",
       "44     gas  168821.0    automatic     SUV         NaN     1.0  2019-01-31   \n",
       "48  diesel   46000.0    automatic   sedan         NaN     0.0  2018-10-09   \n",
       "55     gas   35807.0        other   coupe         NaN     0.0  2018-05-16   \n",
       "\n",
       "    days_listed year_category  \n",
       "0            19       current  \n",
       "3             9       current  \n",
       "8            19       current  \n",
       "12           37       current  \n",
       "21            8       current  \n",
       "25           43       current  \n",
       "31           25       current  \n",
       "34          121       current  \n",
       "35           37       current  \n",
       "36           22       current  \n",
       "37           44       current  \n",
       "38           29       current  \n",
       "44           60       current  \n",
       "48           24       current  \n",
       "55           99       current  "
      ]
     },
     "execution_count": 20,
     "metadata": {},
     "output_type": "execute_result"
    }
   ],
   "source": [
    "#view sample row of  missing values in paint color\n",
    "data[data['paint_color'].isna()].head(15)"
   ]
  },
  {
   "cell_type": "code",
   "execution_count": 21,
   "metadata": {},
   "outputs": [
    {
     "data": {
      "text/plain": [
       "array([nan, 'white', 'red', 'black', 'blue', 'grey', 'silver', 'custom',\n",
       "       'orange', 'yellow', 'brown', 'green', 'purple'], dtype=object)"
      ]
     },
     "execution_count": 21,
     "metadata": {},
     "output_type": "execute_result"
    }
   ],
   "source": [
    "data['paint_color'].unique()"
   ]
  },
  {
   "cell_type": "code",
   "execution_count": 22,
   "metadata": {},
   "outputs": [],
   "source": [
    "#fill missing paint value with 'others'\n",
    "data['paint_color']=data['paint_color'].fillna('others')"
   ]
  },
  {
   "cell_type": "markdown",
   "metadata": {},
   "source": [
    "Missing values in paint color could be resulting from how data was collected. The missing data might represent other color not mentioned or listed during data collection. Represent all missing data in paint color with 'others' as this can not be estimated."
   ]
  },
  {
   "cell_type": "code",
   "execution_count": 23,
   "metadata": {},
   "outputs": [
    {
     "data": {
      "text/html": [
       "<div>\n",
       "<style scoped>\n",
       "    .dataframe tbody tr th:only-of-type {\n",
       "        vertical-align: middle;\n",
       "    }\n",
       "\n",
       "    .dataframe tbody tr th {\n",
       "        vertical-align: top;\n",
       "    }\n",
       "\n",
       "    .dataframe thead th {\n",
       "        text-align: right;\n",
       "    }\n",
       "</style>\n",
       "<table border=\"1\" class=\"dataframe\">\n",
       "  <thead>\n",
       "    <tr style=\"text-align: right;\">\n",
       "      <th></th>\n",
       "      <th>price</th>\n",
       "      <th>model_year</th>\n",
       "      <th>model</th>\n",
       "      <th>condition</th>\n",
       "      <th>cylinders</th>\n",
       "      <th>fuel</th>\n",
       "      <th>odometer</th>\n",
       "      <th>transmission</th>\n",
       "      <th>type</th>\n",
       "      <th>paint_color</th>\n",
       "      <th>is_4wd</th>\n",
       "      <th>date_posted</th>\n",
       "      <th>days_listed</th>\n",
       "      <th>year_category</th>\n",
       "    </tr>\n",
       "  </thead>\n",
       "  <tbody>\n",
       "    <tr>\n",
       "      <th>9</th>\n",
       "      <td>9200</td>\n",
       "      <td>2008.0</td>\n",
       "      <td>honda pilot</td>\n",
       "      <td>excellent</td>\n",
       "      <td>NaN</td>\n",
       "      <td>gas</td>\n",
       "      <td>147191.0</td>\n",
       "      <td>automatic</td>\n",
       "      <td>SUV</td>\n",
       "      <td>blue</td>\n",
       "      <td>1.0</td>\n",
       "      <td>2019-02-15</td>\n",
       "      <td>17</td>\n",
       "      <td>current</td>\n",
       "    </tr>\n",
       "    <tr>\n",
       "      <th>36</th>\n",
       "      <td>10499</td>\n",
       "      <td>2013.0</td>\n",
       "      <td>chrysler 300</td>\n",
       "      <td>good</td>\n",
       "      <td>NaN</td>\n",
       "      <td>gas</td>\n",
       "      <td>88042.0</td>\n",
       "      <td>automatic</td>\n",
       "      <td>sedan</td>\n",
       "      <td>others</td>\n",
       "      <td>0.0</td>\n",
       "      <td>2018-05-05</td>\n",
       "      <td>22</td>\n",
       "      <td>current</td>\n",
       "    </tr>\n",
       "    <tr>\n",
       "      <th>37</th>\n",
       "      <td>7500</td>\n",
       "      <td>2005.0</td>\n",
       "      <td>toyota tacoma</td>\n",
       "      <td>good</td>\n",
       "      <td>NaN</td>\n",
       "      <td>gas</td>\n",
       "      <td>160000.0</td>\n",
       "      <td>automatic</td>\n",
       "      <td>pickup</td>\n",
       "      <td>others</td>\n",
       "      <td>0.0</td>\n",
       "      <td>2018-07-22</td>\n",
       "      <td>44</td>\n",
       "      <td>current</td>\n",
       "    </tr>\n",
       "    <tr>\n",
       "      <th>59</th>\n",
       "      <td>5200</td>\n",
       "      <td>2006.0</td>\n",
       "      <td>toyota highlander</td>\n",
       "      <td>good</td>\n",
       "      <td>NaN</td>\n",
       "      <td>gas</td>\n",
       "      <td>186000.0</td>\n",
       "      <td>automatic</td>\n",
       "      <td>SUV</td>\n",
       "      <td>green</td>\n",
       "      <td>0.0</td>\n",
       "      <td>2018-12-20</td>\n",
       "      <td>2</td>\n",
       "      <td>current</td>\n",
       "    </tr>\n",
       "    <tr>\n",
       "      <th>63</th>\n",
       "      <td>30000</td>\n",
       "      <td>1966.0</td>\n",
       "      <td>ford mustang</td>\n",
       "      <td>excellent</td>\n",
       "      <td>NaN</td>\n",
       "      <td>gas</td>\n",
       "      <td>51000.0</td>\n",
       "      <td>manual</td>\n",
       "      <td>convertible</td>\n",
       "      <td>red</td>\n",
       "      <td>0.0</td>\n",
       "      <td>2019-01-23</td>\n",
       "      <td>17</td>\n",
       "      <td>vintage</td>\n",
       "    </tr>\n",
       "    <tr>\n",
       "      <th>72</th>\n",
       "      <td>3650</td>\n",
       "      <td>2012.0</td>\n",
       "      <td>subaru impreza</td>\n",
       "      <td>excellent</td>\n",
       "      <td>NaN</td>\n",
       "      <td>gas</td>\n",
       "      <td>74000.0</td>\n",
       "      <td>automatic</td>\n",
       "      <td>sedan</td>\n",
       "      <td>blue</td>\n",
       "      <td>1.0</td>\n",
       "      <td>2018-08-07</td>\n",
       "      <td>60</td>\n",
       "      <td>current</td>\n",
       "    </tr>\n",
       "    <tr>\n",
       "      <th>75</th>\n",
       "      <td>6950</td>\n",
       "      <td>2005.0</td>\n",
       "      <td>chevrolet tahoe</td>\n",
       "      <td>excellent</td>\n",
       "      <td>NaN</td>\n",
       "      <td>gas</td>\n",
       "      <td>186021.0</td>\n",
       "      <td>automatic</td>\n",
       "      <td>SUV</td>\n",
       "      <td>others</td>\n",
       "      <td>1.0</td>\n",
       "      <td>2018-10-30</td>\n",
       "      <td>3</td>\n",
       "      <td>current</td>\n",
       "    </tr>\n",
       "    <tr>\n",
       "      <th>87</th>\n",
       "      <td>8499</td>\n",
       "      <td>2009.0</td>\n",
       "      <td>bmw x5</td>\n",
       "      <td>good</td>\n",
       "      <td>NaN</td>\n",
       "      <td>gas</td>\n",
       "      <td>104482.0</td>\n",
       "      <td>automatic</td>\n",
       "      <td>SUV</td>\n",
       "      <td>blue</td>\n",
       "      <td>1.0</td>\n",
       "      <td>2019-03-04</td>\n",
       "      <td>52</td>\n",
       "      <td>current</td>\n",
       "    </tr>\n",
       "    <tr>\n",
       "      <th>119</th>\n",
       "      <td>14800</td>\n",
       "      <td>2016.0</td>\n",
       "      <td>kia sorento</td>\n",
       "      <td>like new</td>\n",
       "      <td>NaN</td>\n",
       "      <td>gas</td>\n",
       "      <td>111526.0</td>\n",
       "      <td>automatic</td>\n",
       "      <td>SUV</td>\n",
       "      <td>brown</td>\n",
       "      <td>0.0</td>\n",
       "      <td>2019-02-27</td>\n",
       "      <td>93</td>\n",
       "      <td>current</td>\n",
       "    </tr>\n",
       "    <tr>\n",
       "      <th>126</th>\n",
       "      <td>25900</td>\n",
       "      <td>2012.0</td>\n",
       "      <td>chevrolet silverado 1500 crew</td>\n",
       "      <td>good</td>\n",
       "      <td>NaN</td>\n",
       "      <td>other</td>\n",
       "      <td>111526.0</td>\n",
       "      <td>other</td>\n",
       "      <td>pickup</td>\n",
       "      <td>others</td>\n",
       "      <td>1.0</td>\n",
       "      <td>2018-08-31</td>\n",
       "      <td>44</td>\n",
       "      <td>current</td>\n",
       "    </tr>\n",
       "    <tr>\n",
       "      <th>135</th>\n",
       "      <td>28000</td>\n",
       "      <td>2016.0</td>\n",
       "      <td>ford mustang gt coupe 2d</td>\n",
       "      <td>good</td>\n",
       "      <td>NaN</td>\n",
       "      <td>gas</td>\n",
       "      <td>111526.0</td>\n",
       "      <td>other</td>\n",
       "      <td>coupe</td>\n",
       "      <td>black</td>\n",
       "      <td>0.0</td>\n",
       "      <td>2018-11-20</td>\n",
       "      <td>28</td>\n",
       "      <td>current</td>\n",
       "    </tr>\n",
       "    <tr>\n",
       "      <th>138</th>\n",
       "      <td>4500</td>\n",
       "      <td>2013.0</td>\n",
       "      <td>nissan altima</td>\n",
       "      <td>excellent</td>\n",
       "      <td>NaN</td>\n",
       "      <td>gas</td>\n",
       "      <td>140000.0</td>\n",
       "      <td>automatic</td>\n",
       "      <td>sedan</td>\n",
       "      <td>silver</td>\n",
       "      <td>0.0</td>\n",
       "      <td>2019-03-29</td>\n",
       "      <td>108</td>\n",
       "      <td>current</td>\n",
       "    </tr>\n",
       "    <tr>\n",
       "      <th>159</th>\n",
       "      <td>23300</td>\n",
       "      <td>2009.0</td>\n",
       "      <td>nissan frontier crew cab sv</td>\n",
       "      <td>good</td>\n",
       "      <td>NaN</td>\n",
       "      <td>gas</td>\n",
       "      <td>111526.0</td>\n",
       "      <td>other</td>\n",
       "      <td>pickup</td>\n",
       "      <td>grey</td>\n",
       "      <td>1.0</td>\n",
       "      <td>2018-07-24</td>\n",
       "      <td>73</td>\n",
       "      <td>current</td>\n",
       "    </tr>\n",
       "    <tr>\n",
       "      <th>163</th>\n",
       "      <td>21100</td>\n",
       "      <td>2017.0</td>\n",
       "      <td>chevrolet camaro lt coupe 2d</td>\n",
       "      <td>good</td>\n",
       "      <td>NaN</td>\n",
       "      <td>gas</td>\n",
       "      <td>24510.0</td>\n",
       "      <td>other</td>\n",
       "      <td>coupe</td>\n",
       "      <td>red</td>\n",
       "      <td>0.0</td>\n",
       "      <td>2019-04-19</td>\n",
       "      <td>38</td>\n",
       "      <td>current</td>\n",
       "    </tr>\n",
       "    <tr>\n",
       "      <th>173</th>\n",
       "      <td>21100</td>\n",
       "      <td>2017.0</td>\n",
       "      <td>chevrolet camaro lt coupe 2d</td>\n",
       "      <td>good</td>\n",
       "      <td>NaN</td>\n",
       "      <td>gas</td>\n",
       "      <td>24510.0</td>\n",
       "      <td>other</td>\n",
       "      <td>coupe</td>\n",
       "      <td>red</td>\n",
       "      <td>0.0</td>\n",
       "      <td>2019-03-29</td>\n",
       "      <td>1</td>\n",
       "      <td>current</td>\n",
       "    </tr>\n",
       "  </tbody>\n",
       "</table>\n",
       "</div>"
      ],
      "text/plain": [
       "     price  model_year                          model  condition  cylinders  \\\n",
       "9     9200      2008.0                    honda pilot  excellent        NaN   \n",
       "36   10499      2013.0                   chrysler 300       good        NaN   \n",
       "37    7500      2005.0                  toyota tacoma       good        NaN   \n",
       "59    5200      2006.0              toyota highlander       good        NaN   \n",
       "63   30000      1966.0                   ford mustang  excellent        NaN   \n",
       "72    3650      2012.0                 subaru impreza  excellent        NaN   \n",
       "75    6950      2005.0                chevrolet tahoe  excellent        NaN   \n",
       "87    8499      2009.0                         bmw x5       good        NaN   \n",
       "119  14800      2016.0                    kia sorento   like new        NaN   \n",
       "126  25900      2012.0  chevrolet silverado 1500 crew       good        NaN   \n",
       "135  28000      2016.0       ford mustang gt coupe 2d       good        NaN   \n",
       "138   4500      2013.0                  nissan altima  excellent        NaN   \n",
       "159  23300      2009.0    nissan frontier crew cab sv       good        NaN   \n",
       "163  21100      2017.0   chevrolet camaro lt coupe 2d       good        NaN   \n",
       "173  21100      2017.0   chevrolet camaro lt coupe 2d       good        NaN   \n",
       "\n",
       "      fuel  odometer transmission         type paint_color  is_4wd  \\\n",
       "9      gas  147191.0    automatic          SUV        blue     1.0   \n",
       "36     gas   88042.0    automatic        sedan      others     0.0   \n",
       "37     gas  160000.0    automatic       pickup      others     0.0   \n",
       "59     gas  186000.0    automatic          SUV       green     0.0   \n",
       "63     gas   51000.0       manual  convertible         red     0.0   \n",
       "72     gas   74000.0    automatic        sedan        blue     1.0   \n",
       "75     gas  186021.0    automatic          SUV      others     1.0   \n",
       "87     gas  104482.0    automatic          SUV        blue     1.0   \n",
       "119    gas  111526.0    automatic          SUV       brown     0.0   \n",
       "126  other  111526.0        other       pickup      others     1.0   \n",
       "135    gas  111526.0        other        coupe       black     0.0   \n",
       "138    gas  140000.0    automatic        sedan      silver     0.0   \n",
       "159    gas  111526.0        other       pickup        grey     1.0   \n",
       "163    gas   24510.0        other        coupe         red     0.0   \n",
       "173    gas   24510.0        other        coupe         red     0.0   \n",
       "\n",
       "    date_posted  days_listed year_category  \n",
       "9    2019-02-15           17       current  \n",
       "36   2018-05-05           22       current  \n",
       "37   2018-07-22           44       current  \n",
       "59   2018-12-20            2       current  \n",
       "63   2019-01-23           17       vintage  \n",
       "72   2018-08-07           60       current  \n",
       "75   2018-10-30            3       current  \n",
       "87   2019-03-04           52       current  \n",
       "119  2019-02-27           93       current  \n",
       "126  2018-08-31           44       current  \n",
       "135  2018-11-20           28       current  \n",
       "138  2019-03-29          108       current  \n",
       "159  2018-07-24           73       current  \n",
       "163  2019-04-19           38       current  \n",
       "173  2019-03-29            1       current  "
      ]
     },
     "execution_count": 23,
     "metadata": {},
     "output_type": "execute_result"
    }
   ],
   "source": [
    "#view sample row of  missing values in cylinders\n",
    "data[data['cylinders'].isna()].head(15)\n"
   ]
  },
  {
   "cell_type": "code",
   "execution_count": 24,
   "metadata": {},
   "outputs": [],
   "source": [
    "def fill_odometer(df):\n",
    "    '''\n",
    "    This function takes the data frame as an argument and fills in missing values in the cylinder column\n",
    "    using the cyliner mode value based on the model. \n",
    "    if no reported cylinder for that model use the general mode of the cylinder column\n",
    "    '''\n",
    "    for model in df['model'].unique().tolist():\n",
    "        # get specific model cylinders\n",
    "        model_cylinder_df=df[df['model']==model].dropna()['cylinders']\n",
    "        model_cylinder_list= model_cylinder_df.tolist()\n",
    "        \n",
    "        #fill empty rating with mode of cylinder for that model\n",
    "        if model_cylinder_list !=[]:\n",
    "            df.loc[(df['model'] == model) & (df['cylinders'].isna()), 'cylinders']= statistics.mode(model_cylinder_list)\n",
    "        #if genre has no reported rating fill empty rating with the general mode of the genre\n",
    "        else:\n",
    "            df.loc[(df['model'] == model) & (df['cylinders'].isna()), 'cylinders']= df['cylinders'].mode()"
   ]
  },
  {
   "cell_type": "code",
   "execution_count": 25,
   "metadata": {},
   "outputs": [],
   "source": [
    "#fill odometer\n",
    "fill_odometer(data)"
   ]
  },
  {
   "cell_type": "code",
   "execution_count": 26,
   "metadata": {},
   "outputs": [
    {
     "data": {
      "text/plain": [
       "price            0\n",
       "model_year       0\n",
       "model            0\n",
       "condition        0\n",
       "cylinders        0\n",
       "fuel             0\n",
       "odometer         0\n",
       "transmission     0\n",
       "type             0\n",
       "paint_color      0\n",
       "is_4wd           0\n",
       "date_posted      0\n",
       "days_listed      0\n",
       "year_category    0\n",
       "dtype: int64"
      ]
     },
     "execution_count": 26,
     "metadata": {},
     "output_type": "execute_result"
    }
   ],
   "source": [
    "data.isna().sum()"
   ]
  },
  {
   "cell_type": "markdown",
   "metadata": {},
   "source": [
    "## Fix data types"
   ]
  },
  {
   "cell_type": "code",
   "execution_count": 27,
   "metadata": {},
   "outputs": [],
   "source": [
    "#convert date posted to datetime type\n",
    "data['date_posted']= pd.to_datetime(data['date_posted'], format='%Y-%m-%d')"
   ]
  },
  {
   "cell_type": "code",
   "execution_count": 28,
   "metadata": {},
   "outputs": [],
   "source": [
    "data['model_year']=pd.DatetimeIndex(pd.to_datetime(data['model_year'], format='%Y')).year"
   ]
  },
  {
   "cell_type": "code",
   "execution_count": 29,
   "metadata": {},
   "outputs": [],
   "source": [
    "data['is_4wd']=data['is_4wd'].astype('bool')"
   ]
  },
  {
   "cell_type": "markdown",
   "metadata": {},
   "source": [
    "## Enrich data"
   ]
  },
  {
   "cell_type": "code",
   "execution_count": 30,
   "metadata": {},
   "outputs": [],
   "source": [
    "# Add datetime values for when the ad was placed\n",
    "data['day_posted']=pd.DatetimeIndex(data['date_posted']).weekday\n",
    "data['month_posted']=pd.DatetimeIndex(data['date_posted']).month\n",
    "data['year_posted']=pd.DatetimeIndex(data['date_posted']).year\n",
    "\n"
   ]
  },
  {
   "cell_type": "code",
   "execution_count": 31,
   "metadata": {},
   "outputs": [],
   "source": [
    "#map weekday encoded values\n",
    "data['week_day_posted']=data['day_posted'].map({0:'mon',1:'tue',2:'wed',3:'thur',4:'fri',5:'sat',6:'sun'})"
   ]
  },
  {
   "cell_type": "code",
   "execution_count": 32,
   "metadata": {},
   "outputs": [],
   "source": [
    "# Add the vehicle's age when the ad was placed\n",
    "\n",
    "data['vehicle_age']=data['year_posted']-data['model_year']"
   ]
  },
  {
   "cell_type": "code",
   "execution_count": 33,
   "metadata": {},
   "outputs": [],
   "source": [
    "# Add the vehicle's average mileage per year \n",
    "data['mileage_per_year']=data['odometer']/(data['vehicle_age']+1)\n",
    "data['mileage_per_year']=data.where(data['vehicle_age']!=0, data['odometer'], axis=0)\n",
    "data['mileage_per_year']=data['mileage_per_year'].apply(lambda x: round(x,2))\n"
   ]
  },
  {
   "cell_type": "code",
   "execution_count": 34,
   "metadata": {},
   "outputs": [
    {
     "name": "stdout",
     "output_type": "stream",
     "text": [
      "<class 'pandas.core.frame.DataFrame'>\n",
      "RangeIndex: 51525 entries, 0 to 51524\n",
      "Data columns (total 20 columns):\n",
      " #   Column            Non-Null Count  Dtype         \n",
      "---  ------            --------------  -----         \n",
      " 0   price             51525 non-null  int64         \n",
      " 1   model_year        51525 non-null  int64         \n",
      " 2   model             51525 non-null  object        \n",
      " 3   condition         51525 non-null  object        \n",
      " 4   cylinders         51525 non-null  float64       \n",
      " 5   fuel              51525 non-null  object        \n",
      " 6   odometer          51525 non-null  float64       \n",
      " 7   transmission      51525 non-null  object        \n",
      " 8   type              51525 non-null  object        \n",
      " 9   paint_color       51525 non-null  object        \n",
      " 10  is_4wd            51525 non-null  bool          \n",
      " 11  date_posted       51525 non-null  datetime64[ns]\n",
      " 12  days_listed       51525 non-null  int64         \n",
      " 13  year_category     51525 non-null  object        \n",
      " 14  day_posted        51525 non-null  int64         \n",
      " 15  month_posted      51525 non-null  int64         \n",
      " 16  year_posted       51525 non-null  int64         \n",
      " 17  week_day_posted   51525 non-null  object        \n",
      " 18  vehicle_age       51525 non-null  int64         \n",
      " 19  mileage_per_year  51525 non-null  int64         \n",
      "dtypes: bool(1), datetime64[ns](1), float64(2), int64(8), object(8)\n",
      "memory usage: 7.5+ MB\n"
     ]
    }
   ],
   "source": [
    "data.info()"
   ]
  },
  {
   "cell_type": "code",
   "execution_count": 35,
   "metadata": {},
   "outputs": [
    {
     "data": {
      "text/plain": [
       "0         9400\n",
       "1        25500\n",
       "2         5500\n",
       "3         1500\n",
       "4        14900\n",
       "         ...  \n",
       "51520     9249\n",
       "51521     2700\n",
       "51522     3950\n",
       "51523     7455\n",
       "51524     6300\n",
       "Name: mileage_per_year, Length: 51525, dtype: int64"
      ]
     },
     "execution_count": 35,
     "metadata": {},
     "output_type": "execute_result"
    }
   ],
   "source": [
    "data['mileage_per_year']"
   ]
  },
  {
   "cell_type": "code",
   "execution_count": 36,
   "metadata": {},
   "outputs": [],
   "source": [
    "# encode vehicle condition for easier manipulation\n",
    "\n",
    "data['condition']=data['condition'].map({'new':5,'like new':4,'excellent':3,'good':2,'fair':1, 'salvage':0})\n"
   ]
  },
  {
   "cell_type": "code",
   "execution_count": 37,
   "metadata": {},
   "outputs": [
    {
     "data": {
      "text/html": [
       "<div>\n",
       "<style scoped>\n",
       "    .dataframe tbody tr th:only-of-type {\n",
       "        vertical-align: middle;\n",
       "    }\n",
       "\n",
       "    .dataframe tbody tr th {\n",
       "        vertical-align: top;\n",
       "    }\n",
       "\n",
       "    .dataframe thead th {\n",
       "        text-align: right;\n",
       "    }\n",
       "</style>\n",
       "<table border=\"1\" class=\"dataframe\">\n",
       "  <thead>\n",
       "    <tr style=\"text-align: right;\">\n",
       "      <th></th>\n",
       "      <th>price</th>\n",
       "      <th>model_year</th>\n",
       "      <th>model</th>\n",
       "      <th>condition</th>\n",
       "      <th>cylinders</th>\n",
       "      <th>fuel</th>\n",
       "      <th>odometer</th>\n",
       "      <th>transmission</th>\n",
       "      <th>type</th>\n",
       "      <th>paint_color</th>\n",
       "      <th>is_4wd</th>\n",
       "      <th>date_posted</th>\n",
       "      <th>days_listed</th>\n",
       "      <th>year_category</th>\n",
       "      <th>day_posted</th>\n",
       "      <th>month_posted</th>\n",
       "      <th>year_posted</th>\n",
       "      <th>week_day_posted</th>\n",
       "      <th>vehicle_age</th>\n",
       "      <th>mileage_per_year</th>\n",
       "    </tr>\n",
       "  </thead>\n",
       "  <tbody>\n",
       "    <tr>\n",
       "      <th>0</th>\n",
       "      <td>9400</td>\n",
       "      <td>2011</td>\n",
       "      <td>bmw x5</td>\n",
       "      <td>2</td>\n",
       "      <td>6.0</td>\n",
       "      <td>gas</td>\n",
       "      <td>145000.0</td>\n",
       "      <td>automatic</td>\n",
       "      <td>SUV</td>\n",
       "      <td>others</td>\n",
       "      <td>True</td>\n",
       "      <td>2018-06-23</td>\n",
       "      <td>19</td>\n",
       "      <td>current</td>\n",
       "      <td>5</td>\n",
       "      <td>6</td>\n",
       "      <td>2018</td>\n",
       "      <td>sat</td>\n",
       "      <td>7</td>\n",
       "      <td>9400</td>\n",
       "    </tr>\n",
       "    <tr>\n",
       "      <th>1</th>\n",
       "      <td>25500</td>\n",
       "      <td>2009</td>\n",
       "      <td>ford f-150</td>\n",
       "      <td>2</td>\n",
       "      <td>6.0</td>\n",
       "      <td>gas</td>\n",
       "      <td>88705.0</td>\n",
       "      <td>automatic</td>\n",
       "      <td>pickup</td>\n",
       "      <td>white</td>\n",
       "      <td>True</td>\n",
       "      <td>2018-10-19</td>\n",
       "      <td>50</td>\n",
       "      <td>current</td>\n",
       "      <td>4</td>\n",
       "      <td>10</td>\n",
       "      <td>2018</td>\n",
       "      <td>fri</td>\n",
       "      <td>9</td>\n",
       "      <td>25500</td>\n",
       "    </tr>\n",
       "    <tr>\n",
       "      <th>2</th>\n",
       "      <td>5500</td>\n",
       "      <td>2013</td>\n",
       "      <td>hyundai sonata</td>\n",
       "      <td>4</td>\n",
       "      <td>4.0</td>\n",
       "      <td>gas</td>\n",
       "      <td>110000.0</td>\n",
       "      <td>automatic</td>\n",
       "      <td>sedan</td>\n",
       "      <td>red</td>\n",
       "      <td>False</td>\n",
       "      <td>2019-02-07</td>\n",
       "      <td>79</td>\n",
       "      <td>current</td>\n",
       "      <td>3</td>\n",
       "      <td>2</td>\n",
       "      <td>2019</td>\n",
       "      <td>thur</td>\n",
       "      <td>6</td>\n",
       "      <td>5500</td>\n",
       "    </tr>\n",
       "    <tr>\n",
       "      <th>3</th>\n",
       "      <td>1500</td>\n",
       "      <td>2003</td>\n",
       "      <td>ford f-150</td>\n",
       "      <td>1</td>\n",
       "      <td>8.0</td>\n",
       "      <td>gas</td>\n",
       "      <td>111526.0</td>\n",
       "      <td>automatic</td>\n",
       "      <td>pickup</td>\n",
       "      <td>others</td>\n",
       "      <td>False</td>\n",
       "      <td>2019-03-22</td>\n",
       "      <td>9</td>\n",
       "      <td>current</td>\n",
       "      <td>4</td>\n",
       "      <td>3</td>\n",
       "      <td>2019</td>\n",
       "      <td>fri</td>\n",
       "      <td>16</td>\n",
       "      <td>1500</td>\n",
       "    </tr>\n",
       "    <tr>\n",
       "      <th>4</th>\n",
       "      <td>14900</td>\n",
       "      <td>2017</td>\n",
       "      <td>chrysler 200</td>\n",
       "      <td>3</td>\n",
       "      <td>4.0</td>\n",
       "      <td>gas</td>\n",
       "      <td>80903.0</td>\n",
       "      <td>automatic</td>\n",
       "      <td>sedan</td>\n",
       "      <td>black</td>\n",
       "      <td>False</td>\n",
       "      <td>2019-04-02</td>\n",
       "      <td>28</td>\n",
       "      <td>current</td>\n",
       "      <td>1</td>\n",
       "      <td>4</td>\n",
       "      <td>2019</td>\n",
       "      <td>tue</td>\n",
       "      <td>2</td>\n",
       "      <td>14900</td>\n",
       "    </tr>\n",
       "  </tbody>\n",
       "</table>\n",
       "</div>"
      ],
      "text/plain": [
       "   price  model_year           model  condition  cylinders fuel  odometer  \\\n",
       "0   9400        2011          bmw x5          2        6.0  gas  145000.0   \n",
       "1  25500        2009      ford f-150          2        6.0  gas   88705.0   \n",
       "2   5500        2013  hyundai sonata          4        4.0  gas  110000.0   \n",
       "3   1500        2003      ford f-150          1        8.0  gas  111526.0   \n",
       "4  14900        2017    chrysler 200          3        4.0  gas   80903.0   \n",
       "\n",
       "  transmission    type paint_color  is_4wd date_posted  days_listed  \\\n",
       "0    automatic     SUV      others    True  2018-06-23           19   \n",
       "1    automatic  pickup       white    True  2018-10-19           50   \n",
       "2    automatic   sedan         red   False  2019-02-07           79   \n",
       "3    automatic  pickup      others   False  2019-03-22            9   \n",
       "4    automatic   sedan       black   False  2019-04-02           28   \n",
       "\n",
       "  year_category  day_posted  month_posted  year_posted week_day_posted  \\\n",
       "0       current           5             6         2018             sat   \n",
       "1       current           4            10         2018             fri   \n",
       "2       current           3             2         2019            thur   \n",
       "3       current           4             3         2019             fri   \n",
       "4       current           1             4         2019             tue   \n",
       "\n",
       "   vehicle_age  mileage_per_year  \n",
       "0            7              9400  \n",
       "1            9             25500  \n",
       "2            6              5500  \n",
       "3           16              1500  \n",
       "4            2             14900  "
      ]
     },
     "execution_count": 37,
     "metadata": {},
     "output_type": "execute_result"
    }
   ],
   "source": [
    "data.head()"
   ]
  },
  {
   "cell_type": "markdown",
   "metadata": {},
   "source": [
    "## Exploratory Analysis\n",
    "\n",
    "\n",
    "On\n",
    "- Price\n",
    "- The vehicle's age when the ad was placed\n",
    "- Mileage\n",
    "- Number of cylinders\n",
    "- Condition"
   ]
  },
  {
   "cell_type": "code",
   "execution_count": 38,
   "metadata": {},
   "outputs": [
    {
     "data": {
      "image/png": "[encoded data removed]",
      "text/plain": [
       "<Figure size 1440x1440 with 9 Axes>"
      ]
     },
     "metadata": {},
     "output_type": "display_data"
    }
   ],
   "source": [
    "#distrubution plot of the data  \n",
    "data[['price', 'vehicle_age', 'odometer', 'cylinders'\n",
    "       , 'condition', 'days_listed', 'mileage_per_year']].hist(bins=40, figsize=(20,20))\n",
    "plt.suptitle('Histogram of selected parameters')\n",
    "plt.show()"
   ]
  },
  {
   "cell_type": "markdown",
   "metadata": {},
   "source": [
    "- The histogram indicates that data in the price,age and mileage are right skewed. \n",
    "- Condition appears to have a normal distribution.\n",
    "- By looking at the histogram, we can conclude that the data countains significant outlier in the price, odometer and vehicle age columns\n",
    "- The vehicle age appears to have 3 peaks, vehicles with age around 0, 9 and 12. \n",
    "- Most vehicles are less than 30years\n",
    "\n",
    "\n"
   ]
  },
  {
   "cell_type": "markdown",
   "metadata": {},
   "source": [
    "## Study and treat outliers\n",
    "\n"
   ]
  },
  {
   "cell_type": "markdown",
   "metadata": {},
   "source": [
    "One approach to detecting outlier is to use the Z-score which is calculated by subtracting each value from the mean of the data and dividing it by the standard deviation. Data point whose Z-score fall out side the 3std on both sides are outliers. "
   ]
  },
  {
   "cell_type": "code",
   "execution_count": 39,
   "metadata": {},
   "outputs": [],
   "source": [
    "from scipy import stats"
   ]
  },
  {
   "cell_type": "code",
   "execution_count": 40,
   "metadata": {},
   "outputs": [
    {
     "data": {
      "text/plain": [
       "array([[-0.27213874,  0.49509047, -0.24421077],\n",
       "       [ 1.33133423, -0.44206059,  0.08335958],\n",
       "       [-0.66055765, -0.08755962, -0.40799594],\n",
       "       ...,\n",
       "       [-0.81492928,  0.212089  ,  0.08335958],\n",
       "       [-0.46585022,  0.40474641, -0.57178111],\n",
       "       [-0.58088198, -0.06215608, -0.73556628]])"
      ]
     },
     "execution_count": 40,
     "metadata": {},
     "output_type": "execute_result"
    }
   ],
   "source": [
    "#z-score for price odometer and age\n",
    "stats.zscore(data[['price','odometer','vehicle_age']])"
   ]
  },
  {
   "cell_type": "code",
   "execution_count": 41,
   "metadata": {},
   "outputs": [],
   "source": [
    "data_clean= data[(np.abs(stats.zscore(data[['price', 'vehicle_age', 'odometer']])) < 3).all(axis=1)]"
   ]
  },
  {
   "cell_type": "code",
   "execution_count": 42,
   "metadata": {},
   "outputs": [
    {
     "data": {
      "text/html": [
       "<div>\n",
       "<style scoped>\n",
       "    .dataframe tbody tr th:only-of-type {\n",
       "        vertical-align: middle;\n",
       "    }\n",
       "\n",
       "    .dataframe tbody tr th {\n",
       "        vertical-align: top;\n",
       "    }\n",
       "\n",
       "    .dataframe thead th {\n",
       "        text-align: right;\n",
       "    }\n",
       "</style>\n",
       "<table border=\"1\" class=\"dataframe\">\n",
       "  <thead>\n",
       "    <tr style=\"text-align: right;\">\n",
       "      <th></th>\n",
       "      <th>price</th>\n",
       "      <th>model_year</th>\n",
       "      <th>condition</th>\n",
       "      <th>cylinders</th>\n",
       "      <th>odometer</th>\n",
       "      <th>days_listed</th>\n",
       "      <th>day_posted</th>\n",
       "      <th>month_posted</th>\n",
       "      <th>year_posted</th>\n",
       "      <th>vehicle_age</th>\n",
       "      <th>mileage_per_year</th>\n",
       "    </tr>\n",
       "  </thead>\n",
       "  <tbody>\n",
       "    <tr>\n",
       "      <th>count</th>\n",
       "      <td>50021.000000</td>\n",
       "      <td>50021.000000</td>\n",
       "      <td>50021.000000</td>\n",
       "      <td>50021.000000</td>\n",
       "      <td>50021.000000</td>\n",
       "      <td>50021.000000</td>\n",
       "      <td>50021.000000</td>\n",
       "      <td>50021.000000</td>\n",
       "      <td>50021.000000</td>\n",
       "      <td>50021.000000</td>\n",
       "      <td>50021.000000</td>\n",
       "    </tr>\n",
       "    <tr>\n",
       "      <th>mean</th>\n",
       "      <td>11688.906759</td>\n",
       "      <td>2010.094180</td>\n",
       "      <td>2.638112</td>\n",
       "      <td>6.085444</td>\n",
       "      <td>114531.676096</td>\n",
       "      <td>39.534476</td>\n",
       "      <td>3.002679</td>\n",
       "      <td>6.631135</td>\n",
       "      <td>2018.306731</td>\n",
       "      <td>8.212551</td>\n",
       "      <td>12272.548670</td>\n",
       "    </tr>\n",
       "    <tr>\n",
       "      <th>std</th>\n",
       "      <td>8590.230256</td>\n",
       "      <td>5.175708</td>\n",
       "      <td>0.704885</td>\n",
       "      <td>1.655427</td>\n",
       "      <td>55354.918535</td>\n",
       "      <td>28.217624</td>\n",
       "      <td>1.996316</td>\n",
       "      <td>3.472992</td>\n",
       "      <td>0.461141</td>\n",
       "      <td>5.190113</td>\n",
       "      <td>11683.289297</td>\n",
       "    </tr>\n",
       "    <tr>\n",
       "      <th>min</th>\n",
       "      <td>1.000000</td>\n",
       "      <td>1992.000000</td>\n",
       "      <td>0.000000</td>\n",
       "      <td>3.000000</td>\n",
       "      <td>0.000000</td>\n",
       "      <td>0.000000</td>\n",
       "      <td>0.000000</td>\n",
       "      <td>1.000000</td>\n",
       "      <td>2018.000000</td>\n",
       "      <td>0.000000</td>\n",
       "      <td>0.000000</td>\n",
       "    </tr>\n",
       "    <tr>\n",
       "      <th>25%</th>\n",
       "      <td>5000.000000</td>\n",
       "      <td>2007.000000</td>\n",
       "      <td>2.000000</td>\n",
       "      <td>4.000000</td>\n",
       "      <td>80836.000000</td>\n",
       "      <td>19.000000</td>\n",
       "      <td>1.000000</td>\n",
       "      <td>3.000000</td>\n",
       "      <td>2018.000000</td>\n",
       "      <td>4.000000</td>\n",
       "      <td>5000.000000</td>\n",
       "    </tr>\n",
       "    <tr>\n",
       "      <th>50%</th>\n",
       "      <td>8999.000000</td>\n",
       "      <td>2011.000000</td>\n",
       "      <td>3.000000</td>\n",
       "      <td>6.000000</td>\n",
       "      <td>111526.000000</td>\n",
       "      <td>33.000000</td>\n",
       "      <td>3.000000</td>\n",
       "      <td>7.000000</td>\n",
       "      <td>2018.000000</td>\n",
       "      <td>7.000000</td>\n",
       "      <td>8999.000000</td>\n",
       "    </tr>\n",
       "    <tr>\n",
       "      <th>75%</th>\n",
       "      <td>16400.000000</td>\n",
       "      <td>2014.000000</td>\n",
       "      <td>3.000000</td>\n",
       "      <td>8.000000</td>\n",
       "      <td>147621.000000</td>\n",
       "      <td>53.000000</td>\n",
       "      <td>5.000000</td>\n",
       "      <td>10.000000</td>\n",
       "      <td>2019.000000</td>\n",
       "      <td>12.000000</td>\n",
       "      <td>16000.000000</td>\n",
       "    </tr>\n",
       "    <tr>\n",
       "      <th>max</th>\n",
       "      <td>42000.000000</td>\n",
       "      <td>2019.000000</td>\n",
       "      <td>5.000000</td>\n",
       "      <td>12.000000</td>\n",
       "      <td>295010.000000</td>\n",
       "      <td>271.000000</td>\n",
       "      <td>6.000000</td>\n",
       "      <td>12.000000</td>\n",
       "      <td>2019.000000</td>\n",
       "      <td>26.000000</td>\n",
       "      <td>195700.000000</td>\n",
       "    </tr>\n",
       "  </tbody>\n",
       "</table>\n",
       "</div>"
      ],
      "text/plain": [
       "              price    model_year     condition     cylinders       odometer  \\\n",
       "count  50021.000000  50021.000000  50021.000000  50021.000000   50021.000000   \n",
       "mean   11688.906759   2010.094180      2.638112      6.085444  114531.676096   \n",
       "std     8590.230256      5.175708      0.704885      1.655427   55354.918535   \n",
       "min        1.000000   1992.000000      0.000000      3.000000       0.000000   \n",
       "25%     5000.000000   2007.000000      2.000000      4.000000   80836.000000   \n",
       "50%     8999.000000   2011.000000      3.000000      6.000000  111526.000000   \n",
       "75%    16400.000000   2014.000000      3.000000      8.000000  147621.000000   \n",
       "max    42000.000000   2019.000000      5.000000     12.000000  295010.000000   \n",
       "\n",
       "        days_listed    day_posted  month_posted   year_posted   vehicle_age  \\\n",
       "count  50021.000000  50021.000000  50021.000000  50021.000000  50021.000000   \n",
       "mean      39.534476      3.002679      6.631135   2018.306731      8.212551   \n",
       "std       28.217624      1.996316      3.472992      0.461141      5.190113   \n",
       "min        0.000000      0.000000      1.000000   2018.000000      0.000000   \n",
       "25%       19.000000      1.000000      3.000000   2018.000000      4.000000   \n",
       "50%       33.000000      3.000000      7.000000   2018.000000      7.000000   \n",
       "75%       53.000000      5.000000     10.000000   2019.000000     12.000000   \n",
       "max      271.000000      6.000000     12.000000   2019.000000     26.000000   \n",
       "\n",
       "       mileage_per_year  \n",
       "count      50021.000000  \n",
       "mean       12272.548670  \n",
       "std        11683.289297  \n",
       "min            0.000000  \n",
       "25%         5000.000000  \n",
       "50%         8999.000000  \n",
       "75%        16000.000000  \n",
       "max       195700.000000  "
      ]
     },
     "execution_count": 42,
     "metadata": {},
     "output_type": "execute_result"
    }
   ],
   "source": [
    "#summary stats for data\n",
    "data_clean.describe()"
   ]
  },
  {
   "cell_type": "code",
   "execution_count": 43,
   "metadata": {},
   "outputs": [
    {
     "data": {
      "text/plain": [
       "97.08102862688015"
      ]
     },
     "execution_count": 43,
     "metadata": {},
     "output_type": "execute_result"
    }
   ],
   "source": [
    "#percentage of data left for futher analysis\n",
    "data_clean.shape[0]*100/data.shape[0]\n"
   ]
  },
  {
   "cell_type": "code",
   "execution_count": 44,
   "metadata": {},
   "outputs": [
    {
     "data": {
      "image/png": "[encoded data removed]",
      "text/plain": [
       "<Figure size 1440x1440 with 4 Axes>"
      ]
     },
     "metadata": {},
     "output_type": "display_data"
    }
   ],
   "source": [
    "#distrubution plot of the clean data  \n",
    "data_clean[['price', 'vehicle_age', 'odometer']].hist(bins=40, figsize=(20,20))\n",
    "plt.suptitle('Histogram of selected parameters')\n",
    "plt.show()"
   ]
  },
  {
   "cell_type": "markdown",
   "metadata": {},
   "source": [
    "Using the z-score for filtering out the outlier works effectivly by converting the data to a normal distribution with a mean of 0 and std of 1 and filtering out data outside the 3rd standard deviation. As the 3rd standard deviation account for 99.7% of data in a normal distribution."
   ]
  },
  {
   "cell_type": "markdown",
   "metadata": {},
   "source": [
    "### Analyze days advertisements were listed before sale\n"
   ]
  },
  {
   "cell_type": "code",
   "execution_count": 45,
   "metadata": {},
   "outputs": [
    {
     "data": {
      "image/png": "[encoded data removed]",
      "text/plain": [
       "<Figure size 504x504 with 1 Axes>"
      ]
     },
     "metadata": {},
     "output_type": "display_data"
    }
   ],
   "source": [
    "#histogram for ads lifetime\n",
    "data_clean.plot(kind='hist',y='days_listed', bins=30, figsize=(7,7), grid=True)\n",
    "plt.title(\"Histogram for days_listed\")\n",
    "plt.xlabel('Days listed')\n",
    "plt.ylabel('Frequency')\n",
    "plt.show()"
   ]
  },
  {
   "cell_type": "code",
   "execution_count": 46,
   "metadata": {},
   "outputs": [
    {
     "data": {
      "text/plain": [
       "33.0"
      ]
     },
     "execution_count": 46,
     "metadata": {},
     "output_type": "execute_result"
    }
   ],
   "source": [
    "#median ad life\n",
    "data_clean.days_listed.median()"
   ]
  },
  {
   "cell_type": "code",
   "execution_count": 47,
   "metadata": {},
   "outputs": [
    {
     "data": {
      "text/plain": [
       "39.53447552028148"
      ]
     },
     "execution_count": 47,
     "metadata": {},
     "output_type": "execute_result"
    }
   ],
   "source": [
    "#mean ad life\n",
    "data_clean.days_listed.mean()"
   ]
  },
  {
   "cell_type": "markdown",
   "metadata": {},
   "source": [
    "From the histogram we see that vehicles typically sell within 5-100 days. The median lifetime of an ad before the vehicle is sold is about 33 days. Vehicles that sell before the the 5th day is considerd quick sales while those that list for more then 200 days are unusally long. "
   ]
  },
  {
   "cell_type": "markdown",
   "metadata": {},
   "source": [
    "### Analyze ads by type of vehicle"
   ]
  },
  {
   "cell_type": "code",
   "execution_count": 48,
   "metadata": {},
   "outputs": [
    {
     "data": {
      "image/png": "[encoded data removed]",
      "text/plain": [
       "<Figure size 576x576 with 1 Axes>"
      ]
     },
     "metadata": {},
     "output_type": "display_data"
    }
   ],
   "source": [
    "#number of ads posted for each car type\n",
    "data_clean.groupby('type')['type'].count().plot(kind='bar',\n",
    "                                                   figsize=(8,8), grid=True,\n",
    "                                                   title='Number of ads posted by car type')\n",
    "plt.show()"
   ]
  },
  {
   "cell_type": "code",
   "execution_count": 49,
   "metadata": {},
   "outputs": [
    {
     "data": {
      "text/plain": [
       "type\n",
       "SUV            10759.36\n",
       "bus            17445.91\n",
       "convertible    12681.16\n",
       "coupe          13713.05\n",
       "hatchback       6826.57\n",
       "mini-van        8043.62\n",
       "offroad        14364.26\n",
       "other          10765.57\n",
       "pickup         15706.53\n",
       "sedan           6958.44\n",
       "truck          15965.57\n",
       "van            10517.51\n",
       "wagon           9013.49\n",
       "Name: price, dtype: float64"
      ]
     },
     "execution_count": 49,
     "metadata": {},
     "output_type": "execute_result"
    }
   ],
   "source": [
    "#average price of each car type\n",
    "data_clean.groupby('type')['price'].mean().round(2)"
   ]
  },
  {
   "cell_type": "markdown",
   "metadata": {},
   "source": [
    "SUV Truck and Sedans had the highest number of ads. On average the most expensive type of vehicle is a Bus while the cheapest are hatchback and sedan"
   ]
  },
  {
   "cell_type": "markdown",
   "metadata": {},
   "source": [
    "## Price factors"
   ]
  },
  {
   "cell_type": "markdown",
   "metadata": {},
   "source": [
    "Perform a price factor analysis on the to 5 selling vehicles types by number."
   ]
  },
  {
   "cell_type": "code",
   "execution_count": 50,
   "metadata": {},
   "outputs": [],
   "source": [
    "data_top=data_clean[data_clean['type'].isin(['SUV', 'sedan','pickup', 'truck', 'coupe'])]"
   ]
  },
  {
   "cell_type": "code",
   "execution_count": 51,
   "metadata": {},
   "outputs": [
    {
     "data": {
      "text/plain": [
       "-0.5325543487623207"
      ]
     },
     "execution_count": 51,
     "metadata": {},
     "output_type": "execute_result"
    }
   ],
   "source": [
    "#correlation coefficients price and age\n",
    "data_top['price'].corr(data_top['vehicle_age'])"
   ]
  },
  {
   "cell_type": "code",
   "execution_count": 52,
   "metadata": {},
   "outputs": [
    {
     "data": {
      "image/png": "[encoded data removed]",
      "text/plain": [
       "<Figure size 576x576 with 1 Axes>"
      ]
     },
     "metadata": {},
     "output_type": "display_data"
    }
   ],
   "source": [
    "data_top.plot.scatter(x='vehicle_age', y='price', title='Scatterplot for correlation of price with mileage', figsize=(8, 8), alpha=0.03, color='blue')\n",
    "plt.show()"
   ]
  },
  {
   "cell_type": "markdown",
   "metadata": {},
   "source": [
    "From the scatterplot to check linear correlation of the price with vehicle's age. We can observe that price has a weak negative correlation with the age of the vehicle. The newer the vehicle the higher the chance that it'll cost more"
   ]
  },
  {
   "cell_type": "code",
   "execution_count": 53,
   "metadata": {},
   "outputs": [
    {
     "data": {
      "text/plain": [
       "-0.4133604677798725"
      ]
     },
     "execution_count": 53,
     "metadata": {},
     "output_type": "execute_result"
    }
   ],
   "source": [
    "#correlation coefficients price and mileage\n",
    "data_top['price'].corr(data_top['odometer'])"
   ]
  },
  {
   "cell_type": "code",
   "execution_count": 54,
   "metadata": {},
   "outputs": [
    {
     "data": {
      "image/png": "[encoded data removed]",
      "text/plain": [
       "<Figure size 576x576 with 1 Axes>"
      ]
     },
     "metadata": {},
     "output_type": "display_data"
    }
   ],
   "source": [
    "data_top.plot.scatter(x='odometer', y='price', title='Scatterplot for correlation of price with mileage', figsize=(8, 8), alpha=0.03, color='blue')\n",
    "plt.show()"
   ]
  },
  {
   "cell_type": "markdown",
   "metadata": {},
   "source": [
    "From the scatterplot to check linear correlation of the price with vehicle's age. We can observe that price has a weak negative correlation with the age of the vehicle. The lower the mileage the higher the chance that it'll cost more"
   ]
  },
  {
   "cell_type": "code",
   "execution_count": 55,
   "metadata": {},
   "outputs": [
    {
     "data": {
      "text/plain": [
       "condition\n",
       "0       98\n",
       "1     1315\n",
       "2    17572\n",
       "3    21646\n",
       "4     4138\n",
       "5      101\n",
       "Name: condition, dtype: int64"
      ]
     },
     "execution_count": 55,
     "metadata": {},
     "output_type": "execute_result"
    }
   ],
   "source": [
    "data_top.groupby('condition')['condition'].count()"
   ]
  },
  {
   "cell_type": "code",
   "execution_count": 56,
   "metadata": {},
   "outputs": [
    {
     "data": {
      "image/png": "[encoded data removed]",
      "text/plain": [
       "<Figure size 720x504 with 1 Axes>"
      ]
     },
     "metadata": {},
     "output_type": "display_data"
    }
   ],
   "source": [
    "#distribution of car price by car color\n",
    "fig = plt.subplots(figsize =(10, 7))\n",
    "sns.boxplot(data=data_top,y='price', x='condition', width=.5, showfliers=False)\n",
    "plt.title(\"Box plot distribution of price by vehicle color\")\n",
    "plt.show()"
   ]
  },
  {
   "cell_type": "markdown",
   "metadata": {},
   "source": [
    "The better the condition of the car the higher the expected price of the car."
   ]
  },
  {
   "cell_type": "code",
   "execution_count": 57,
   "metadata": {},
   "outputs": [
    {
     "data": {
      "text/plain": [
       "paint_color\n",
       "black     6757\n",
       "blue      3765\n",
       "brown     1045\n",
       "custom     970\n",
       "green     1128\n",
       "grey      4428\n",
       "orange     191\n",
       "others    8062\n",
       "purple      93\n",
       "red       3809\n",
       "silver    5471\n",
       "white     8943\n",
       "yellow     208\n",
       "Name: paint_color, dtype: int64"
      ]
     },
     "execution_count": 57,
     "metadata": {},
     "output_type": "execute_result"
    }
   ],
   "source": [
    "\n",
    "data_top.groupby('paint_color')['paint_color'].count()"
   ]
  },
  {
   "cell_type": "code",
   "execution_count": 58,
   "metadata": {},
   "outputs": [
    {
     "data": {
      "image/png": "[encoded data removed]",
      "text/plain": [
       "<Figure size 720x504 with 1 Axes>"
      ]
     },
     "metadata": {},
     "output_type": "display_data"
    }
   ],
   "source": [
    "#distribution of car price by car color\n",
    "fig = plt.subplots(figsize =(10, 7))\n",
    "sns.boxplot(data=data_top,y='price', x='paint_color', width=.5, showfliers=False)\n",
    "plt.title(\"Box plot distribution of price by vehicle color\")\n",
    "plt.show()"
   ]
  },
  {
   "cell_type": "markdown",
   "metadata": {},
   "source": [
    "The color of the car doesn't seem to significantly affect the price."
   ]
  },
  {
   "cell_type": "code",
   "execution_count": 59,
   "metadata": {},
   "outputs": [
    {
     "data": {
      "text/plain": [
       "transmission\n",
       "automatic    40957\n",
       "manual        2200\n",
       "other         1713\n",
       "Name: transmission, dtype: int64"
      ]
     },
     "execution_count": 59,
     "metadata": {},
     "output_type": "execute_result"
    }
   ],
   "source": [
    "data_top.groupby('transmission')['transmission'].count()"
   ]
  },
  {
   "cell_type": "code",
   "execution_count": 60,
   "metadata": {},
   "outputs": [
    {
     "data": {
      "image/png": "[encoded data removed]",
      "text/plain": [
       "<Figure size 720x504 with 1 Axes>"
      ]
     },
     "metadata": {},
     "output_type": "display_data"
    }
   ],
   "source": [
    "#distribution of car price by transmission\n",
    "fig = plt.subplots(figsize =(10, 7))\n",
    "sns.boxplot(data=data_top,y='price', x='transmission', width=.5, showfliers=False)\n",
    "plt.title(\"Box plot distribution of price by vehicle color\")\n",
    "plt.show()"
   ]
  },
  {
   "cell_type": "markdown",
   "metadata": {},
   "source": [
    "<div>\n",
    " <b>Conclusion</b> <br><br>\n",
    "    Data processing:<br> \n",
    "    The model year is a logical predictor of a price of a vehicle and would be crucial to out study. The missing model year values were estimated based on the condition of the vehicle, using the median values. \n",
    "    Missing values in the odometer column was significant in porportion the missing values were estimated using the model year of the age of the Vehicle when posted. Missing values in paint color could be resulting from how data was collected. \n",
    "    The missing data might represent other color not mentioned or listed during data collection. Represent all missing data in paint color with 'others'. Missing data in the cylinder column was estimated from the cylinder for similar models. Outlier values were identified and dropped <br>    \n",
    "    \n",
    "    \n",
    "Study/ observation: <br>\n",
    "    Vehicles posted generally have a mileage between 0-250000miles. and sell within 0-250 days. The cars are also generally less than 30years old and with the majority of the car being about 9 years.  Vehicles that cost less than$10000 also made up for the largest portion of cars ads.\n",
    "    SUV Truck and Sedans had the highest number of ads. On average the most expensive type of vehicle is a Bus while the cheapest are hatchback and sedan\n",
    "    \n",
    "\n",
    "\n",
    "Result: <br>\n",
    "The color doesn't seem to affect the price of the car. The  mileage of the car appear to affect the price of the car but from the correlation coffient the it very little significance. The vehicle age and condition appear to be the most significant factors that affects the price of a vehicle: the newer the vehicle the higher the price and vice versa and the better the condition of the vehicle the higher the price\n",
    "</div>"
   ]
  }
 ],
 "metadata": {
  "ExecuteTimeLog": [
   {
    "duration": 828,
    "start_time": "2021-11-16T09:21:11.304Z"
   },
   {
    "duration": 893,
    "start_time": "2021-11-16T09:21:17.728Z"
   },
   {
    "duration": 1150,
    "start_time": "2021-11-16T09:21:29.568Z"
   },
   {
    "duration": 3,
    "start_time": "2021-11-16T09:24:14.495Z"
   },
   {
    "duration": 120,
    "start_time": "2021-11-16T09:24:46.630Z"
   },
   {
    "duration": 3,
    "start_time": "2021-11-16T09:28:27.882Z"
   },
   {
    "duration": 4,
    "start_time": "2021-11-16T09:29:54.281Z"
   },
   {
    "duration": 3,
    "start_time": "2021-11-16T09:30:45.936Z"
   },
   {
    "duration": 4,
    "start_time": "2021-11-16T09:31:06.300Z"
   },
   {
    "duration": 113,
    "start_time": "2021-11-16T09:31:37.208Z"
   },
   {
    "duration": 143,
    "start_time": "2021-11-16T09:31:48.656Z"
   },
   {
    "duration": 98,
    "start_time": "2021-11-16T09:31:55.678Z"
   },
   {
    "duration": 3,
    "start_time": "2021-11-16T09:32:08.535Z"
   },
   {
    "duration": 111,
    "start_time": "2021-11-16T09:32:10.120Z"
   },
   {
    "duration": 3,
    "start_time": "2021-11-16T09:32:15.732Z"
   },
   {
    "duration": 4,
    "start_time": "2021-11-16T09:32:29.423Z"
   },
   {
    "duration": 3,
    "start_time": "2021-11-16T10:03:03.074Z"
   },
   {
    "duration": 3,
    "start_time": "2021-11-16T10:10:01.288Z"
   },
   {
    "duration": 3,
    "start_time": "2021-11-16T10:10:46.923Z"
   },
   {
    "duration": 121,
    "start_time": "2021-11-16T10:37:46.494Z"
   },
   {
    "duration": 125,
    "start_time": "2021-11-16T10:38:20.632Z"
   },
   {
    "duration": 112,
    "start_time": "2021-11-16T10:46:53.001Z"
   },
   {
    "duration": 110,
    "start_time": "2021-11-16T10:48:25.775Z"
   },
   {
    "duration": 3,
    "start_time": "2021-11-16T10:50:18.720Z"
   },
   {
    "duration": 4,
    "start_time": "2021-11-16T10:50:37.649Z"
   },
   {
    "duration": 2,
    "start_time": "2021-11-16T10:50:51.884Z"
   },
   {
    "duration": 3,
    "start_time": "2021-11-16T10:51:56.237Z"
   },
   {
    "duration": 101,
    "start_time": "2021-11-16T10:53:13.791Z"
   },
   {
    "duration": 3,
    "start_time": "2021-11-16T10:55:59.186Z"
   },
   {
    "duration": 3,
    "start_time": "2021-11-16T10:56:10.751Z"
   },
   {
    "duration": 3,
    "start_time": "2021-11-16T10:56:49.038Z"
   },
   {
    "duration": 3,
    "start_time": "2021-11-16T10:56:49.174Z"
   },
   {
    "duration": 4,
    "start_time": "2021-11-16T10:56:49.414Z"
   },
   {
    "duration": 3,
    "start_time": "2021-11-16T10:56:49.680Z"
   },
   {
    "duration": 3,
    "start_time": "2021-11-16T10:56:50.370Z"
   },
   {
    "duration": 114,
    "start_time": "2021-11-16T10:59:34.518Z"
   },
   {
    "duration": 3,
    "start_time": "2021-11-16T11:01:41.201Z"
   },
   {
    "duration": 116,
    "start_time": "2021-11-16T11:01:48.754Z"
   },
   {
    "duration": 3,
    "start_time": "2021-11-16T11:02:16.685Z"
   },
   {
    "duration": 3,
    "start_time": "2021-11-16T11:02:19.479Z"
   },
   {
    "duration": 3,
    "start_time": "2021-11-16T11:02:47.067Z"
   },
   {
    "duration": 3,
    "start_time": "2021-11-16T11:02:49.353Z"
   },
   {
    "duration": 3,
    "start_time": "2021-11-16T11:03:07.835Z"
   },
   {
    "duration": 3,
    "start_time": "2021-11-16T11:03:07.953Z"
   },
   {
    "duration": 112,
    "start_time": "2021-11-16T11:07:52.072Z"
   },
   {
    "duration": 187,
    "start_time": "2021-11-16T11:09:23.468Z"
   },
   {
    "duration": 4,
    "start_time": "2021-11-16T11:10:01.455Z"
   },
   {
    "duration": 3,
    "start_time": "2021-11-16T11:10:05.069Z"
   },
   {
    "duration": 4,
    "start_time": "2021-11-16T11:10:13.376Z"
   },
   {
    "duration": 3,
    "start_time": "2021-11-16T11:10:14.434Z"
   },
   {
    "duration": 3,
    "start_time": "2021-11-16T11:10:22.853Z"
   },
   {
    "duration": 4,
    "start_time": "2021-11-16T11:27:29.279Z"
   },
   {
    "duration": 4,
    "start_time": "2021-11-16T11:29:08.919Z"
   },
   {
    "duration": 118,
    "start_time": "2021-11-16T11:29:46.703Z"
   },
   {
    "duration": 437,
    "start_time": "2021-11-16T11:36:02.181Z"
   },
   {
    "duration": 157,
    "start_time": "2021-11-16T11:36:14.388Z"
   },
   {
    "duration": 207,
    "start_time": "2021-11-16T11:47:15.898Z"
   },
   {
    "duration": 3,
    "start_time": "2021-11-16T11:53:52.092Z"
   },
   {
    "duration": 3,
    "start_time": "2021-11-16T11:53:52.236Z"
   },
   {
    "duration": 3,
    "start_time": "2021-11-16T11:59:12.005Z"
   },
   {
    "duration": 112,
    "start_time": "2021-11-16T12:00:33.446Z"
   },
   {
    "duration": 3,
    "start_time": "2021-11-16T12:02:14.453Z"
   },
   {
    "duration": 3,
    "start_time": "2021-11-16T12:02:39.512Z"
   },
   {
    "duration": 106,
    "start_time": "2021-11-16T12:03:03.460Z"
   },
   {
    "duration": 1106,
    "start_time": "2022-02-01T02:23:17.746Z"
   },
   {
    "duration": 91,
    "start_time": "2022-02-01T02:24:42.120Z"
   },
   {
    "duration": 96,
    "start_time": "2022-02-01T02:25:06.173Z"
   },
   {
    "duration": 79,
    "start_time": "2022-02-01T02:25:55.714Z"
   },
   {
    "duration": 17,
    "start_time": "2022-02-01T02:28:03.553Z"
   },
   {
    "duration": 13,
    "start_time": "2022-02-01T02:28:17.836Z"
   },
   {
    "duration": 4,
    "start_time": "2022-02-01T02:36:48.364Z"
   },
   {
    "duration": 5,
    "start_time": "2022-02-01T02:37:16.149Z"
   },
   {
    "duration": 6,
    "start_time": "2022-02-01T02:38:24.264Z"
   },
   {
    "duration": 5,
    "start_time": "2022-02-01T02:38:45.637Z"
   },
   {
    "duration": 4,
    "start_time": "2022-02-01T02:38:49.894Z"
   },
   {
    "duration": 389,
    "start_time": "2022-02-01T02:38:57.780Z"
   },
   {
    "duration": 316,
    "start_time": "2022-02-01T02:39:16.540Z"
   },
   {
    "duration": 7,
    "start_time": "2022-02-01T02:39:20.769Z"
   },
   {
    "duration": 5,
    "start_time": "2022-02-01T02:41:06.189Z"
   },
   {
    "duration": 8639,
    "start_time": "2022-02-01T02:41:32.979Z"
   },
   {
    "duration": 5,
    "start_time": "2022-02-01T02:41:54.718Z"
   },
   {
    "duration": 5,
    "start_time": "2022-02-01T02:42:27.157Z"
   },
   {
    "duration": 6,
    "start_time": "2022-02-01T02:42:48.791Z"
   },
   {
    "duration": 7,
    "start_time": "2022-02-01T02:43:17.856Z"
   },
   {
    "duration": 330,
    "start_time": "2022-02-01T02:43:48.746Z"
   },
   {
    "duration": 321,
    "start_time": "2022-02-01T02:44:09.395Z"
   },
   {
    "duration": 8326,
    "start_time": "2022-02-01T02:44:16.514Z"
   },
   {
    "duration": 324,
    "start_time": "2022-02-01T02:44:33.222Z"
   },
   {
    "duration": 5,
    "start_time": "2022-02-01T02:44:52.119Z"
   },
   {
    "duration": 4,
    "start_time": "2022-02-01T02:45:42.601Z"
   },
   {
    "duration": 116,
    "start_time": "2022-02-01T02:46:37.676Z"
   },
   {
    "duration": 5,
    "start_time": "2022-02-01T04:07:05.511Z"
   },
   {
    "duration": 4,
    "start_time": "2022-02-01T04:07:13.420Z"
   },
   {
    "duration": 4,
    "start_time": "2022-02-01T04:07:34.520Z"
   },
   {
    "duration": 21,
    "start_time": "2022-02-01T04:09:33.105Z"
   },
   {
    "duration": 15,
    "start_time": "2022-02-01T04:09:39.704Z"
   },
   {
    "duration": 5,
    "start_time": "2022-02-01T04:11:21.677Z"
   },
   {
    "duration": 313,
    "start_time": "2022-02-01T04:13:32.995Z"
   },
   {
    "duration": 325,
    "start_time": "2022-02-01T04:13:42.909Z"
   },
   {
    "duration": 10,
    "start_time": "2022-02-01T04:14:12.871Z"
   },
   {
    "duration": 16,
    "start_time": "2022-02-01T04:14:24.673Z"
   },
   {
    "duration": 108,
    "start_time": "2022-02-01T04:18:50.339Z"
   },
   {
    "duration": 6,
    "start_time": "2022-02-01T04:18:59.151Z"
   },
   {
    "duration": 5,
    "start_time": "2022-02-01T04:19:04.078Z"
   },
   {
    "duration": 24,
    "start_time": "2022-02-01T04:19:53.982Z"
   },
   {
    "duration": 426,
    "start_time": "2022-02-01T04:23:20.050Z"
   },
   {
    "duration": 617,
    "start_time": "2022-02-01T04:23:27.880Z"
   },
   {
    "duration": 19886,
    "start_time": "2022-02-01T04:29:37.334Z"
   },
   {
    "duration": 5,
    "start_time": "2022-02-01T04:35:41.073Z"
   },
   {
    "duration": 4,
    "start_time": "2022-02-01T04:35:48.968Z"
   },
   {
    "duration": 4,
    "start_time": "2022-02-01T04:36:12.663Z"
   },
   {
    "duration": 4,
    "start_time": "2022-02-01T04:36:14.227Z"
   },
   {
    "duration": 4,
    "start_time": "2022-02-01T04:36:14.585Z"
   },
   {
    "duration": 3,
    "start_time": "2022-02-01T04:39:41.041Z"
   },
   {
    "duration": 406,
    "start_time": "2022-02-01T04:40:45.704Z"
   },
   {
    "duration": 3,
    "start_time": "2022-02-01T04:40:53.081Z"
   },
   {
    "duration": 15,
    "start_time": "2022-02-01T04:40:53.482Z"
   },
   {
    "duration": 31,
    "start_time": "2022-02-01T04:41:04.716Z"
   },
   {
    "duration": 8,
    "start_time": "2022-02-01T04:41:43.053Z"
   },
   {
    "duration": 18,
    "start_time": "2022-02-01T04:45:41.673Z"
   },
   {
    "duration": 4,
    "start_time": "2022-02-01T04:45:49.281Z"
   },
   {
    "duration": 5,
    "start_time": "2022-02-01T04:45:57.633Z"
   },
   {
    "duration": 4268,
    "start_time": "2022-02-01T04:46:13.836Z"
   },
   {
    "duration": 681,
    "start_time": "2022-02-01T04:46:17.425Z"
   },
   {
    "duration": 2,
    "start_time": "2022-02-01T04:46:25.553Z"
   },
   {
    "duration": 84,
    "start_time": "2022-02-01T04:46:25.557Z"
   },
   {
    "duration": 76,
    "start_time": "2022-02-01T04:46:25.642Z"
   },
   {
    "duration": 20,
    "start_time": "2022-02-01T04:46:25.720Z"
   },
   {
    "duration": 11,
    "start_time": "2022-02-01T04:46:25.742Z"
   },
   {
    "duration": 7,
    "start_time": "2022-02-01T04:46:25.755Z"
   },
   {
    "duration": 5,
    "start_time": "2022-02-01T04:46:25.763Z"
   },
   {
    "duration": 7,
    "start_time": "2022-02-01T04:46:25.769Z"
   },
   {
    "duration": 4,
    "start_time": "2022-02-01T04:46:25.778Z"
   },
   {
    "duration": 5,
    "start_time": "2022-02-01T04:46:25.784Z"
   },
   {
    "duration": 37,
    "start_time": "2022-02-01T04:46:25.790Z"
   },
   {
    "duration": 5,
    "start_time": "2022-02-01T04:46:25.828Z"
   },
   {
    "duration": 5,
    "start_time": "2022-02-01T04:46:25.834Z"
   },
   {
    "duration": 6,
    "start_time": "2022-02-01T04:46:25.840Z"
   },
   {
    "duration": 4,
    "start_time": "2022-02-01T04:46:25.847Z"
   },
   {
    "duration": 15,
    "start_time": "2022-02-01T04:46:25.852Z"
   },
   {
    "duration": 5,
    "start_time": "2022-02-01T04:46:25.868Z"
   },
   {
    "duration": 13,
    "start_time": "2022-02-01T04:46:25.874Z"
   },
   {
    "duration": 44,
    "start_time": "2022-02-01T04:46:25.888Z"
   },
   {
    "duration": 4,
    "start_time": "2022-02-01T04:46:25.933Z"
   },
   {
    "duration": 23,
    "start_time": "2022-02-01T04:46:25.938Z"
   },
   {
    "duration": 615,
    "start_time": "2022-02-01T04:46:25.963Z"
   },
   {
    "duration": 19124,
    "start_time": "2022-02-01T04:46:26.579Z"
   },
   {
    "duration": 4,
    "start_time": "2022-02-01T04:46:45.705Z"
   },
   {
    "duration": 18,
    "start_time": "2022-02-01T04:46:45.710Z"
   },
   {
    "duration": 2,
    "start_time": "2022-02-01T04:46:45.729Z"
   },
   {
    "duration": 26,
    "start_time": "2022-02-01T04:46:45.732Z"
   },
   {
    "duration": 7,
    "start_time": "2022-02-01T04:46:45.760Z"
   },
   {
    "duration": 16,
    "start_time": "2022-02-01T04:46:45.768Z"
   },
   {
    "duration": 14,
    "start_time": "2022-02-01T04:47:02.121Z"
   },
   {
    "duration": 18,
    "start_time": "2022-02-01T04:47:17.699Z"
   },
   {
    "duration": 8,
    "start_time": "2022-02-01T04:49:08.575Z"
   },
   {
    "duration": 3,
    "start_time": "2022-02-01T04:51:40.915Z"
   },
   {
    "duration": 82,
    "start_time": "2022-02-01T04:51:40.920Z"
   },
   {
    "duration": 84,
    "start_time": "2022-02-01T04:51:41.004Z"
   },
   {
    "duration": 16,
    "start_time": "2022-02-01T04:51:41.089Z"
   },
   {
    "duration": 21,
    "start_time": "2022-02-01T04:51:41.107Z"
   },
   {
    "duration": 8,
    "start_time": "2022-02-01T04:51:41.130Z"
   },
   {
    "duration": 5,
    "start_time": "2022-02-01T04:51:41.139Z"
   },
   {
    "duration": 4,
    "start_time": "2022-02-01T04:51:41.145Z"
   },
   {
    "duration": 5,
    "start_time": "2022-02-01T04:51:41.151Z"
   },
   {
    "duration": 6,
    "start_time": "2022-02-01T04:51:41.158Z"
   },
   {
    "duration": 7,
    "start_time": "2022-02-01T04:51:41.165Z"
   },
   {
    "duration": 8,
    "start_time": "2022-02-01T04:51:41.173Z"
   },
   {
    "duration": 48,
    "start_time": "2022-02-01T04:51:41.182Z"
   },
   {
    "duration": 5,
    "start_time": "2022-02-01T04:51:41.231Z"
   },
   {
    "duration": 7,
    "start_time": "2022-02-01T04:51:41.238Z"
   },
   {
    "duration": 19,
    "start_time": "2022-02-01T04:51:41.246Z"
   },
   {
    "duration": 4,
    "start_time": "2022-02-01T04:51:41.266Z"
   },
   {
    "duration": 15,
    "start_time": "2022-02-01T04:51:41.272Z"
   },
   {
    "duration": 16,
    "start_time": "2022-02-01T04:51:41.288Z"
   },
   {
    "duration": 23,
    "start_time": "2022-02-01T04:51:41.305Z"
   },
   {
    "duration": 5,
    "start_time": "2022-02-01T04:51:41.330Z"
   },
   {
    "duration": 752,
    "start_time": "2022-02-01T04:51:41.337Z"
   },
   {
    "duration": 19846,
    "start_time": "2022-02-01T04:51:42.091Z"
   },
   {
    "duration": 4,
    "start_time": "2022-02-01T04:52:01.940Z"
   },
   {
    "duration": 7,
    "start_time": "2022-02-01T04:52:01.945Z"
   },
   {
    "duration": 6,
    "start_time": "2022-02-01T04:52:01.953Z"
   },
   {
    "duration": 29,
    "start_time": "2022-02-01T04:52:01.961Z"
   },
   {
    "duration": 8,
    "start_time": "2022-02-01T04:52:01.991Z"
   },
   {
    "duration": 36,
    "start_time": "2022-02-01T04:52:02.001Z"
   },
   {
    "duration": 7,
    "start_time": "2022-02-01T04:52:02.039Z"
   },
   {
    "duration": 18,
    "start_time": "2022-02-01T04:58:56.913Z"
   },
   {
    "duration": 409,
    "start_time": "2022-02-01T04:59:24.942Z"
   },
   {
    "duration": 316,
    "start_time": "2022-02-01T04:59:52.151Z"
   },
   {
    "duration": 837,
    "start_time": "2022-02-01T04:59:51.633Z"
   },
   {
    "duration": 835,
    "start_time": "2022-02-01T04:59:51.636Z"
   },
   {
    "duration": 834,
    "start_time": "2022-02-01T04:59:51.639Z"
   },
   {
    "duration": 596,
    "start_time": "2022-02-01T04:59:51.878Z"
   },
   {
    "duration": 594,
    "start_time": "2022-02-01T04:59:51.881Z"
   },
   {
    "duration": 593,
    "start_time": "2022-02-01T04:59:51.884Z"
   },
   {
    "duration": 592,
    "start_time": "2022-02-01T04:59:51.886Z"
   },
   {
    "duration": 589,
    "start_time": "2022-02-01T04:59:51.890Z"
   },
   {
    "duration": 588,
    "start_time": "2022-02-01T04:59:51.892Z"
   },
   {
    "duration": 587,
    "start_time": "2022-02-01T04:59:51.895Z"
   },
   {
    "duration": 586,
    "start_time": "2022-02-01T04:59:51.897Z"
   },
   {
    "duration": 585,
    "start_time": "2022-02-01T04:59:51.899Z"
   },
   {
    "duration": 584,
    "start_time": "2022-02-01T04:59:51.902Z"
   },
   {
    "duration": 582,
    "start_time": "2022-02-01T04:59:51.905Z"
   },
   {
    "duration": 580,
    "start_time": "2022-02-01T04:59:51.908Z"
   },
   {
    "duration": 3,
    "start_time": "2022-02-01T05:00:06.430Z"
   },
   {
    "duration": 91,
    "start_time": "2022-02-01T05:00:06.437Z"
   },
   {
    "duration": 77,
    "start_time": "2022-02-01T05:00:06.530Z"
   },
   {
    "duration": 32,
    "start_time": "2022-02-01T05:00:06.609Z"
   },
   {
    "duration": 14,
    "start_time": "2022-02-01T05:00:06.643Z"
   },
   {
    "duration": 9,
    "start_time": "2022-02-01T05:00:06.659Z"
   },
   {
    "duration": 6,
    "start_time": "2022-02-01T05:00:06.670Z"
   },
   {
    "duration": 5,
    "start_time": "2022-02-01T05:00:06.678Z"
   },
   {
    "duration": 8,
    "start_time": "2022-02-01T05:00:06.686Z"
   },
   {
    "duration": 32,
    "start_time": "2022-02-01T05:00:06.696Z"
   },
   {
    "duration": 6,
    "start_time": "2022-02-01T05:00:06.730Z"
   },
   {
    "duration": 7,
    "start_time": "2022-02-01T05:00:06.737Z"
   },
   {
    "duration": 10,
    "start_time": "2022-02-01T05:00:06.745Z"
   },
   {
    "duration": 13,
    "start_time": "2022-02-01T05:00:06.756Z"
   },
   {
    "duration": 4,
    "start_time": "2022-02-01T05:00:06.770Z"
   },
   {
    "duration": 16,
    "start_time": "2022-02-01T05:00:06.776Z"
   },
   {
    "duration": 38,
    "start_time": "2022-02-01T05:00:06.793Z"
   },
   {
    "duration": 10,
    "start_time": "2022-02-01T05:00:06.833Z"
   },
   {
    "duration": 17,
    "start_time": "2022-02-01T05:00:06.845Z"
   },
   {
    "duration": 5,
    "start_time": "2022-02-01T05:00:06.864Z"
   },
   {
    "duration": 8,
    "start_time": "2022-02-01T05:00:06.870Z"
   },
   {
    "duration": 637,
    "start_time": "2022-02-01T05:00:06.879Z"
   },
   {
    "duration": 19796,
    "start_time": "2022-02-01T05:00:07.518Z"
   },
   {
    "duration": 12,
    "start_time": "2022-02-01T05:00:27.317Z"
   },
   {
    "duration": 4,
    "start_time": "2022-02-01T05:00:27.331Z"
   },
   {
    "duration": 3,
    "start_time": "2022-02-01T05:00:27.336Z"
   },
   {
    "duration": 28,
    "start_time": "2022-02-01T05:00:27.340Z"
   },
   {
    "duration": 7,
    "start_time": "2022-02-01T05:00:27.369Z"
   },
   {
    "duration": 13,
    "start_time": "2022-02-01T05:00:27.378Z"
   },
   {
    "duration": 36,
    "start_time": "2022-02-01T05:00:27.392Z"
   },
   {
    "duration": 18,
    "start_time": "2022-02-01T05:00:27.429Z"
   },
   {
    "duration": 17,
    "start_time": "2022-02-01T05:03:04.484Z"
   },
   {
    "duration": 22,
    "start_time": "2022-02-01T05:03:07.733Z"
   },
   {
    "duration": 350,
    "start_time": "2022-02-01T05:04:02.549Z"
   },
   {
    "duration": 11,
    "start_time": "2022-02-01T05:04:29.744Z"
   },
   {
    "duration": 396,
    "start_time": "2022-02-01T05:04:47.462Z"
   },
   {
    "duration": 9,
    "start_time": "2022-02-01T05:05:06.676Z"
   },
   {
    "duration": 17,
    "start_time": "2022-02-01T05:07:13.405Z"
   },
   {
    "duration": 6,
    "start_time": "2022-02-01T05:13:07.817Z"
   },
   {
    "duration": 4,
    "start_time": "2022-02-01T05:16:26.488Z"
   },
   {
    "duration": 5,
    "start_time": "2022-02-01T05:16:32.232Z"
   },
   {
    "duration": 19,
    "start_time": "2022-02-01T05:17:13.729Z"
   },
   {
    "duration": 5,
    "start_time": "2022-02-01T05:17:48.773Z"
   },
   {
    "duration": 6,
    "start_time": "2022-02-01T05:18:08.297Z"
   },
   {
    "duration": 8,
    "start_time": "2022-02-01T05:19:30.760Z"
   },
   {
    "duration": 6,
    "start_time": "2022-02-01T05:19:54.960Z"
   },
   {
    "duration": 5,
    "start_time": "2022-02-01T05:23:39.200Z"
   },
   {
    "duration": 9,
    "start_time": "2022-02-01T05:23:41.849Z"
   },
   {
    "duration": 18,
    "start_time": "2022-02-01T05:24:35.892Z"
   },
   {
    "duration": 312,
    "start_time": "2022-02-01T05:25:10.023Z"
   },
   {
    "duration": 8448,
    "start_time": "2022-02-01T05:25:27.489Z"
   },
   {
    "duration": 5,
    "start_time": "2022-02-01T05:25:39.735Z"
   },
   {
    "duration": 6,
    "start_time": "2022-02-01T05:25:56.271Z"
   },
   {
    "duration": 22,
    "start_time": "2022-02-01T05:26:52.059Z"
   },
   {
    "duration": 19,
    "start_time": "2022-02-01T05:27:11.709Z"
   },
   {
    "duration": 5,
    "start_time": "2022-02-01T05:31:21.918Z"
   },
   {
    "duration": 17,
    "start_time": "2022-02-01T05:37:25.230Z"
   },
   {
    "duration": 12,
    "start_time": "2022-02-01T05:39:42.476Z"
   },
   {
    "duration": 10,
    "start_time": "2022-02-01T05:40:38.978Z"
   },
   {
    "duration": 17,
    "start_time": "2022-02-01T05:40:47.834Z"
   },
   {
    "duration": 13,
    "start_time": "2022-02-01T05:40:55.649Z"
   },
   {
    "duration": 326,
    "start_time": "2022-02-01T05:42:51.126Z"
   },
   {
    "duration": 14,
    "start_time": "2022-02-01T05:44:31.830Z"
   },
   {
    "duration": 341,
    "start_time": "2022-02-01T05:49:10.964Z"
   },
   {
    "duration": 7,
    "start_time": "2022-02-01T05:49:21.597Z"
   },
   {
    "duration": 17,
    "start_time": "2022-02-01T05:49:25.316Z"
   },
   {
    "duration": 12,
    "start_time": "2022-02-01T05:49:30.698Z"
   },
   {
    "duration": 332,
    "start_time": "2022-02-01T05:50:01.655Z"
   },
   {
    "duration": 334,
    "start_time": "2022-02-01T05:50:22.715Z"
   },
   {
    "duration": 365,
    "start_time": "2022-02-01T05:51:08.958Z"
   },
   {
    "duration": 575,
    "start_time": "2022-02-01T05:51:15.724Z"
   },
   {
    "duration": 310,
    "start_time": "2022-02-01T05:51:37.303Z"
   },
   {
    "duration": 11,
    "start_time": "2022-02-01T05:51:58.409Z"
   },
   {
    "duration": 12,
    "start_time": "2022-02-01T05:52:03.583Z"
   },
   {
    "duration": 19,
    "start_time": "2022-02-01T05:52:13.097Z"
   },
   {
    "duration": 4,
    "start_time": "2022-02-01T05:56:50.407Z"
   },
   {
    "duration": 21,
    "start_time": "2022-02-01T05:56:54.082Z"
   },
   {
    "duration": 323,
    "start_time": "2022-02-01T06:01:30.453Z"
   },
   {
    "duration": 18,
    "start_time": "2022-02-01T06:01:50.059Z"
   },
   {
    "duration": 13,
    "start_time": "2022-02-01T06:01:55.127Z"
   },
   {
    "duration": 16,
    "start_time": "2022-02-01T06:03:09.198Z"
   },
   {
    "duration": 5,
    "start_time": "2022-02-01T06:07:01.760Z"
   },
   {
    "duration": 14,
    "start_time": "2022-02-01T06:07:05.875Z"
   },
   {
    "duration": 314,
    "start_time": "2022-02-01T06:11:54.619Z"
   },
   {
    "duration": 8,
    "start_time": "2022-02-01T06:12:03.035Z"
   },
   {
    "duration": 13,
    "start_time": "2022-02-01T06:12:07.862Z"
   },
   {
    "duration": 4,
    "start_time": "2022-02-01T06:13:36.856Z"
   },
   {
    "duration": 10,
    "start_time": "2022-02-01T06:16:03.602Z"
   },
   {
    "duration": 15,
    "start_time": "2022-02-01T06:16:12.762Z"
   },
   {
    "duration": 3,
    "start_time": "2022-02-01T06:19:06.079Z"
   },
   {
    "duration": 86,
    "start_time": "2022-02-01T06:19:06.086Z"
   },
   {
    "duration": 81,
    "start_time": "2022-02-01T06:19:06.174Z"
   },
   {
    "duration": 16,
    "start_time": "2022-02-01T06:19:06.257Z"
   },
   {
    "duration": 13,
    "start_time": "2022-02-01T06:19:06.275Z"
   },
   {
    "duration": 11,
    "start_time": "2022-02-01T06:19:06.289Z"
   },
   {
    "duration": 5,
    "start_time": "2022-02-01T06:19:06.327Z"
   },
   {
    "duration": 6,
    "start_time": "2022-02-01T06:19:06.333Z"
   },
   {
    "duration": 5,
    "start_time": "2022-02-01T06:19:06.341Z"
   },
   {
    "duration": 5,
    "start_time": "2022-02-01T06:19:06.348Z"
   },
   {
    "duration": 5,
    "start_time": "2022-02-01T06:19:06.355Z"
   },
   {
    "duration": 6,
    "start_time": "2022-02-01T06:19:06.361Z"
   },
   {
    "duration": 11,
    "start_time": "2022-02-01T06:19:06.368Z"
   },
   {
    "duration": 7,
    "start_time": "2022-02-01T06:19:06.380Z"
   },
   {
    "duration": 3,
    "start_time": "2022-02-01T06:19:06.389Z"
   },
   {
    "duration": 40,
    "start_time": "2022-02-01T06:19:06.394Z"
   },
   {
    "duration": 4,
    "start_time": "2022-02-01T06:19:06.436Z"
   },
   {
    "duration": 10,
    "start_time": "2022-02-01T06:19:06.441Z"
   },
   {
    "duration": 16,
    "start_time": "2022-02-01T06:19:06.453Z"
   },
   {
    "duration": 4,
    "start_time": "2022-02-01T06:19:06.470Z"
   },
   {
    "duration": 8,
    "start_time": "2022-02-01T06:19:06.476Z"
   },
   {
    "duration": 635,
    "start_time": "2022-02-01T06:19:06.485Z"
   },
   {
    "duration": 19469,
    "start_time": "2022-02-01T06:19:07.121Z"
   },
   {
    "duration": 3,
    "start_time": "2022-02-01T06:19:26.594Z"
   },
   {
    "duration": 7,
    "start_time": "2022-02-01T06:19:26.599Z"
   },
   {
    "duration": 7,
    "start_time": "2022-02-01T06:19:26.607Z"
   },
   {
    "duration": 24,
    "start_time": "2022-02-01T06:19:26.627Z"
   },
   {
    "duration": 15,
    "start_time": "2022-02-01T06:19:26.653Z"
   },
   {
    "duration": 7,
    "start_time": "2022-02-01T06:19:26.669Z"
   },
   {
    "duration": 17,
    "start_time": "2022-02-01T06:19:26.677Z"
   },
   {
    "duration": 34,
    "start_time": "2022-02-01T06:19:26.695Z"
   },
   {
    "duration": 17,
    "start_time": "2022-02-01T06:19:26.731Z"
   },
   {
    "duration": 5,
    "start_time": "2022-02-01T06:19:26.749Z"
   },
   {
    "duration": 3,
    "start_time": "2022-02-01T06:19:26.755Z"
   },
   {
    "duration": 10,
    "start_time": "2022-02-01T06:19:26.759Z"
   },
   {
    "duration": 6,
    "start_time": "2022-02-01T06:19:26.770Z"
   },
   {
    "duration": 6,
    "start_time": "2022-02-01T06:19:26.777Z"
   },
   {
    "duration": 49,
    "start_time": "2022-02-01T06:19:26.784Z"
   },
   {
    "duration": 5,
    "start_time": "2022-02-01T06:19:26.835Z"
   },
   {
    "duration": 19,
    "start_time": "2022-02-01T06:19:26.841Z"
   },
   {
    "duration": 4,
    "start_time": "2022-02-01T06:19:26.861Z"
   },
   {
    "duration": 18,
    "start_time": "2022-02-01T06:19:26.867Z"
   },
   {
    "duration": 44,
    "start_time": "2022-02-01T06:19:26.887Z"
   },
   {
    "duration": 11,
    "start_time": "2022-02-01T06:19:26.932Z"
   },
   {
    "duration": 9,
    "start_time": "2022-02-01T06:19:26.945Z"
   },
   {
    "duration": 3,
    "start_time": "2022-02-01T06:19:26.955Z"
   },
   {
    "duration": 19,
    "start_time": "2022-02-01T06:19:26.959Z"
   },
   {
    "duration": 4,
    "start_time": "2022-02-01T06:19:26.979Z"
   },
   {
    "duration": 5,
    "start_time": "2022-02-01T06:19:26.985Z"
   },
   {
    "duration": 6,
    "start_time": "2022-02-01T06:19:26.991Z"
   },
   {
    "duration": 9,
    "start_time": "2022-02-01T06:19:26.998Z"
   },
   {
    "duration": 11,
    "start_time": "2022-02-01T06:19:35.964Z"
   },
   {
    "duration": 16,
    "start_time": "2022-02-01T06:19:40.138Z"
   },
   {
    "duration": 2,
    "start_time": "2022-02-01T06:20:29.140Z"
   },
   {
    "duration": 93,
    "start_time": "2022-02-01T06:20:29.145Z"
   },
   {
    "duration": 77,
    "start_time": "2022-02-01T06:20:29.240Z"
   },
   {
    "duration": 24,
    "start_time": "2022-02-01T06:20:29.318Z"
   },
   {
    "duration": 12,
    "start_time": "2022-02-01T06:20:29.344Z"
   },
   {
    "duration": 7,
    "start_time": "2022-02-01T06:20:29.358Z"
   },
   {
    "duration": 5,
    "start_time": "2022-02-01T06:20:29.366Z"
   },
   {
    "duration": 8,
    "start_time": "2022-02-01T06:20:29.372Z"
   },
   {
    "duration": 5,
    "start_time": "2022-02-01T06:20:29.382Z"
   },
   {
    "duration": 42,
    "start_time": "2022-02-01T06:20:29.388Z"
   },
   {
    "duration": 7,
    "start_time": "2022-02-01T06:20:29.431Z"
   },
   {
    "duration": 6,
    "start_time": "2022-02-01T06:20:29.440Z"
   },
   {
    "duration": 6,
    "start_time": "2022-02-01T06:20:29.447Z"
   },
   {
    "duration": 5,
    "start_time": "2022-02-01T06:20:29.454Z"
   },
   {
    "duration": 5,
    "start_time": "2022-02-01T06:20:29.460Z"
   },
   {
    "duration": 16,
    "start_time": "2022-02-01T06:20:29.466Z"
   },
   {
    "duration": 4,
    "start_time": "2022-02-01T06:20:29.483Z"
   },
   {
    "duration": 43,
    "start_time": "2022-02-01T06:20:29.488Z"
   },
   {
    "duration": 15,
    "start_time": "2022-02-01T06:20:29.533Z"
   },
   {
    "duration": 3,
    "start_time": "2022-02-01T06:20:29.550Z"
   },
   {
    "duration": 8,
    "start_time": "2022-02-01T06:20:29.554Z"
   },
   {
    "duration": 641,
    "start_time": "2022-02-01T06:20:29.564Z"
   },
   {
    "duration": 19310,
    "start_time": "2022-02-01T06:20:30.207Z"
   },
   {
    "duration": 4,
    "start_time": "2022-02-01T06:20:49.528Z"
   },
   {
    "duration": 5,
    "start_time": "2022-02-01T06:20:49.534Z"
   },
   {
    "duration": 6,
    "start_time": "2022-02-01T06:20:49.540Z"
   },
   {
    "duration": 27,
    "start_time": "2022-02-01T06:20:49.547Z"
   },
   {
    "duration": 16,
    "start_time": "2022-02-01T06:20:49.575Z"
   },
   {
    "duration": 8,
    "start_time": "2022-02-01T06:20:49.592Z"
   },
   {
    "duration": 37,
    "start_time": "2022-02-01T06:20:49.601Z"
   },
   {
    "duration": 8,
    "start_time": "2022-02-01T06:20:49.640Z"
   },
   {
    "duration": 16,
    "start_time": "2022-02-01T06:20:49.650Z"
   },
   {
    "duration": 5,
    "start_time": "2022-02-01T06:20:49.667Z"
   },
   {
    "duration": 4,
    "start_time": "2022-02-01T06:20:49.673Z"
   },
   {
    "duration": 7,
    "start_time": "2022-02-01T06:20:49.678Z"
   },
   {
    "duration": 42,
    "start_time": "2022-02-01T06:20:49.687Z"
   },
   {
    "duration": 10,
    "start_time": "2022-02-01T06:20:49.731Z"
   },
   {
    "duration": 24,
    "start_time": "2022-02-01T06:20:49.742Z"
   },
   {
    "duration": 6,
    "start_time": "2022-02-01T06:20:49.767Z"
   },
   {
    "duration": 26,
    "start_time": "2022-02-01T06:20:49.774Z"
   },
   {
    "duration": 5,
    "start_time": "2022-02-01T06:20:49.801Z"
   },
   {
    "duration": 19,
    "start_time": "2022-02-01T06:20:49.827Z"
   },
   {
    "duration": 11,
    "start_time": "2022-02-01T06:20:49.847Z"
   },
   {
    "duration": 12,
    "start_time": "2022-02-01T06:20:49.859Z"
   },
   {
    "duration": 10,
    "start_time": "2022-02-01T06:20:49.872Z"
   },
   {
    "duration": 3,
    "start_time": "2022-02-01T06:20:49.883Z"
   },
   {
    "duration": 48,
    "start_time": "2022-02-01T06:20:49.887Z"
   },
   {
    "duration": 5,
    "start_time": "2022-02-01T06:20:49.936Z"
   },
   {
    "duration": 7,
    "start_time": "2022-02-01T06:20:49.942Z"
   },
   {
    "duration": 5,
    "start_time": "2022-02-01T06:20:49.951Z"
   },
   {
    "duration": 13,
    "start_time": "2022-02-01T06:20:49.957Z"
   },
   {
    "duration": 37,
    "start_time": "2022-02-01T06:30:56.667Z"
   },
   {
    "duration": 2,
    "start_time": "2022-02-01T06:31:11.079Z"
   },
   {
    "duration": 92,
    "start_time": "2022-02-01T06:31:11.084Z"
   },
   {
    "duration": 87,
    "start_time": "2022-02-01T06:31:11.178Z"
   },
   {
    "duration": 17,
    "start_time": "2022-02-01T06:31:11.267Z"
   },
   {
    "duration": 14,
    "start_time": "2022-02-01T06:31:11.286Z"
   },
   {
    "duration": 29,
    "start_time": "2022-02-01T06:31:11.301Z"
   },
   {
    "duration": 6,
    "start_time": "2022-02-01T06:31:11.331Z"
   },
   {
    "duration": 7,
    "start_time": "2022-02-01T06:31:11.338Z"
   },
   {
    "duration": 6,
    "start_time": "2022-02-01T06:31:11.347Z"
   },
   {
    "duration": 8,
    "start_time": "2022-02-01T06:31:11.354Z"
   },
   {
    "duration": 6,
    "start_time": "2022-02-01T06:31:11.364Z"
   },
   {
    "duration": 5,
    "start_time": "2022-02-01T06:31:11.371Z"
   },
   {
    "duration": 5,
    "start_time": "2022-02-01T06:31:11.377Z"
   },
   {
    "duration": 4,
    "start_time": "2022-02-01T06:31:11.384Z"
   },
   {
    "duration": 38,
    "start_time": "2022-02-01T06:31:11.390Z"
   },
   {
    "duration": 18,
    "start_time": "2022-02-01T06:31:11.429Z"
   },
   {
    "duration": 4,
    "start_time": "2022-02-01T06:31:11.448Z"
   },
   {
    "duration": 9,
    "start_time": "2022-02-01T06:31:11.453Z"
   },
   {
    "duration": 17,
    "start_time": "2022-02-01T06:31:11.463Z"
   },
   {
    "duration": 3,
    "start_time": "2022-02-01T06:31:11.481Z"
   },
   {
    "duration": 8,
    "start_time": "2022-02-01T06:31:11.486Z"
   },
   {
    "duration": 664,
    "start_time": "2022-02-01T06:31:11.527Z"
   },
   {
    "duration": 20091,
    "start_time": "2022-02-01T06:31:12.192Z"
   },
   {
    "duration": 5,
    "start_time": "2022-02-01T06:31:32.287Z"
   },
   {
    "duration": 7,
    "start_time": "2022-02-01T06:31:32.295Z"
   },
   {
    "duration": 24,
    "start_time": "2022-02-01T06:31:32.304Z"
   },
   {
    "duration": 32,
    "start_time": "2022-02-01T06:31:32.330Z"
   },
   {
    "duration": 17,
    "start_time": "2022-02-01T06:31:32.363Z"
   },
   {
    "duration": 8,
    "start_time": "2022-02-01T06:31:32.381Z"
   },
   {
    "duration": 38,
    "start_time": "2022-02-01T06:31:32.390Z"
   },
   {
    "duration": 10,
    "start_time": "2022-02-01T06:31:32.429Z"
   },
   {
    "duration": 16,
    "start_time": "2022-02-01T06:31:32.441Z"
   },
   {
    "duration": 5,
    "start_time": "2022-02-01T06:31:32.459Z"
   },
   {
    "duration": 4,
    "start_time": "2022-02-01T06:31:32.465Z"
   },
   {
    "duration": 8,
    "start_time": "2022-02-01T06:31:32.470Z"
   },
   {
    "duration": 6,
    "start_time": "2022-02-01T06:31:32.480Z"
   },
   {
    "duration": 6,
    "start_time": "2022-02-01T06:31:32.488Z"
   },
   {
    "duration": 17,
    "start_time": "2022-02-01T06:31:32.527Z"
   },
   {
    "duration": 5,
    "start_time": "2022-02-01T06:31:32.545Z"
   },
   {
    "duration": 18,
    "start_time": "2022-02-01T06:31:32.552Z"
   },
   {
    "duration": 4,
    "start_time": "2022-02-01T06:31:32.571Z"
   },
   {
    "duration": 18,
    "start_time": "2022-02-01T06:31:32.576Z"
   },
   {
    "duration": 37,
    "start_time": "2022-02-01T06:31:32.595Z"
   },
   {
    "duration": 11,
    "start_time": "2022-02-01T06:31:32.633Z"
   },
   {
    "duration": 10,
    "start_time": "2022-02-01T06:31:32.645Z"
   },
   {
    "duration": 3,
    "start_time": "2022-02-01T06:31:32.656Z"
   },
   {
    "duration": 24,
    "start_time": "2022-02-01T06:31:32.661Z"
   },
   {
    "duration": 5,
    "start_time": "2022-02-01T06:31:32.687Z"
   },
   {
    "duration": 5,
    "start_time": "2022-02-01T06:31:32.694Z"
   },
   {
    "duration": 83,
    "start_time": "2022-02-01T06:31:32.701Z"
   },
   {
    "duration": 12,
    "start_time": "2022-02-01T06:31:32.786Z"
   },
   {
    "duration": 16,
    "start_time": "2022-02-01T06:32:02.625Z"
   },
   {
    "duration": 95,
    "start_time": "2022-02-01T06:32:53.667Z"
   },
   {
    "duration": 29,
    "start_time": "2022-02-01T06:33:12.095Z"
   },
   {
    "duration": 18,
    "start_time": "2022-02-01T06:33:31.123Z"
   },
   {
    "duration": 6,
    "start_time": "2022-02-01T06:34:56.387Z"
   },
   {
    "duration": 105,
    "start_time": "2022-02-01T06:35:03.739Z"
   },
   {
    "duration": 22,
    "start_time": "2022-02-01T06:35:17.770Z"
   },
   {
    "duration": 461,
    "start_time": "2022-02-01T06:36:53.945Z"
   },
   {
    "duration": 21,
    "start_time": "2022-02-01T06:36:59.465Z"
   },
   {
    "duration": 33,
    "start_time": "2022-02-01T06:37:36.424Z"
   },
   {
    "duration": 54,
    "start_time": "2022-02-01T06:39:26.017Z"
   },
   {
    "duration": 116,
    "start_time": "2022-02-01T06:48:42.212Z"
   },
   {
    "duration": 374,
    "start_time": "2022-02-01T06:48:50.697Z"
   },
   {
    "duration": 263,
    "start_time": "2022-02-01T06:50:13.621Z"
   },
   {
    "duration": 20,
    "start_time": "2022-02-01T06:50:32.925Z"
   },
   {
    "duration": 35,
    "start_time": "2022-02-01T06:50:43.538Z"
   },
   {
    "duration": 552,
    "start_time": "2022-02-01T06:53:12.248Z"
   },
   {
    "duration": 21,
    "start_time": "2022-02-01T06:53:19.971Z"
   },
   {
    "duration": 21,
    "start_time": "2022-02-01T06:53:49.775Z"
   },
   {
    "duration": 1091,
    "start_time": "2022-02-01T06:54:58.562Z"
   },
   {
    "duration": 90,
    "start_time": "2022-02-01T06:54:59.655Z"
   },
   {
    "duration": 80,
    "start_time": "2022-02-01T06:54:59.748Z"
   },
   {
    "duration": 17,
    "start_time": "2022-02-01T06:54:59.830Z"
   },
   {
    "duration": 13,
    "start_time": "2022-02-01T06:54:59.849Z"
   },
   {
    "duration": 9,
    "start_time": "2022-02-01T06:54:59.863Z"
   },
   {
    "duration": 4,
    "start_time": "2022-02-01T06:54:59.874Z"
   },
   {
    "duration": 5,
    "start_time": "2022-02-01T06:54:59.879Z"
   },
   {
    "duration": 8,
    "start_time": "2022-02-01T06:54:59.886Z"
   },
   {
    "duration": 34,
    "start_time": "2022-02-01T06:54:59.896Z"
   },
   {
    "duration": 6,
    "start_time": "2022-02-01T06:54:59.932Z"
   },
   {
    "duration": 7,
    "start_time": "2022-02-01T06:54:59.940Z"
   },
   {
    "duration": 6,
    "start_time": "2022-02-01T06:54:59.948Z"
   },
   {
    "duration": 6,
    "start_time": "2022-02-01T06:54:59.956Z"
   },
   {
    "duration": 5,
    "start_time": "2022-02-01T06:54:59.963Z"
   },
   {
    "duration": 17,
    "start_time": "2022-02-01T06:54:59.969Z"
   },
   {
    "duration": 3,
    "start_time": "2022-02-01T06:54:59.988Z"
   },
   {
    "duration": 10,
    "start_time": "2022-02-01T06:55:00.028Z"
   },
   {
    "duration": 16,
    "start_time": "2022-02-01T06:55:00.040Z"
   },
   {
    "duration": 4,
    "start_time": "2022-02-01T06:55:00.058Z"
   },
   {
    "duration": 9,
    "start_time": "2022-02-01T06:55:00.063Z"
   },
   {
    "duration": 647,
    "start_time": "2022-02-01T06:55:00.074Z"
   },
   {
    "duration": 2,
    "start_time": "2022-02-01T06:55:00.727Z"
   },
   {
    "duration": 12,
    "start_time": "2022-02-01T06:55:00.731Z"
   },
   {
    "duration": 6,
    "start_time": "2022-02-01T06:55:00.745Z"
   },
   {
    "duration": 4,
    "start_time": "2022-02-01T06:55:00.752Z"
   },
   {
    "duration": 30,
    "start_time": "2022-02-01T06:55:00.759Z"
   },
   {
    "duration": 15,
    "start_time": "2022-02-01T06:55:00.791Z"
   },
   {
    "duration": 25,
    "start_time": "2022-02-01T06:55:00.808Z"
   },
   {
    "duration": 18,
    "start_time": "2022-02-01T06:55:00.835Z"
   },
   {
    "duration": 17,
    "start_time": "2022-02-01T06:55:00.854Z"
   },
   {
    "duration": 17,
    "start_time": "2022-02-01T06:55:00.872Z"
   },
   {
    "duration": 7,
    "start_time": "2022-02-01T06:55:00.890Z"
   },
   {
    "duration": 28,
    "start_time": "2022-02-01T06:55:00.899Z"
   },
   {
    "duration": 8,
    "start_time": "2022-02-01T06:55:00.929Z"
   },
   {
    "duration": 10,
    "start_time": "2022-02-01T06:55:00.938Z"
   },
   {
    "duration": 9,
    "start_time": "2022-02-01T06:55:00.949Z"
   },
   {
    "duration": 24,
    "start_time": "2022-02-01T06:55:00.960Z"
   },
   {
    "duration": 6,
    "start_time": "2022-02-01T06:55:00.985Z"
   },
   {
    "duration": 34,
    "start_time": "2022-02-01T06:55:00.993Z"
   },
   {
    "duration": 3,
    "start_time": "2022-02-01T06:55:01.029Z"
   },
   {
    "duration": 24,
    "start_time": "2022-02-01T06:55:01.034Z"
   },
   {
    "duration": 11,
    "start_time": "2022-02-01T06:55:01.059Z"
   },
   {
    "duration": 13,
    "start_time": "2022-02-01T06:55:01.071Z"
   },
   {
    "duration": 10,
    "start_time": "2022-02-01T06:55:01.085Z"
   },
   {
    "duration": 8,
    "start_time": "2022-02-01T06:55:01.096Z"
   },
   {
    "duration": 30,
    "start_time": "2022-02-01T06:55:01.106Z"
   },
   {
    "duration": 5,
    "start_time": "2022-02-01T06:55:01.137Z"
   },
   {
    "duration": 11,
    "start_time": "2022-02-01T06:55:01.144Z"
   },
   {
    "duration": 297,
    "start_time": "2022-02-01T06:55:11.055Z"
   },
   {
    "duration": 20,
    "start_time": "2022-02-01T06:55:23.906Z"
   },
   {
    "duration": 399,
    "start_time": "2022-02-01T07:02:08.092Z"
   },
   {
    "duration": 269,
    "start_time": "2022-02-01T07:02:32.877Z"
   },
   {
    "duration": 305,
    "start_time": "2022-02-01T07:02:55.279Z"
   },
   {
    "duration": 24,
    "start_time": "2022-02-01T07:02:56.330Z"
   },
   {
    "duration": 8,
    "start_time": "2022-02-01T07:03:29.304Z"
   },
   {
    "duration": 387,
    "start_time": "2022-02-01T07:05:41.143Z"
   },
   {
    "duration": 13,
    "start_time": "2022-02-01T07:06:38.098Z"
   },
   {
    "duration": 3,
    "start_time": "2022-02-01T07:07:46.960Z"
   },
   {
    "duration": 97,
    "start_time": "2022-02-01T07:07:46.966Z"
   },
   {
    "duration": 96,
    "start_time": "2022-02-01T07:07:47.065Z"
   },
   {
    "duration": 17,
    "start_time": "2022-02-01T07:07:47.164Z"
   },
   {
    "duration": 13,
    "start_time": "2022-02-01T07:07:47.183Z"
   },
   {
    "duration": 31,
    "start_time": "2022-02-01T07:07:47.197Z"
   },
   {
    "duration": 6,
    "start_time": "2022-02-01T07:07:47.229Z"
   },
   {
    "duration": 6,
    "start_time": "2022-02-01T07:07:47.237Z"
   },
   {
    "duration": 4,
    "start_time": "2022-02-01T07:07:47.246Z"
   },
   {
    "duration": 5,
    "start_time": "2022-02-01T07:07:47.253Z"
   },
   {
    "duration": 6,
    "start_time": "2022-02-01T07:07:47.260Z"
   },
   {
    "duration": 6,
    "start_time": "2022-02-01T07:07:47.268Z"
   },
   {
    "duration": 5,
    "start_time": "2022-02-01T07:07:47.276Z"
   },
   {
    "duration": 5,
    "start_time": "2022-02-01T07:07:47.328Z"
   },
   {
    "duration": 5,
    "start_time": "2022-02-01T07:07:47.334Z"
   },
   {
    "duration": 15,
    "start_time": "2022-02-01T07:07:47.341Z"
   },
   {
    "duration": 5,
    "start_time": "2022-02-01T07:07:47.357Z"
   },
   {
    "duration": 9,
    "start_time": "2022-02-01T07:07:47.363Z"
   },
   {
    "duration": 16,
    "start_time": "2022-02-01T07:07:47.373Z"
   },
   {
    "duration": 39,
    "start_time": "2022-02-01T07:07:47.390Z"
   },
   {
    "duration": 7,
    "start_time": "2022-02-01T07:07:47.430Z"
   },
   {
    "duration": 629,
    "start_time": "2022-02-01T07:07:47.438Z"
   },
   {
    "duration": 2,
    "start_time": "2022-02-01T07:07:48.068Z"
   },
   {
    "duration": 6,
    "start_time": "2022-02-01T07:07:48.073Z"
   },
   {
    "duration": 5,
    "start_time": "2022-02-01T07:07:48.081Z"
   },
   {
    "duration": 3,
    "start_time": "2022-02-01T07:07:48.087Z"
   },
   {
    "duration": 39,
    "start_time": "2022-02-01T07:07:48.092Z"
   },
   {
    "duration": 11,
    "start_time": "2022-02-01T07:07:48.132Z"
   },
   {
    "duration": 7,
    "start_time": "2022-02-01T07:07:48.145Z"
   },
   {
    "duration": 17,
    "start_time": "2022-02-01T07:07:48.153Z"
   },
   {
    "duration": 8,
    "start_time": "2022-02-01T07:07:48.172Z"
   },
   {
    "duration": 45,
    "start_time": "2022-02-01T07:07:48.182Z"
   },
   {
    "duration": 5,
    "start_time": "2022-02-01T07:07:48.229Z"
   },
   {
    "duration": 3,
    "start_time": "2022-02-01T07:07:48.235Z"
   },
   {
    "duration": 11,
    "start_time": "2022-02-01T07:07:48.240Z"
   },
   {
    "duration": 6,
    "start_time": "2022-02-01T07:07:48.252Z"
   },
   {
    "duration": 5,
    "start_time": "2022-02-01T07:07:48.260Z"
   },
   {
    "duration": 19,
    "start_time": "2022-02-01T07:07:48.267Z"
   },
   {
    "duration": 4,
    "start_time": "2022-02-01T07:07:48.288Z"
   },
   {
    "duration": 45,
    "start_time": "2022-02-01T07:07:48.294Z"
   },
   {
    "duration": 4,
    "start_time": "2022-02-01T07:07:48.340Z"
   },
   {
    "duration": 19,
    "start_time": "2022-02-01T07:07:48.345Z"
   },
   {
    "duration": 11,
    "start_time": "2022-02-01T07:07:48.365Z"
   },
   {
    "duration": 13,
    "start_time": "2022-02-01T07:07:48.377Z"
   },
   {
    "duration": 10,
    "start_time": "2022-02-01T07:07:48.391Z"
   },
   {
    "duration": 3,
    "start_time": "2022-02-01T07:07:48.402Z"
   },
   {
    "duration": 20,
    "start_time": "2022-02-01T07:07:48.428Z"
   },
   {
    "duration": 5,
    "start_time": "2022-02-01T07:07:48.450Z"
   },
   {
    "duration": 5,
    "start_time": "2022-02-01T07:07:48.456Z"
   },
   {
    "duration": 278,
    "start_time": "2022-02-01T07:07:48.462Z"
   },
   {
    "duration": 20,
    "start_time": "2022-02-01T07:07:48.742Z"
   },
   {
    "duration": 5,
    "start_time": "2022-02-01T07:07:48.763Z"
   },
   {
    "duration": 13,
    "start_time": "2022-02-01T07:07:48.769Z"
   },
   {
    "duration": 7,
    "start_time": "2022-02-01T07:07:48.783Z"
   },
   {
    "duration": 36,
    "start_time": "2022-02-01T07:07:48.792Z"
   },
   {
    "duration": 98,
    "start_time": "2022-02-01T07:07:48.830Z"
   },
   {
    "duration": 98,
    "start_time": "2022-02-01T07:07:54.541Z"
   },
   {
    "duration": 20,
    "start_time": "2022-02-01T07:07:58.902Z"
   },
   {
    "duration": 15,
    "start_time": "2022-02-01T07:08:17.900Z"
   },
   {
    "duration": 29,
    "start_time": "2022-02-01T07:08:28.876Z"
   },
   {
    "duration": 331,
    "start_time": "2022-02-01T07:08:47.885Z"
   },
   {
    "duration": 16,
    "start_time": "2022-02-01T07:09:21.409Z"
   },
   {
    "duration": 418,
    "start_time": "2022-02-01T07:09:58.975Z"
   },
   {
    "duration": 84,
    "start_time": "2022-02-01T07:10:38.254Z"
   },
   {
    "duration": 1433,
    "start_time": "2022-02-01T23:54:10.565Z"
   },
   {
    "duration": 150,
    "start_time": "2022-02-01T23:54:12.001Z"
   },
   {
    "duration": 143,
    "start_time": "2022-02-01T23:54:12.157Z"
   },
   {
    "duration": 31,
    "start_time": "2022-02-01T23:54:12.303Z"
   },
   {
    "duration": 25,
    "start_time": "2022-02-01T23:54:12.337Z"
   },
   {
    "duration": 19,
    "start_time": "2022-02-01T23:54:12.365Z"
   },
   {
    "duration": 8,
    "start_time": "2022-02-01T23:54:12.386Z"
   },
   {
    "duration": 47,
    "start_time": "2022-02-01T23:54:12.397Z"
   },
   {
    "duration": 11,
    "start_time": "2022-02-01T23:54:12.448Z"
   },
   {
    "duration": 12,
    "start_time": "2022-02-01T23:54:12.461Z"
   },
   {
    "duration": 10,
    "start_time": "2022-02-01T23:54:12.475Z"
   },
   {
    "duration": 16,
    "start_time": "2022-02-01T23:54:12.487Z"
   },
   {
    "duration": 7,
    "start_time": "2022-02-01T23:54:12.534Z"
   },
   {
    "duration": 19,
    "start_time": "2022-02-01T23:54:12.546Z"
   },
   {
    "duration": 12,
    "start_time": "2022-02-01T23:54:12.567Z"
   },
   {
    "duration": 37,
    "start_time": "2022-02-01T23:54:12.581Z"
   },
   {
    "duration": 14,
    "start_time": "2022-02-01T23:54:12.620Z"
   },
   {
    "duration": 30,
    "start_time": "2022-02-01T23:54:12.636Z"
   },
   {
    "duration": 24,
    "start_time": "2022-02-01T23:54:12.669Z"
   },
   {
    "duration": 7,
    "start_time": "2022-02-01T23:54:12.695Z"
   },
   {
    "duration": 38,
    "start_time": "2022-02-01T23:54:12.704Z"
   },
   {
    "duration": 1060,
    "start_time": "2022-02-01T23:54:12.745Z"
   },
   {
    "duration": 3,
    "start_time": "2022-02-01T23:54:13.810Z"
   },
   {
    "duration": 21,
    "start_time": "2022-02-01T23:54:13.816Z"
   },
   {
    "duration": 14,
    "start_time": "2022-02-01T23:54:13.839Z"
   },
   {
    "duration": 6,
    "start_time": "2022-02-01T23:54:13.856Z"
   },
   {
    "duration": 70,
    "start_time": "2022-02-01T23:54:13.864Z"
   },
   {
    "duration": 25,
    "start_time": "2022-02-01T23:54:13.936Z"
   },
   {
    "duration": 12,
    "start_time": "2022-02-01T23:54:13.963Z"
   },
   {
    "duration": 58,
    "start_time": "2022-02-01T23:54:13.977Z"
   },
   {
    "duration": 20,
    "start_time": "2022-02-01T23:54:14.038Z"
   },
   {
    "duration": 24,
    "start_time": "2022-02-01T23:54:14.060Z"
   },
   {
    "duration": 10,
    "start_time": "2022-02-01T23:54:14.087Z"
   },
   {
    "duration": 43,
    "start_time": "2022-02-01T23:54:14.099Z"
   },
   {
    "duration": 18,
    "start_time": "2022-02-01T23:54:14.144Z"
   },
   {
    "duration": 13,
    "start_time": "2022-02-01T23:54:14.164Z"
   },
   {
    "duration": 12,
    "start_time": "2022-02-01T23:54:14.180Z"
   },
   {
    "duration": 42,
    "start_time": "2022-02-01T23:54:14.194Z"
   },
   {
    "duration": 9,
    "start_time": "2022-02-01T23:54:14.244Z"
   },
   {
    "duration": 29,
    "start_time": "2022-02-01T23:54:14.256Z"
   },
   {
    "duration": 6,
    "start_time": "2022-02-01T23:54:14.287Z"
   },
   {
    "duration": 67,
    "start_time": "2022-02-01T23:54:14.296Z"
   },
   {
    "duration": 20,
    "start_time": "2022-02-01T23:54:14.366Z"
   },
   {
    "duration": 45,
    "start_time": "2022-02-01T23:54:14.388Z"
   },
   {
    "duration": 17,
    "start_time": "2022-02-01T23:54:14.439Z"
   },
   {
    "duration": 5,
    "start_time": "2022-02-01T23:54:14.459Z"
   },
   {
    "duration": 33,
    "start_time": "2022-02-01T23:54:14.466Z"
   },
   {
    "duration": 32,
    "start_time": "2022-02-01T23:54:14.501Z"
   },
   {
    "duration": 25,
    "start_time": "2022-02-01T23:54:14.535Z"
   },
   {
    "duration": 461,
    "start_time": "2022-02-01T23:54:14.562Z"
   },
   {
    "duration": 41,
    "start_time": "2022-02-01T23:54:15.025Z"
   },
   {
    "duration": 8,
    "start_time": "2022-02-01T23:54:15.069Z"
   },
   {
    "duration": 23,
    "start_time": "2022-02-01T23:54:15.080Z"
   },
   {
    "duration": 19,
    "start_time": "2022-02-01T23:54:15.133Z"
   },
   {
    "duration": 29,
    "start_time": "2022-02-01T23:54:15.154Z"
   },
   {
    "duration": 227,
    "start_time": "2022-02-01T23:54:15.186Z"
   },
   {
    "duration": 46,
    "start_time": "2022-02-01T23:54:15.416Z"
   },
   {
    "duration": 25,
    "start_time": "2022-02-01T23:54:15.465Z"
   },
   {
    "duration": 1443,
    "start_time": "2022-02-02T00:05:16.674Z"
   },
   {
    "duration": 131,
    "start_time": "2022-02-02T00:05:18.119Z"
   },
   {
    "duration": 136,
    "start_time": "2022-02-02T00:05:18.253Z"
   },
   {
    "duration": 47,
    "start_time": "2022-02-02T00:05:18.393Z"
   },
   {
    "duration": 22,
    "start_time": "2022-02-02T00:05:18.443Z"
   },
   {
    "duration": 16,
    "start_time": "2022-02-02T00:05:18.467Z"
   },
   {
    "duration": 8,
    "start_time": "2022-02-02T00:05:18.485Z"
   },
   {
    "duration": 43,
    "start_time": "2022-02-02T00:05:18.495Z"
   },
   {
    "duration": 12,
    "start_time": "2022-02-02T00:05:18.542Z"
   },
   {
    "duration": 8,
    "start_time": "2022-02-02T00:05:18.557Z"
   },
   {
    "duration": 8,
    "start_time": "2022-02-02T00:05:18.567Z"
   },
   {
    "duration": 12,
    "start_time": "2022-02-02T00:05:18.577Z"
   },
   {
    "duration": 44,
    "start_time": "2022-02-02T00:05:18.591Z"
   },
   {
    "duration": 9,
    "start_time": "2022-02-02T00:05:18.637Z"
   },
   {
    "duration": 10,
    "start_time": "2022-02-02T00:05:18.648Z"
   },
   {
    "duration": 27,
    "start_time": "2022-02-02T00:05:18.660Z"
   },
   {
    "duration": 6,
    "start_time": "2022-02-02T00:05:18.689Z"
   },
   {
    "duration": 19,
    "start_time": "2022-02-02T00:05:18.733Z"
   },
   {
    "duration": 24,
    "start_time": "2022-02-02T00:05:18.755Z"
   },
   {
    "duration": 13,
    "start_time": "2022-02-02T00:05:18.781Z"
   },
   {
    "duration": 37,
    "start_time": "2022-02-02T00:05:18.796Z"
   },
   {
    "duration": 1017,
    "start_time": "2022-02-02T00:05:18.837Z"
   },
   {
    "duration": 4,
    "start_time": "2022-02-02T00:05:19.856Z"
   },
   {
    "duration": 9,
    "start_time": "2022-02-02T00:05:19.862Z"
   },
   {
    "duration": 6,
    "start_time": "2022-02-02T00:05:19.874Z"
   },
   {
    "duration": 13,
    "start_time": "2022-02-02T00:05:19.882Z"
   },
   {
    "duration": 76,
    "start_time": "2022-02-02T00:05:19.900Z"
   },
   {
    "duration": 23,
    "start_time": "2022-02-02T00:05:19.979Z"
   },
   {
    "duration": 42,
    "start_time": "2022-02-02T00:05:20.004Z"
   },
   {
    "duration": 26,
    "start_time": "2022-02-02T00:05:20.049Z"
   },
   {
    "duration": 19,
    "start_time": "2022-02-02T00:05:20.078Z"
   },
   {
    "duration": 55,
    "start_time": "2022-02-02T00:05:20.100Z"
   },
   {
    "duration": 14,
    "start_time": "2022-02-02T00:05:20.157Z"
   },
   {
    "duration": 4,
    "start_time": "2022-02-02T00:05:20.173Z"
   },
   {
    "duration": 13,
    "start_time": "2022-02-02T00:05:20.180Z"
   },
   {
    "duration": 42,
    "start_time": "2022-02-02T00:05:20.195Z"
   },
   {
    "duration": 30,
    "start_time": "2022-02-02T00:05:20.239Z"
   },
   {
    "duration": 32,
    "start_time": "2022-02-02T00:05:20.272Z"
   },
   {
    "duration": 9,
    "start_time": "2022-02-02T00:05:20.306Z"
   },
   {
    "duration": 45,
    "start_time": "2022-02-02T00:05:20.317Z"
   },
   {
    "duration": 6,
    "start_time": "2022-02-02T00:05:20.364Z"
   },
   {
    "duration": 29,
    "start_time": "2022-02-02T00:05:20.372Z"
   },
   {
    "duration": 47,
    "start_time": "2022-02-02T00:05:20.404Z"
   },
   {
    "duration": 14,
    "start_time": "2022-02-02T00:05:20.453Z"
   },
   {
    "duration": 16,
    "start_time": "2022-02-02T00:05:20.470Z"
   },
   {
    "duration": 4,
    "start_time": "2022-02-02T00:05:20.488Z"
   },
   {
    "duration": 80,
    "start_time": "2022-02-02T00:05:20.494Z"
   },
   {
    "duration": 9,
    "start_time": "2022-02-02T00:05:20.576Z"
   },
   {
    "duration": 9,
    "start_time": "2022-02-02T00:05:20.587Z"
   },
   {
    "duration": 421,
    "start_time": "2022-02-02T00:05:20.599Z"
   },
   {
    "duration": 36,
    "start_time": "2022-02-02T00:05:21.023Z"
   },
   {
    "duration": 7,
    "start_time": "2022-02-02T00:05:21.061Z"
   },
   {
    "duration": 22,
    "start_time": "2022-02-02T00:05:21.070Z"
   },
   {
    "duration": 43,
    "start_time": "2022-02-02T00:05:21.094Z"
   },
   {
    "duration": 26,
    "start_time": "2022-02-02T00:05:21.143Z"
   },
   {
    "duration": 175,
    "start_time": "2022-02-02T00:05:21.172Z"
   },
   {
    "duration": 29,
    "start_time": "2022-02-02T00:05:21.350Z"
   },
   {
    "duration": 26,
    "start_time": "2022-02-02T00:05:21.382Z"
   },
   {
    "duration": 355,
    "start_time": "2022-02-02T00:06:28.959Z"
   },
   {
    "duration": 420,
    "start_time": "2022-02-02T00:06:50.407Z"
   },
   {
    "duration": 557,
    "start_time": "2022-02-02T00:07:16.786Z"
   },
   {
    "duration": 772,
    "start_time": "2022-02-02T00:07:40.179Z"
   },
   {
    "duration": 724,
    "start_time": "2022-02-02T00:07:50.546Z"
   },
   {
    "duration": 702,
    "start_time": "2022-02-02T00:07:59.770Z"
   },
   {
    "duration": 717,
    "start_time": "2022-02-02T00:08:07.966Z"
   },
   {
    "duration": 390,
    "start_time": "2022-02-02T00:09:16.913Z"
   },
   {
    "duration": 5,
    "start_time": "2022-02-02T00:09:39.046Z"
   },
   {
    "duration": 1522,
    "start_time": "2022-02-02T00:09:43.261Z"
   },
   {
    "duration": 707,
    "start_time": "2022-02-02T00:10:14.285Z"
   },
   {
    "duration": 861,
    "start_time": "2022-02-02T00:10:37.799Z"
   },
   {
    "duration": 697,
    "start_time": "2022-02-02T00:10:55.598Z"
   },
   {
    "duration": 2402,
    "start_time": "2022-02-02T00:11:18.446Z"
   },
   {
    "duration": 749,
    "start_time": "2022-02-02T00:11:34.359Z"
   },
   {
    "duration": 14877,
    "start_time": "2022-02-02T00:11:59.406Z"
   },
   {
    "duration": 2042,
    "start_time": "2022-02-02T00:12:19.366Z"
   },
   {
    "duration": 3566,
    "start_time": "2022-02-02T00:17:57.326Z"
   },
   {
    "duration": 76,
    "start_time": "2022-02-02T00:21:59.946Z"
   },
   {
    "duration": 2915,
    "start_time": "2022-02-02T00:27:30.871Z"
   },
   {
    "duration": 2067,
    "start_time": "2022-02-02T00:28:18.546Z"
   },
   {
    "duration": 2181,
    "start_time": "2022-02-02T00:29:07.816Z"
   },
   {
    "duration": 2788,
    "start_time": "2022-02-02T00:29:16.263Z"
   },
   {
    "duration": 8,
    "start_time": "2022-02-02T00:45:29.488Z"
   },
   {
    "duration": 7,
    "start_time": "2022-02-02T00:46:49.650Z"
   },
   {
    "duration": 37,
    "start_time": "2022-02-02T00:47:53.376Z"
   },
   {
    "duration": 8,
    "start_time": "2022-02-02T00:47:59.710Z"
   },
   {
    "duration": 6,
    "start_time": "2022-02-02T00:48:38.724Z"
   },
   {
    "duration": 16,
    "start_time": "2022-02-02T00:54:13.866Z"
   },
   {
    "duration": 20,
    "start_time": "2022-02-02T01:01:41.217Z"
   },
   {
    "duration": 5,
    "start_time": "2022-02-02T01:02:09.048Z"
   },
   {
    "duration": 77,
    "start_time": "2022-02-02T01:02:39.710Z"
   },
   {
    "duration": 49,
    "start_time": "2022-02-02T01:04:22.415Z"
   },
   {
    "duration": 45,
    "start_time": "2022-02-02T01:05:11.572Z"
   },
   {
    "duration": 46,
    "start_time": "2022-02-02T01:05:43.625Z"
   },
   {
    "duration": 242,
    "start_time": "2022-02-02T01:06:55.245Z"
   },
   {
    "duration": 15,
    "start_time": "2022-02-02T01:07:10.128Z"
   },
   {
    "duration": 243,
    "start_time": "2022-02-02T01:07:34.448Z"
   },
   {
    "duration": 29,
    "start_time": "2022-02-02T01:07:38.618Z"
   },
   {
    "duration": 9,
    "start_time": "2022-02-02T01:07:48.745Z"
   },
   {
    "duration": 18,
    "start_time": "2022-02-02T01:08:30.024Z"
   },
   {
    "duration": 253,
    "start_time": "2022-02-02T01:08:47.249Z"
   },
   {
    "duration": 85,
    "start_time": "2022-02-02T01:09:11.518Z"
   },
   {
    "duration": 11,
    "start_time": "2022-02-02T01:09:14.605Z"
   },
   {
    "duration": 7,
    "start_time": "2022-02-02T01:09:37.906Z"
   },
   {
    "duration": 5,
    "start_time": "2022-02-02T01:09:48.331Z"
   },
   {
    "duration": 29,
    "start_time": "2022-02-02T01:10:07.087Z"
   },
   {
    "duration": 10,
    "start_time": "2022-02-02T01:13:59.355Z"
   },
   {
    "duration": 247,
    "start_time": "2022-02-02T01:15:30.646Z"
   },
   {
    "duration": 10,
    "start_time": "2022-02-02T01:15:53.216Z"
   },
   {
    "duration": 2660,
    "start_time": "2022-02-02T01:23:15.420Z"
   },
   {
    "duration": 8,
    "start_time": "2022-02-02T01:24:29.385Z"
   },
   {
    "duration": 2844,
    "start_time": "2022-02-02T01:24:42.781Z"
   },
   {
    "duration": 2296,
    "start_time": "2022-02-02T01:25:29.449Z"
   },
   {
    "duration": 17,
    "start_time": "2022-02-02T01:26:03.559Z"
   },
   {
    "duration": 2333,
    "start_time": "2022-02-02T01:26:16.020Z"
   },
   {
    "duration": 2735,
    "start_time": "2022-02-02T01:28:59.011Z"
   },
   {
    "duration": 2871,
    "start_time": "2022-02-02T01:40:34.466Z"
   },
   {
    "duration": 712,
    "start_time": "2022-02-02T01:44:00.989Z"
   },
   {
    "duration": 7,
    "start_time": "2022-02-02T01:45:19.508Z"
   },
   {
    "duration": 6,
    "start_time": "2022-02-02T01:45:40.877Z"
   },
   {
    "duration": 723,
    "start_time": "2022-02-02T01:46:32.593Z"
   },
   {
    "duration": 555,
    "start_time": "2022-02-02T01:48:11.853Z"
   },
   {
    "duration": 29,
    "start_time": "2022-02-02T02:00:19.012Z"
   },
   {
    "duration": 49,
    "start_time": "2022-02-02T02:03:14.868Z"
   },
   {
    "duration": 13,
    "start_time": "2022-02-02T02:03:35.716Z"
   },
   {
    "duration": 318,
    "start_time": "2022-02-02T02:04:30.546Z"
   },
   {
    "duration": 395,
    "start_time": "2022-02-02T02:04:47.014Z"
   },
   {
    "duration": 383,
    "start_time": "2022-02-02T02:05:03.053Z"
   },
   {
    "duration": 12,
    "start_time": "2022-02-02T02:06:14.246Z"
   },
   {
    "duration": 13,
    "start_time": "2022-02-02T02:06:39.276Z"
   },
   {
    "duration": 12,
    "start_time": "2022-02-02T02:06:43.167Z"
   },
   {
    "duration": 7,
    "start_time": "2022-02-02T02:13:36.881Z"
   },
   {
    "duration": 5,
    "start_time": "2022-02-02T02:13:42.193Z"
   },
   {
    "duration": 396,
    "start_time": "2022-02-02T02:13:59.123Z"
   },
   {
    "duration": 16,
    "start_time": "2022-02-02T02:14:11.131Z"
   },
   {
    "duration": 76,
    "start_time": "2022-02-02T02:14:29.511Z"
   },
   {
    "duration": 7,
    "start_time": "2022-02-02T02:16:16.216Z"
   },
   {
    "duration": 237,
    "start_time": "2022-02-02T02:17:01.622Z"
   },
   {
    "duration": 231,
    "start_time": "2022-02-02T02:17:14.729Z"
   },
   {
    "duration": 86,
    "start_time": "2022-02-02T02:17:29.512Z"
   },
   {
    "duration": 5596,
    "start_time": "2022-02-02T02:19:00.512Z"
   },
   {
    "duration": 5567,
    "start_time": "2022-02-02T02:19:20.951Z"
   },
   {
    "duration": 26,
    "start_time": "2022-02-02T02:19:44.227Z"
   },
   {
    "duration": 1084,
    "start_time": "2022-02-02T02:19:58.040Z"
   },
   {
    "duration": 8,
    "start_time": "2022-02-02T02:20:43.512Z"
   },
   {
    "duration": 9,
    "start_time": "2022-02-02T02:20:57.407Z"
   },
   {
    "duration": 8,
    "start_time": "2022-02-02T02:21:42.530Z"
   },
   {
    "duration": 216,
    "start_time": "2022-02-02T02:23:29.596Z"
   },
   {
    "duration": 18662,
    "start_time": "2022-02-02T02:23:44.942Z"
   },
   {
    "duration": 18600,
    "start_time": "2022-02-02T02:24:05.554Z"
   },
   {
    "duration": 1403,
    "start_time": "2022-02-02T02:25:13.664Z"
   },
   {
    "duration": 127,
    "start_time": "2022-02-02T02:25:15.069Z"
   },
   {
    "duration": 127,
    "start_time": "2022-02-02T02:25:15.199Z"
   },
   {
    "duration": 24,
    "start_time": "2022-02-02T02:25:15.332Z"
   },
   {
    "duration": 21,
    "start_time": "2022-02-02T02:25:15.359Z"
   },
   {
    "duration": 11,
    "start_time": "2022-02-02T02:25:15.382Z"
   },
   {
    "duration": 40,
    "start_time": "2022-02-02T02:25:15.395Z"
   },
   {
    "duration": 5,
    "start_time": "2022-02-02T02:25:15.439Z"
   },
   {
    "duration": 7,
    "start_time": "2022-02-02T02:25:15.447Z"
   },
   {
    "duration": 10,
    "start_time": "2022-02-02T02:25:15.457Z"
   },
   {
    "duration": 9,
    "start_time": "2022-02-02T02:25:15.469Z"
   },
   {
    "duration": 8,
    "start_time": "2022-02-02T02:25:15.481Z"
   },
   {
    "duration": 46,
    "start_time": "2022-02-02T02:25:15.491Z"
   },
   {
    "duration": 7,
    "start_time": "2022-02-02T02:25:15.539Z"
   },
   {
    "duration": 5,
    "start_time": "2022-02-02T02:25:15.548Z"
   },
   {
    "duration": 27,
    "start_time": "2022-02-02T02:25:15.555Z"
   },
   {
    "duration": 48,
    "start_time": "2022-02-02T02:25:15.584Z"
   },
   {
    "duration": 14,
    "start_time": "2022-02-02T02:25:15.634Z"
   },
   {
    "duration": 23,
    "start_time": "2022-02-02T02:25:15.651Z"
   },
   {
    "duration": 5,
    "start_time": "2022-02-02T02:25:15.676Z"
   },
   {
    "duration": 9,
    "start_time": "2022-02-02T02:25:15.683Z"
   },
   {
    "duration": 993,
    "start_time": "2022-02-02T02:25:15.694Z"
   },
   {
    "duration": 3,
    "start_time": "2022-02-02T02:25:16.693Z"
   },
   {
    "duration": 10,
    "start_time": "2022-02-02T02:25:16.699Z"
   },
   {
    "duration": 22,
    "start_time": "2022-02-02T02:25:16.711Z"
   },
   {
    "duration": 6,
    "start_time": "2022-02-02T02:25:16.735Z"
   },
   {
    "duration": 42,
    "start_time": "2022-02-02T02:25:16.743Z"
   },
   {
    "duration": 52,
    "start_time": "2022-02-02T02:25:16.787Z"
   },
   {
    "duration": 13,
    "start_time": "2022-02-02T02:25:16.842Z"
   },
   {
    "duration": 28,
    "start_time": "2022-02-02T02:25:16.858Z"
   },
   {
    "duration": 50,
    "start_time": "2022-02-02T02:25:16.889Z"
   },
   {
    "duration": 27,
    "start_time": "2022-02-02T02:25:16.942Z"
   },
   {
    "duration": 10,
    "start_time": "2022-02-02T02:25:16.972Z"
   },
   {
    "duration": 4,
    "start_time": "2022-02-02T02:25:16.985Z"
   },
   {
    "duration": 51,
    "start_time": "2022-02-02T02:25:16.991Z"
   },
   {
    "duration": 15,
    "start_time": "2022-02-02T02:25:17.044Z"
   },
   {
    "duration": 9,
    "start_time": "2022-02-02T02:25:17.061Z"
   },
   {
    "duration": 26,
    "start_time": "2022-02-02T02:25:17.072Z"
   },
   {
    "duration": 34,
    "start_time": "2022-02-02T02:25:17.100Z"
   },
   {
    "duration": 30,
    "start_time": "2022-02-02T02:25:17.136Z"
   },
   {
    "duration": 6,
    "start_time": "2022-02-02T02:25:17.168Z"
   },
   {
    "duration": 60,
    "start_time": "2022-02-02T02:25:17.176Z"
   },
   {
    "duration": 19,
    "start_time": "2022-02-02T02:25:17.238Z"
   },
   {
    "duration": 16,
    "start_time": "2022-02-02T02:25:17.259Z"
   },
   {
    "duration": 16,
    "start_time": "2022-02-02T02:25:17.277Z"
   },
   {
    "duration": 5,
    "start_time": "2022-02-02T02:25:17.295Z"
   },
   {
    "duration": 26,
    "start_time": "2022-02-02T02:25:17.332Z"
   },
   {
    "duration": 7,
    "start_time": "2022-02-02T02:25:17.360Z"
   },
   {
    "duration": 13,
    "start_time": "2022-02-02T02:25:17.369Z"
   },
   {
    "duration": 458,
    "start_time": "2022-02-02T02:25:17.384Z"
   },
   {
    "duration": 34,
    "start_time": "2022-02-02T02:25:17.844Z"
   },
   {
    "duration": 7,
    "start_time": "2022-02-02T02:25:17.880Z"
   },
   {
    "duration": 48,
    "start_time": "2022-02-02T02:25:17.889Z"
   },
   {
    "duration": 14,
    "start_time": "2022-02-02T02:25:17.940Z"
   },
   {
    "duration": 25,
    "start_time": "2022-02-02T02:25:17.956Z"
   },
   {
    "duration": 213,
    "start_time": "2022-02-02T02:25:17.983Z"
   },
   {
    "duration": 39,
    "start_time": "2022-02-02T02:25:18.198Z"
   },
   {
    "duration": 27,
    "start_time": "2022-02-02T02:25:18.239Z"
   },
   {
    "duration": 2638,
    "start_time": "2022-02-02T02:25:18.269Z"
   },
   {
    "duration": 8,
    "start_time": "2022-02-02T02:25:20.909Z"
   },
   {
    "duration": 7,
    "start_time": "2022-02-02T02:25:20.933Z"
   },
   {
    "duration": 13,
    "start_time": "2022-02-02T02:25:20.942Z"
   },
   {
    "duration": 23,
    "start_time": "2022-02-02T02:25:20.957Z"
   },
   {
    "duration": 32,
    "start_time": "2022-02-02T02:25:20.983Z"
   },
   {
    "duration": 14,
    "start_time": "2022-02-02T02:25:21.018Z"
   },
   {
    "duration": 82,
    "start_time": "2022-02-02T02:25:21.034Z"
   },
   {
    "duration": 18,
    "start_time": "2022-02-02T02:25:21.118Z"
   },
   {
    "duration": 2798,
    "start_time": "2022-02-02T02:25:21.143Z"
   },
   {
    "duration": 552,
    "start_time": "2022-02-02T02:25:23.944Z"
   },
   {
    "duration": 8,
    "start_time": "2022-02-02T02:25:24.499Z"
   },
   {
    "duration": 24,
    "start_time": "2022-02-02T02:25:24.509Z"
   },
   {
    "duration": 510,
    "start_time": "2022-02-02T02:25:24.536Z"
   },
   {
    "duration": 13,
    "start_time": "2022-02-02T02:25:25.049Z"
   },
   {
    "duration": 7,
    "start_time": "2022-02-02T02:25:25.064Z"
   },
   {
    "duration": 9,
    "start_time": "2022-02-02T02:25:25.073Z"
   },
   {
    "duration": 7,
    "start_time": "2022-02-02T02:25:25.085Z"
   },
   {
    "duration": 8,
    "start_time": "2022-02-02T02:25:27.193Z"
   },
   {
    "duration": 19485,
    "start_time": "2022-02-02T02:25:27.784Z"
   },
   {
    "duration": 45373,
    "start_time": "2022-02-02T02:26:01.984Z"
   },
   {
    "duration": 5,
    "start_time": "2022-02-02T02:33:58.199Z"
   },
   {
    "duration": 140,
    "start_time": "2022-02-02T02:33:58.987Z"
   },
   {
    "duration": 120,
    "start_time": "2022-02-02T02:33:59.563Z"
   },
   {
    "duration": 27,
    "start_time": "2022-02-02T02:33:59.749Z"
   },
   {
    "duration": 23,
    "start_time": "2022-02-02T02:33:59.938Z"
   },
   {
    "duration": 13,
    "start_time": "2022-02-02T02:34:01.297Z"
   },
   {
    "duration": 9,
    "start_time": "2022-02-02T02:34:01.597Z"
   },
   {
    "duration": 6,
    "start_time": "2022-02-02T02:34:01.790Z"
   },
   {
    "duration": 8,
    "start_time": "2022-02-02T02:34:02.038Z"
   },
   {
    "duration": 8,
    "start_time": "2022-02-02T02:34:02.444Z"
   },
   {
    "duration": 8,
    "start_time": "2022-02-02T02:34:02.720Z"
   },
   {
    "duration": 8,
    "start_time": "2022-02-02T02:34:03.211Z"
   },
   {
    "duration": 5,
    "start_time": "2022-02-02T02:34:03.441Z"
   },
   {
    "duration": 6,
    "start_time": "2022-02-02T02:34:05.440Z"
   },
   {
    "duration": 5,
    "start_time": "2022-02-02T02:34:05.832Z"
   },
   {
    "duration": 28,
    "start_time": "2022-02-02T02:34:06.130Z"
   },
   {
    "duration": 6,
    "start_time": "2022-02-02T02:34:06.371Z"
   },
   {
    "duration": 15,
    "start_time": "2022-02-02T02:34:06.641Z"
   },
   {
    "duration": 24,
    "start_time": "2022-02-02T02:34:06.968Z"
   },
   {
    "duration": 6,
    "start_time": "2022-02-02T02:34:08.028Z"
   },
   {
    "duration": 10,
    "start_time": "2022-02-02T02:34:11.494Z"
   },
   {
    "duration": 1185,
    "start_time": "2022-02-02T02:34:12.062Z"
   },
   {
    "duration": 1420,
    "start_time": "2022-02-02T02:34:45.130Z"
   },
   {
    "duration": 618,
    "start_time": "2022-02-02T02:34:58.135Z"
   },
   {
    "duration": 658,
    "start_time": "2022-02-02T02:35:05.064Z"
   },
   {
    "duration": 1116,
    "start_time": "2022-02-02T02:35:17.204Z"
   },
   {
    "duration": 1169,
    "start_time": "2022-02-02T02:35:28.193Z"
   },
   {
    "duration": 6,
    "start_time": "2022-02-02T02:35:40.799Z"
   },
   {
    "duration": 6,
    "start_time": "2022-02-02T02:35:41.203Z"
   },
   {
    "duration": 4,
    "start_time": "2022-02-02T02:35:41.643Z"
   },
   {
    "duration": 42,
    "start_time": "2022-02-02T02:35:42.074Z"
   },
   {
    "duration": 19,
    "start_time": "2022-02-02T02:35:42.522Z"
   },
   {
    "duration": 12,
    "start_time": "2022-02-02T02:35:42.969Z"
   },
   {
    "duration": 27,
    "start_time": "2022-02-02T02:35:43.445Z"
   },
   {
    "duration": 19,
    "start_time": "2022-02-02T02:35:43.827Z"
   },
   {
    "duration": 26,
    "start_time": "2022-02-02T02:35:44.147Z"
   },
   {
    "duration": 7,
    "start_time": "2022-02-02T02:35:44.458Z"
   },
   {
    "duration": 6,
    "start_time": "2022-02-02T02:35:45.109Z"
   },
   {
    "duration": 13,
    "start_time": "2022-02-02T02:35:45.480Z"
   },
   {
    "duration": 9,
    "start_time": "2022-02-02T02:35:45.849Z"
   },
   {
    "duration": 8,
    "start_time": "2022-02-02T02:35:46.646Z"
   },
   {
    "duration": 28,
    "start_time": "2022-02-02T02:35:46.999Z"
   },
   {
    "duration": 10,
    "start_time": "2022-02-02T02:35:47.340Z"
   },
   {
    "duration": 32,
    "start_time": "2022-02-02T02:35:48.183Z"
   },
   {
    "duration": 7,
    "start_time": "2022-02-02T02:35:48.479Z"
   },
   {
    "duration": 26,
    "start_time": "2022-02-02T02:35:49.859Z"
   },
   {
    "duration": 21,
    "start_time": "2022-02-02T02:35:50.627Z"
   },
   {
    "duration": 16,
    "start_time": "2022-02-02T02:35:50.984Z"
   },
   {
    "duration": 15,
    "start_time": "2022-02-02T02:35:51.383Z"
   },
   {
    "duration": 6,
    "start_time": "2022-02-02T02:35:51.947Z"
   },
   {
    "duration": 27,
    "start_time": "2022-02-02T02:35:53.532Z"
   },
   {
    "duration": 8,
    "start_time": "2022-02-02T02:35:53.915Z"
   },
   {
    "duration": 6,
    "start_time": "2022-02-02T02:35:54.851Z"
   },
   {
    "duration": 447,
    "start_time": "2022-02-02T02:35:55.777Z"
   },
   {
    "duration": 35,
    "start_time": "2022-02-02T02:35:56.227Z"
   },
   {
    "duration": 7,
    "start_time": "2022-02-02T02:35:56.680Z"
   },
   {
    "duration": 20,
    "start_time": "2022-02-02T02:35:57.239Z"
   },
   {
    "duration": 13,
    "start_time": "2022-02-02T02:35:57.639Z"
   },
   {
    "duration": 25,
    "start_time": "2022-02-02T02:35:58.160Z"
   },
   {
    "duration": 133,
    "start_time": "2022-02-02T02:35:59.248Z"
   },
   {
    "duration": 28,
    "start_time": "2022-02-02T02:35:59.698Z"
   },
   {
    "duration": 27,
    "start_time": "2022-02-02T02:36:00.033Z"
   },
   {
    "duration": 3465,
    "start_time": "2022-02-02T02:36:01.595Z"
   },
   {
    "duration": 7,
    "start_time": "2022-02-02T02:36:10.700Z"
   },
   {
    "duration": 7,
    "start_time": "2022-02-02T02:36:11.126Z"
   },
   {
    "duration": 7,
    "start_time": "2022-02-02T02:36:11.533Z"
   },
   {
    "duration": 5,
    "start_time": "2022-02-02T02:36:11.871Z"
   },
   {
    "duration": 19,
    "start_time": "2022-02-02T02:36:12.567Z"
   },
   {
    "duration": 6,
    "start_time": "2022-02-02T02:36:13.017Z"
   },
   {
    "duration": 76,
    "start_time": "2022-02-02T02:36:13.671Z"
   },
   {
    "duration": 11,
    "start_time": "2022-02-02T02:36:14.304Z"
   },
   {
    "duration": 3590,
    "start_time": "2022-02-02T02:36:16.230Z"
   },
   {
    "duration": 687,
    "start_time": "2022-02-02T02:36:35.714Z"
   },
   {
    "duration": 7,
    "start_time": "2022-02-02T02:36:36.500Z"
   },
   {
    "duration": 6,
    "start_time": "2022-02-02T02:36:36.855Z"
   },
   {
    "duration": 458,
    "start_time": "2022-02-02T02:36:38.411Z"
   },
   {
    "duration": 13,
    "start_time": "2022-02-02T02:36:39.000Z"
   },
   {
    "duration": 7,
    "start_time": "2022-02-02T02:36:41.127Z"
   },
   {
    "duration": 7,
    "start_time": "2022-02-02T02:36:41.844Z"
   },
   {
    "duration": 8,
    "start_time": "2022-02-02T02:36:42.369Z"
   },
   {
    "duration": 51556,
    "start_time": "2022-02-02T02:36:43.066Z"
   },
   {
    "duration": 51422,
    "start_time": "2022-02-02T02:37:59.815Z"
   },
   {
    "duration": 10007,
    "start_time": "2022-02-02T02:40:56.983Z"
   },
   {
    "duration": 9547,
    "start_time": "2022-02-02T02:41:25.892Z"
   },
   {
    "duration": 16824,
    "start_time": "2022-02-02T02:41:56.754Z"
   },
   {
    "duration": 3647,
    "start_time": "2022-02-02T02:45:14.142Z"
   },
   {
    "duration": 246,
    "start_time": "2022-02-02T02:49:33.467Z"
   },
   {
    "duration": 221,
    "start_time": "2022-02-02T02:49:43.174Z"
   },
   {
    "duration": 184,
    "start_time": "2022-02-02T02:49:56.489Z"
   },
   {
    "duration": 72,
    "start_time": "2022-02-02T02:49:59.092Z"
   },
   {
    "duration": 14,
    "start_time": "2022-02-02T02:51:14.947Z"
   },
   {
    "duration": 7,
    "start_time": "2022-02-02T02:51:34.753Z"
   },
   {
    "duration": 7,
    "start_time": "2022-02-02T02:51:44.995Z"
   },
   {
    "duration": 11,
    "start_time": "2022-02-02T02:51:57.113Z"
   },
   {
    "duration": 3544,
    "start_time": "2022-02-02T02:52:08.647Z"
   },
   {
    "duration": 4506,
    "start_time": "2022-02-02T02:54:18.332Z"
   },
   {
    "duration": 291,
    "start_time": "2022-02-02T02:54:50.266Z"
   },
   {
    "duration": 4508,
    "start_time": "2022-02-02T02:55:10.393Z"
   },
   {
    "duration": 58,
    "start_time": "2022-02-02T02:58:15.891Z"
   },
   {
    "duration": 255,
    "start_time": "2022-02-02T03:00:35.803Z"
   },
   {
    "duration": 1086,
    "start_time": "2022-02-02T03:01:12.691Z"
   },
   {
    "duration": 242,
    "start_time": "2022-02-02T03:01:24.975Z"
   },
   {
    "duration": 243,
    "start_time": "2022-02-02T03:02:07.138Z"
   },
   {
    "duration": 242,
    "start_time": "2022-02-02T03:02:19.445Z"
   },
   {
    "duration": 240,
    "start_time": "2022-02-02T03:03:24.343Z"
   },
   {
    "duration": 13,
    "start_time": "2022-02-02T03:03:30.963Z"
   },
   {
    "duration": 13,
    "start_time": "2022-02-02T03:04:25.795Z"
   },
   {
    "duration": 240,
    "start_time": "2022-02-02T03:06:58.647Z"
   },
   {
    "duration": 902,
    "start_time": "2022-02-02T03:07:08.319Z"
   },
   {
    "duration": 1944,
    "start_time": "2022-02-02T03:08:42.230Z"
   },
   {
    "duration": 73,
    "start_time": "2022-02-02T03:08:50.652Z"
   },
   {
    "duration": 248,
    "start_time": "2022-02-02T03:09:01.536Z"
   },
   {
    "duration": 611,
    "start_time": "2022-02-02T03:09:09.800Z"
   },
   {
    "duration": 98,
    "start_time": "2022-02-02T03:11:34.037Z"
   },
   {
    "duration": 21,
    "start_time": "2022-02-02T03:13:21.740Z"
   },
   {
    "duration": 646,
    "start_time": "2022-02-02T03:15:09.130Z"
   },
   {
    "duration": 951,
    "start_time": "2022-02-02T03:26:05.653Z"
   },
   {
    "duration": 234,
    "start_time": "2022-02-02T03:26:18.576Z"
   },
   {
    "duration": 221,
    "start_time": "2022-02-02T03:27:44.869Z"
   },
   {
    "duration": 1995,
    "start_time": "2022-02-02T03:28:29.661Z"
   },
   {
    "duration": 317,
    "start_time": "2022-02-02T03:29:09.834Z"
   },
   {
    "duration": 223,
    "start_time": "2022-02-02T03:31:23.347Z"
   },
   {
    "duration": 226,
    "start_time": "2022-02-02T03:31:46.696Z"
   },
   {
    "duration": 314,
    "start_time": "2022-02-02T03:33:00.741Z"
   },
   {
    "duration": 735,
    "start_time": "2022-02-02T03:33:48.688Z"
   },
   {
    "duration": 628,
    "start_time": "2022-02-02T03:34:58.726Z"
   },
   {
    "duration": 629,
    "start_time": "2022-02-02T03:35:09.360Z"
   },
   {
    "duration": 734,
    "start_time": "2022-02-02T03:35:33.972Z"
   },
   {
    "duration": 647,
    "start_time": "2022-02-02T03:36:03.186Z"
   },
   {
    "duration": 1255,
    "start_time": "2022-02-02T03:36:11.427Z"
   },
   {
    "duration": 383,
    "start_time": "2022-02-02T03:36:55.691Z"
   },
   {
    "duration": 290,
    "start_time": "2022-02-02T03:37:03.565Z"
   },
   {
    "duration": 1418,
    "start_time": "2022-02-02T03:37:29.465Z"
   },
   {
    "duration": 582,
    "start_time": "2022-02-02T03:38:26.301Z"
   },
   {
    "duration": 610,
    "start_time": "2022-02-02T03:38:36.453Z"
   },
   {
    "duration": 628,
    "start_time": "2022-02-02T03:39:55.926Z"
   },
   {
    "duration": 607,
    "start_time": "2022-02-02T03:40:05.272Z"
   },
   {
    "duration": 305,
    "start_time": "2022-02-02T03:40:34.577Z"
   },
   {
    "duration": 618,
    "start_time": "2022-02-02T03:40:48.278Z"
   },
   {
    "duration": 293,
    "start_time": "2022-02-02T03:40:53.697Z"
   },
   {
    "duration": 6,
    "start_time": "2022-02-02T03:54:46.250Z"
   },
   {
    "duration": 129,
    "start_time": "2022-02-02T03:54:46.258Z"
   },
   {
    "duration": 154,
    "start_time": "2022-02-02T03:54:46.391Z"
   },
   {
    "duration": 27,
    "start_time": "2022-02-02T03:54:46.549Z"
   },
   {
    "duration": 23,
    "start_time": "2022-02-02T03:54:46.579Z"
   },
   {
    "duration": 37,
    "start_time": "2022-02-02T03:54:46.604Z"
   },
   {
    "duration": 8,
    "start_time": "2022-02-02T03:54:46.644Z"
   },
   {
    "duration": 8,
    "start_time": "2022-02-02T03:54:46.655Z"
   },
   {
    "duration": 8,
    "start_time": "2022-02-02T03:54:46.665Z"
   },
   {
    "duration": 58,
    "start_time": "2022-02-02T03:54:46.675Z"
   },
   {
    "duration": 8,
    "start_time": "2022-02-02T03:54:46.736Z"
   },
   {
    "duration": 8,
    "start_time": "2022-02-02T03:54:46.746Z"
   },
   {
    "duration": 7,
    "start_time": "2022-02-02T03:54:46.756Z"
   },
   {
    "duration": 7,
    "start_time": "2022-02-02T03:54:46.765Z"
   },
   {
    "duration": 6,
    "start_time": "2022-02-02T03:54:46.775Z"
   },
   {
    "duration": 71,
    "start_time": "2022-02-02T03:54:46.783Z"
   },
   {
    "duration": 6,
    "start_time": "2022-02-02T03:54:46.857Z"
   },
   {
    "duration": 13,
    "start_time": "2022-02-02T03:54:46.866Z"
   },
   {
    "duration": 62,
    "start_time": "2022-02-02T03:54:46.884Z"
   },
   {
    "duration": 6,
    "start_time": "2022-02-02T03:54:46.948Z"
   },
   {
    "duration": 13,
    "start_time": "2022-02-02T03:54:46.956Z"
   },
   {
    "duration": 1178,
    "start_time": "2022-02-02T03:54:46.971Z"
   },
   {
    "duration": 3,
    "start_time": "2022-02-02T03:54:48.152Z"
   },
   {
    "duration": 9,
    "start_time": "2022-02-02T03:54:48.158Z"
   },
   {
    "duration": 6,
    "start_time": "2022-02-02T03:54:48.170Z"
   },
   {
    "duration": 5,
    "start_time": "2022-02-02T03:54:48.178Z"
   },
   {
    "duration": 78,
    "start_time": "2022-02-02T03:54:48.185Z"
   },
   {
    "duration": 18,
    "start_time": "2022-02-02T03:54:48.265Z"
   },
   {
    "duration": 12,
    "start_time": "2022-02-02T03:54:48.286Z"
   },
   {
    "duration": 50,
    "start_time": "2022-02-02T03:54:48.300Z"
   },
   {
    "duration": 16,
    "start_time": "2022-02-02T03:54:48.353Z"
   },
   {
    "duration": 26,
    "start_time": "2022-02-02T03:54:48.371Z"
   },
   {
    "duration": 38,
    "start_time": "2022-02-02T03:54:48.400Z"
   },
   {
    "duration": 5,
    "start_time": "2022-02-02T03:54:48.440Z"
   },
   {
    "duration": 12,
    "start_time": "2022-02-02T03:54:48.447Z"
   },
   {
    "duration": 10,
    "start_time": "2022-02-02T03:54:48.461Z"
   },
   {
    "duration": 5928,
    "start_time": "2022-02-02T03:55:34.330Z"
   },
   {
    "duration": 39,
    "start_time": "2022-02-02T03:55:46.876Z"
   },
   {
    "duration": 9,
    "start_time": "2022-02-02T03:56:25.449Z"
   },
   {
    "duration": 10,
    "start_time": "2022-02-02T03:56:36.130Z"
   },
   {
    "duration": 11,
    "start_time": "2022-02-02T03:58:15.516Z"
   },
   {
    "duration": 10,
    "start_time": "2022-02-02T03:58:42.443Z"
   },
   {
    "duration": 114,
    "start_time": "2022-02-02T04:18:23.798Z"
   },
   {
    "duration": 1393,
    "start_time": "2022-02-02T04:29:12.685Z"
   },
   {
    "duration": 124,
    "start_time": "2022-02-02T04:29:14.081Z"
   },
   {
    "duration": 125,
    "start_time": "2022-02-02T04:29:14.208Z"
   },
   {
    "duration": 26,
    "start_time": "2022-02-02T04:29:14.336Z"
   },
   {
    "duration": 20,
    "start_time": "2022-02-02T04:29:14.364Z"
   },
   {
    "duration": 11,
    "start_time": "2022-02-02T04:29:14.387Z"
   },
   {
    "duration": 37,
    "start_time": "2022-02-02T04:29:14.401Z"
   },
   {
    "duration": 6,
    "start_time": "2022-02-02T04:29:14.442Z"
   },
   {
    "duration": 7,
    "start_time": "2022-02-02T04:29:14.451Z"
   },
   {
    "duration": 7,
    "start_time": "2022-02-02T04:29:14.460Z"
   },
   {
    "duration": 7,
    "start_time": "2022-02-02T04:29:14.470Z"
   },
   {
    "duration": 55,
    "start_time": "2022-02-02T04:29:14.479Z"
   },
   {
    "duration": 11,
    "start_time": "2022-02-02T04:29:14.537Z"
   },
   {
    "duration": 5,
    "start_time": "2022-02-02T04:29:14.550Z"
   },
   {
    "duration": 8,
    "start_time": "2022-02-02T04:29:14.557Z"
   },
   {
    "duration": 27,
    "start_time": "2022-02-02T04:29:14.567Z"
   },
   {
    "duration": 7,
    "start_time": "2022-02-02T04:29:14.632Z"
   },
   {
    "duration": 18,
    "start_time": "2022-02-02T04:29:14.641Z"
   },
   {
    "duration": 23,
    "start_time": "2022-02-02T04:29:14.661Z"
   },
   {
    "duration": 6,
    "start_time": "2022-02-02T04:29:14.686Z"
   },
   {
    "duration": 43,
    "start_time": "2022-02-02T04:29:14.694Z"
   },
   {
    "duration": 1097,
    "start_time": "2022-02-02T04:29:14.739Z"
   },
   {
    "duration": 3,
    "start_time": "2022-02-02T04:29:15.841Z"
   },
   {
    "duration": 8,
    "start_time": "2022-02-02T04:29:15.850Z"
   },
   {
    "duration": 9,
    "start_time": "2022-02-02T04:29:15.861Z"
   },
   {
    "duration": 4,
    "start_time": "2022-02-02T04:29:15.873Z"
   },
   {
    "duration": 81,
    "start_time": "2022-02-02T04:29:15.879Z"
   },
   {
    "duration": 22,
    "start_time": "2022-02-02T04:29:15.962Z"
   },
   {
    "duration": 11,
    "start_time": "2022-02-02T04:29:15.987Z"
   },
   {
    "duration": 52,
    "start_time": "2022-02-02T04:29:16.000Z"
   },
   {
    "duration": 18,
    "start_time": "2022-02-02T04:29:16.055Z"
   },
   {
    "duration": 59,
    "start_time": "2022-02-02T04:29:16.076Z"
   },
   {
    "duration": 10,
    "start_time": "2022-02-02T04:29:16.138Z"
   },
   {
    "duration": 5,
    "start_time": "2022-02-02T04:29:16.151Z"
   },
   {
    "duration": 16,
    "start_time": "2022-02-02T04:29:16.158Z"
   },
   {
    "duration": 10,
    "start_time": "2022-02-02T04:29:16.177Z"
   },
   {
    "duration": 45,
    "start_time": "2022-02-02T04:29:16.189Z"
   },
   {
    "duration": 29,
    "start_time": "2022-02-02T04:29:16.236Z"
   },
   {
    "duration": 8,
    "start_time": "2022-02-02T04:29:16.267Z"
   },
   {
    "duration": 58,
    "start_time": "2022-02-02T04:29:16.277Z"
   },
   {
    "duration": 10,
    "start_time": "2022-02-02T04:29:16.337Z"
   },
   {
    "duration": 7,
    "start_time": "2022-02-02T04:29:16.349Z"
   },
   {
    "duration": 28,
    "start_time": "2022-02-02T04:29:16.358Z"
   },
   {
    "duration": 51,
    "start_time": "2022-02-02T04:29:16.388Z"
   },
   {
    "duration": 17,
    "start_time": "2022-02-02T04:29:16.441Z"
   },
   {
    "duration": 15,
    "start_time": "2022-02-02T04:29:16.461Z"
   },
   {
    "duration": 4,
    "start_time": "2022-02-02T04:29:16.478Z"
   },
   {
    "duration": 59,
    "start_time": "2022-02-02T04:29:16.485Z"
   },
   {
    "duration": 7,
    "start_time": "2022-02-02T04:29:16.547Z"
   },
   {
    "duration": 15,
    "start_time": "2022-02-02T04:29:16.556Z"
   },
   {
    "duration": 449,
    "start_time": "2022-02-02T04:29:16.574Z"
   },
   {
    "duration": 32,
    "start_time": "2022-02-02T04:29:17.025Z"
   },
   {
    "duration": 6,
    "start_time": "2022-02-02T04:29:17.060Z"
   },
   {
    "duration": 18,
    "start_time": "2022-02-02T04:29:17.069Z"
   },
   {
    "duration": 46,
    "start_time": "2022-02-02T04:29:17.090Z"
   },
   {
    "duration": 24,
    "start_time": "2022-02-02T04:29:17.138Z"
   },
   {
    "duration": 202,
    "start_time": "2022-02-02T04:29:17.165Z"
   },
   {
    "duration": 32,
    "start_time": "2022-02-02T04:29:17.370Z"
   },
   {
    "duration": 49,
    "start_time": "2022-02-02T04:29:17.405Z"
   },
   {
    "duration": 3318,
    "start_time": "2022-02-02T04:29:17.457Z"
   },
   {
    "duration": 9,
    "start_time": "2022-02-02T04:29:20.778Z"
   },
   {
    "duration": 13,
    "start_time": "2022-02-02T04:29:20.789Z"
   },
   {
    "duration": 34,
    "start_time": "2022-02-02T04:29:20.805Z"
   },
   {
    "duration": 16,
    "start_time": "2022-02-02T04:29:20.841Z"
   },
   {
    "duration": 22,
    "start_time": "2022-02-02T04:29:20.860Z"
   },
   {
    "duration": 7,
    "start_time": "2022-02-02T04:29:20.884Z"
   },
   {
    "duration": 101,
    "start_time": "2022-02-02T04:29:20.894Z"
   },
   {
    "duration": 28,
    "start_time": "2022-02-02T04:29:21.004Z"
   },
   {
    "duration": 3443,
    "start_time": "2022-02-02T04:29:21.036Z"
   },
   {
    "duration": 682,
    "start_time": "2022-02-02T04:29:24.482Z"
   },
   {
    "duration": 9,
    "start_time": "2022-02-02T04:29:25.167Z"
   },
   {
    "duration": 7,
    "start_time": "2022-02-02T04:29:25.178Z"
   },
   {
    "duration": 471,
    "start_time": "2022-02-02T04:29:25.188Z"
   },
   {
    "duration": 13,
    "start_time": "2022-02-02T04:29:25.661Z"
   },
   {
    "duration": 13,
    "start_time": "2022-02-02T04:29:25.676Z"
   },
   {
    "duration": 7,
    "start_time": "2022-02-02T04:29:25.691Z"
   },
   {
    "duration": 36,
    "start_time": "2022-02-02T04:29:25.700Z"
   },
   {
    "duration": 19,
    "start_time": "2022-02-02T04:29:25.739Z"
   },
   {
    "duration": 4323,
    "start_time": "2022-02-02T04:29:25.760Z"
   },
   {
    "duration": 13,
    "start_time": "2022-02-02T04:29:30.085Z"
   },
   {
    "duration": 34,
    "start_time": "2022-02-02T04:29:30.100Z"
   },
   {
    "duration": 668,
    "start_time": "2022-02-02T04:29:30.136Z"
   },
   {
    "duration": 306,
    "start_time": "2022-02-02T04:29:30.806Z"
   },
   {
    "duration": 39,
    "start_time": "2022-02-02T04:29:31.114Z"
   },
   {
    "duration": 3,
    "start_time": "2022-02-02T19:52:46.491Z"
   },
   {
    "duration": 97,
    "start_time": "2022-02-02T19:52:46.496Z"
   },
   {
    "duration": 98,
    "start_time": "2022-02-02T19:52:46.595Z"
   },
   {
    "duration": 23,
    "start_time": "2022-02-02T19:52:46.694Z"
   },
   {
    "duration": 14,
    "start_time": "2022-02-02T19:52:46.718Z"
   },
   {
    "duration": 7,
    "start_time": "2022-02-02T19:52:46.734Z"
   },
   {
    "duration": 5,
    "start_time": "2022-02-02T19:52:46.743Z"
   },
   {
    "duration": 5,
    "start_time": "2022-02-02T19:52:46.749Z"
   },
   {
    "duration": 10,
    "start_time": "2022-02-02T19:52:46.755Z"
   },
   {
    "duration": 6,
    "start_time": "2022-02-02T19:52:46.766Z"
   },
   {
    "duration": 40,
    "start_time": "2022-02-02T19:52:46.773Z"
   },
   {
    "duration": 6,
    "start_time": "2022-02-02T19:52:46.815Z"
   },
   {
    "duration": 8,
    "start_time": "2022-02-02T19:52:46.822Z"
   },
   {
    "duration": 6,
    "start_time": "2022-02-02T19:52:46.831Z"
   },
   {
    "duration": 15,
    "start_time": "2022-02-02T19:52:46.839Z"
   },
   {
    "duration": 21,
    "start_time": "2022-02-02T19:52:46.856Z"
   },
   {
    "duration": 4,
    "start_time": "2022-02-02T19:52:46.879Z"
   },
   {
    "duration": 31,
    "start_time": "2022-02-02T19:52:46.885Z"
   },
   {
    "duration": 18,
    "start_time": "2022-02-02T19:52:46.917Z"
   },
   {
    "duration": 8,
    "start_time": "2022-02-02T19:52:46.937Z"
   },
   {
    "duration": 10,
    "start_time": "2022-02-02T19:52:46.947Z"
   },
   {
    "duration": 754,
    "start_time": "2022-02-02T19:52:46.958Z"
   },
   {
    "duration": 2,
    "start_time": "2022-02-02T19:52:47.714Z"
   },
   {
    "duration": 8,
    "start_time": "2022-02-02T19:52:47.717Z"
   },
   {
    "duration": 4,
    "start_time": "2022-02-02T19:52:47.727Z"
   },
   {
    "duration": 3,
    "start_time": "2022-02-02T19:52:47.733Z"
   },
   {
    "duration": 29,
    "start_time": "2022-02-02T19:52:47.737Z"
   },
   {
    "duration": 12,
    "start_time": "2022-02-02T19:52:47.767Z"
   },
   {
    "duration": 38,
    "start_time": "2022-02-02T19:52:47.780Z"
   },
   {
    "duration": 20,
    "start_time": "2022-02-02T19:52:47.819Z"
   },
   {
    "duration": 11,
    "start_time": "2022-02-02T19:52:47.840Z"
   },
   {
    "duration": 23,
    "start_time": "2022-02-02T19:52:47.852Z"
   },
   {
    "duration": 5,
    "start_time": "2022-02-02T19:52:47.877Z"
   },
   {
    "duration": 43,
    "start_time": "2022-02-02T19:52:47.883Z"
   },
   {
    "duration": 14,
    "start_time": "2022-02-02T19:52:47.928Z"
   },
   {
    "duration": 7,
    "start_time": "2022-02-02T19:52:47.944Z"
   },
   {
    "duration": 8,
    "start_time": "2022-02-02T19:52:47.952Z"
   },
   {
    "duration": 20,
    "start_time": "2022-02-02T19:52:47.961Z"
   },
   {
    "duration": 5,
    "start_time": "2022-02-02T19:52:47.983Z"
   },
   {
    "duration": 31,
    "start_time": "2022-02-02T19:52:47.989Z"
   },
   {
    "duration": 6,
    "start_time": "2022-02-02T19:52:48.022Z"
   },
   {
    "duration": 6,
    "start_time": "2022-02-02T19:52:48.030Z"
   },
   {
    "duration": 22,
    "start_time": "2022-02-02T19:52:48.038Z"
   },
   {
    "duration": 14,
    "start_time": "2022-02-02T19:52:48.062Z"
   },
   {
    "duration": 39,
    "start_time": "2022-02-02T19:52:48.078Z"
   },
   {
    "duration": 11,
    "start_time": "2022-02-02T19:52:48.119Z"
   },
   {
    "duration": 3,
    "start_time": "2022-02-02T19:52:48.131Z"
   },
   {
    "duration": 21,
    "start_time": "2022-02-02T19:52:48.136Z"
   },
   {
    "duration": 5,
    "start_time": "2022-02-02T19:52:48.159Z"
   },
   {
    "duration": 4,
    "start_time": "2022-02-02T19:52:48.166Z"
   },
   {
    "duration": 386,
    "start_time": "2022-02-02T19:52:48.172Z"
   },
   {
    "duration": 21,
    "start_time": "2022-02-02T19:52:48.560Z"
   },
   {
    "duration": 5,
    "start_time": "2022-02-02T19:52:48.582Z"
   },
   {
    "duration": 29,
    "start_time": "2022-02-02T19:52:48.588Z"
   },
   {
    "duration": 9,
    "start_time": "2022-02-02T19:52:48.619Z"
   },
   {
    "duration": 14,
    "start_time": "2022-02-02T19:52:48.630Z"
   },
   {
    "duration": 111,
    "start_time": "2022-02-02T19:52:48.646Z"
   },
   {
    "duration": 22,
    "start_time": "2022-02-02T19:52:48.759Z"
   },
   {
    "duration": 31,
    "start_time": "2022-02-02T19:52:48.782Z"
   },
   {
    "duration": 2104,
    "start_time": "2022-02-02T19:52:48.814Z"
   },
   {
    "duration": 5,
    "start_time": "2022-02-02T19:52:50.920Z"
   },
   {
    "duration": 6,
    "start_time": "2022-02-02T19:52:50.926Z"
   },
   {
    "duration": 5,
    "start_time": "2022-02-02T19:52:50.934Z"
   },
   {
    "duration": 3,
    "start_time": "2022-02-02T19:52:50.941Z"
   },
   {
    "duration": 14,
    "start_time": "2022-02-02T19:52:50.946Z"
   },
   {
    "duration": 3,
    "start_time": "2022-02-02T19:52:50.961Z"
   },
   {
    "duration": 174,
    "start_time": "2022-02-02T19:52:50.966Z"
   },
   {
    "duration": 6,
    "start_time": "2022-02-02T19:52:51.142Z"
   },
   {
    "duration": 2169,
    "start_time": "2022-02-02T19:52:51.150Z"
   },
   {
    "duration": 436,
    "start_time": "2022-02-02T19:52:53.321Z"
   },
   {
    "duration": 5,
    "start_time": "2022-02-02T19:52:53.759Z"
   },
   {
    "duration": 4,
    "start_time": "2022-02-02T19:52:53.766Z"
   },
   {
    "duration": 309,
    "start_time": "2022-02-02T19:52:53.771Z"
   },
   {
    "duration": 9,
    "start_time": "2022-02-02T19:52:54.082Z"
   },
   {
    "duration": 23,
    "start_time": "2022-02-02T19:52:54.093Z"
   },
   {
    "duration": 5,
    "start_time": "2022-02-02T19:52:54.117Z"
   },
   {
    "duration": 5,
    "start_time": "2022-02-02T19:52:54.124Z"
   },
   {
    "duration": 8,
    "start_time": "2022-02-02T19:52:54.130Z"
   },
   {
    "duration": 3111,
    "start_time": "2022-02-02T19:52:54.139Z"
   },
   {
    "duration": 9,
    "start_time": "2022-02-02T19:52:57.251Z"
   },
   {
    "duration": 8,
    "start_time": "2022-02-02T19:52:57.261Z"
   },
   {
    "duration": 432,
    "start_time": "2022-02-02T19:52:57.270Z"
   },
   {
    "duration": 214,
    "start_time": "2022-02-02T19:52:57.703Z"
   },
   {
    "duration": 14,
    "start_time": "2022-02-02T19:52:57.919Z"
   },
   {
    "duration": 6,
    "start_time": "2022-02-02T19:57:06.572Z"
   },
   {
    "duration": 106,
    "start_time": "2022-02-02T20:01:25.103Z"
   },
   {
    "duration": 95,
    "start_time": "2022-02-02T20:01:29.666Z"
   },
   {
    "duration": 102,
    "start_time": "2022-02-02T20:02:00.714Z"
   },
   {
    "duration": 101,
    "start_time": "2022-02-02T20:02:07.149Z"
   },
   {
    "duration": 90,
    "start_time": "2022-02-02T20:02:29.696Z"
   },
   {
    "duration": 293,
    "start_time": "2022-02-02T20:05:41.011Z"
   },
   {
    "duration": 288,
    "start_time": "2022-02-02T20:05:52.950Z"
   },
   {
    "duration": 691,
    "start_time": "2022-02-02T20:06:10.170Z"
   },
   {
    "duration": 682,
    "start_time": "2022-02-02T20:06:45.749Z"
   },
   {
    "duration": 571,
    "start_time": "2022-02-02T20:06:59.644Z"
   },
   {
    "duration": 301,
    "start_time": "2022-02-02T20:07:04.157Z"
   },
   {
    "duration": 3850,
    "start_time": "2022-02-02T20:07:23.953Z"
   },
   {
    "duration": 3499,
    "start_time": "2022-02-02T20:07:30.241Z"
   },
   {
    "duration": 3556,
    "start_time": "2022-02-02T20:07:48.707Z"
   },
   {
    "duration": 3120,
    "start_time": "2022-02-02T20:08:20.092Z"
   },
   {
    "duration": 3180,
    "start_time": "2022-02-02T20:08:27.724Z"
   },
   {
    "duration": 255,
    "start_time": "2022-02-02T20:08:39.713Z"
   },
   {
    "duration": 3418,
    "start_time": "2022-02-02T20:09:01.731Z"
   },
   {
    "duration": 3311,
    "start_time": "2022-02-02T20:09:16.609Z"
   },
   {
    "duration": 725,
    "start_time": "2022-02-02T20:09:26.139Z"
   },
   {
    "duration": 512,
    "start_time": "2022-02-02T20:09:30.771Z"
   },
   {
    "duration": 555,
    "start_time": "2022-02-02T20:09:36.904Z"
   },
   {
    "duration": 3504,
    "start_time": "2022-02-02T20:09:44.930Z"
   },
   {
    "duration": 3218,
    "start_time": "2022-02-02T20:10:18.912Z"
   },
   {
    "duration": 3493,
    "start_time": "2022-02-02T20:10:25.637Z"
   },
   {
    "duration": 5164,
    "start_time": "2022-02-02T20:10:34.506Z"
   },
   {
    "duration": 3201,
    "start_time": "2022-02-02T20:10:56.022Z"
   },
   {
    "duration": 4164,
    "start_time": "2022-02-02T20:11:05.840Z"
   },
   {
    "duration": 3105,
    "start_time": "2022-02-02T20:11:53.660Z"
   },
   {
    "duration": 300,
    "start_time": "2022-02-03T04:58:59.446Z"
   },
   {
    "duration": 1016,
    "start_time": "2022-02-16T02:59:46.066Z"
   },
   {
    "duration": 93,
    "start_time": "2022-02-16T02:59:48.755Z"
   },
   {
    "duration": 80,
    "start_time": "2022-02-16T02:59:50.315Z"
   },
   {
    "duration": 18,
    "start_time": "2022-02-16T02:59:51.221Z"
   },
   {
    "duration": 14,
    "start_time": "2022-02-16T02:59:56.163Z"
   },
   {
    "duration": 7,
    "start_time": "2022-02-16T02:59:59.447Z"
   },
   {
    "duration": 6,
    "start_time": "2022-02-16T03:00:01.653Z"
   },
   {
    "duration": 5,
    "start_time": "2022-02-16T03:00:01.893Z"
   },
   {
    "duration": 6,
    "start_time": "2022-02-16T03:00:02.254Z"
   },
   {
    "duration": 5,
    "start_time": "2022-02-16T03:00:02.659Z"
   },
   {
    "duration": 5,
    "start_time": "2022-02-16T03:00:03.411Z"
   },
   {
    "duration": 6,
    "start_time": "2022-02-16T03:00:03.973Z"
   },
   {
    "duration": 4,
    "start_time": "2022-02-16T03:00:06.145Z"
   },
   {
    "duration": 5,
    "start_time": "2022-02-16T03:00:24.434Z"
   },
   {
    "duration": 4,
    "start_time": "2022-02-16T03:00:24.979Z"
   },
   {
    "duration": 15,
    "start_time": "2022-02-16T03:00:25.602Z"
   },
   {
    "duration": 5,
    "start_time": "2022-02-16T03:00:29.178Z"
   },
   {
    "duration": 11,
    "start_time": "2022-02-16T03:00:29.553Z"
   },
   {
    "duration": 19,
    "start_time": "2022-02-16T03:00:29.997Z"
   },
   {
    "duration": 4,
    "start_time": "2022-02-16T03:03:25.648Z"
   },
   {
    "duration": 86,
    "start_time": "2022-02-16T03:03:25.653Z"
   },
   {
    "duration": 81,
    "start_time": "2022-02-16T03:03:25.741Z"
   },
   {
    "duration": 23,
    "start_time": "2022-02-16T03:03:25.824Z"
   },
   {
    "duration": 14,
    "start_time": "2022-02-16T03:03:25.848Z"
   },
   {
    "duration": 8,
    "start_time": "2022-02-16T03:03:25.864Z"
   },
   {
    "duration": 5,
    "start_time": "2022-02-16T03:03:25.874Z"
   },
   {
    "duration": 5,
    "start_time": "2022-02-16T03:03:25.880Z"
   },
   {
    "duration": 5,
    "start_time": "2022-02-16T03:03:25.887Z"
   },
   {
    "duration": 40,
    "start_time": "2022-02-16T03:03:25.894Z"
   },
   {
    "duration": 6,
    "start_time": "2022-02-16T03:03:25.935Z"
   },
   {
    "duration": 6,
    "start_time": "2022-02-16T03:03:25.942Z"
   },
   {
    "duration": 5,
    "start_time": "2022-02-16T03:03:25.949Z"
   },
   {
    "duration": 4,
    "start_time": "2022-02-16T03:03:25.956Z"
   },
   {
    "duration": 4,
    "start_time": "2022-02-16T03:03:25.962Z"
   },
   {
    "duration": 19,
    "start_time": "2022-02-16T03:03:25.967Z"
   },
   {
    "duration": 4,
    "start_time": "2022-02-16T03:03:25.987Z"
   },
   {
    "duration": 4,
    "start_time": "2022-02-16T03:03:30.295Z"
   },
   {
    "duration": 19,
    "start_time": "2022-02-16T03:03:32.238Z"
   },
   {
    "duration": 9,
    "start_time": "2022-02-16T03:06:13.135Z"
   },
   {
    "duration": 19,
    "start_time": "2022-02-16T03:06:16.141Z"
   },
   {
    "duration": 4,
    "start_time": "2022-02-16T03:07:22.088Z"
   },
   {
    "duration": 7,
    "start_time": "2022-02-16T03:07:23.865Z"
   },
   {
    "duration": 747,
    "start_time": "2022-02-16T03:07:27.575Z"
   },
   {
    "duration": 2,
    "start_time": "2022-02-16T03:07:29.889Z"
   },
   {
    "duration": 5,
    "start_time": "2022-02-16T03:07:31.341Z"
   },
   {
    "duration": 5,
    "start_time": "2022-02-16T03:07:31.934Z"
   },
   {
    "duration": 3,
    "start_time": "2022-02-16T03:07:32.590Z"
   },
   {
    "duration": 27,
    "start_time": "2022-02-16T03:07:33.423Z"
   },
   {
    "duration": 15,
    "start_time": "2022-02-16T03:07:40.279Z"
   },
   {
    "duration": 8,
    "start_time": "2022-02-16T03:07:41.146Z"
   },
   {
    "duration": 23,
    "start_time": "2022-02-16T03:08:45.057Z"
   },
   {
    "duration": 11,
    "start_time": "2022-02-16T03:08:49.288Z"
   },
   {
    "duration": 19,
    "start_time": "2022-02-16T03:08:49.947Z"
   },
   {
    "duration": 6,
    "start_time": "2022-02-16T03:08:52.535Z"
   },
   {
    "duration": 4,
    "start_time": "2022-02-16T03:08:53.173Z"
   },
   {
    "duration": 9,
    "start_time": "2022-02-16T03:08:54.501Z"
   },
   {
    "duration": 5,
    "start_time": "2022-02-16T03:08:57.168Z"
   },
   {
    "duration": 6,
    "start_time": "2022-02-16T03:09:20.060Z"
   },
   {
    "duration": 21,
    "start_time": "2022-02-16T03:09:21.196Z"
   },
   {
    "duration": 6,
    "start_time": "2022-02-16T03:09:24.109Z"
   },
   {
    "duration": 19,
    "start_time": "2022-02-16T03:09:24.477Z"
   },
   {
    "duration": 7,
    "start_time": "2022-02-16T03:09:28.416Z"
   },
   {
    "duration": 251,
    "start_time": "2022-02-16T03:18:56.621Z"
   },
   {
    "duration": 167,
    "start_time": "2022-02-16T03:19:15.334Z"
   },
   {
    "duration": 8,
    "start_time": "2022-02-16T03:19:20.521Z"
   },
   {
    "duration": 15,
    "start_time": "2022-02-16T03:19:30.793Z"
   },
   {
    "duration": 20,
    "start_time": "2022-02-16T03:19:33.913Z"
   },
   {
    "duration": 21,
    "start_time": "2022-02-16T03:21:02.283Z"
   },
   {
    "duration": 13,
    "start_time": "2022-02-16T03:21:04.683Z"
   },
   {
    "duration": 11,
    "start_time": "2022-02-16T03:21:04.909Z"
   },
   {
    "duration": 12,
    "start_time": "2022-02-16T03:21:05.319Z"
   },
   {
    "duration": 3,
    "start_time": "2022-02-16T03:21:05.657Z"
   },
   {
    "duration": 19,
    "start_time": "2022-02-16T03:21:11.641Z"
   },
   {
    "duration": 6,
    "start_time": "2022-02-16T03:21:12.152Z"
   },
   {
    "duration": 5,
    "start_time": "2022-02-16T03:21:12.639Z"
   },
   {
    "duration": 374,
    "start_time": "2022-02-16T03:23:17.328Z"
   },
   {
    "duration": 32,
    "start_time": "2022-02-16T03:23:17.704Z"
   },
   {
    "duration": 5,
    "start_time": "2022-02-16T03:23:18.377Z"
   },
   {
    "duration": 13,
    "start_time": "2022-02-16T03:23:20.543Z"
   },
   {
    "duration": 10,
    "start_time": "2022-02-16T03:23:20.727Z"
   },
   {
    "duration": 14,
    "start_time": "2022-02-16T03:23:20.915Z"
   },
   {
    "duration": 100,
    "start_time": "2022-02-16T03:23:26.485Z"
   },
   {
    "duration": 260,
    "start_time": "2022-02-16T03:23:51.702Z"
   },
   {
    "duration": 99,
    "start_time": "2022-02-16T03:24:05.645Z"
   },
   {
    "duration": 97,
    "start_time": "2022-02-16T03:24:13.472Z"
   },
   {
    "duration": 21,
    "start_time": "2022-02-16T03:24:42.239Z"
   },
   {
    "duration": 17,
    "start_time": "2022-02-16T03:24:42.462Z"
   },
   {
    "duration": 2138,
    "start_time": "2022-02-16T03:24:44.884Z"
   },
   {
    "duration": 206,
    "start_time": "2022-02-16T03:46:43.314Z"
   },
   {
    "duration": 18,
    "start_time": "2022-02-16T03:46:59.232Z"
   },
   {
    "duration": 5,
    "start_time": "2022-02-16T03:47:02.422Z"
   },
   {
    "duration": 13,
    "start_time": "2022-02-16T03:47:37.243Z"
   },
   {
    "duration": 3,
    "start_time": "2022-02-16T03:47:59.115Z"
   },
   {
    "duration": 5,
    "start_time": "2022-02-16T03:49:28.330Z"
   },
   {
    "duration": 8,
    "start_time": "2022-02-16T03:51:10.735Z"
   },
   {
    "duration": 9,
    "start_time": "2022-02-16T03:51:24.146Z"
   },
   {
    "duration": 2,
    "start_time": "2022-02-16T03:51:25.555Z"
   },
   {
    "duration": 5,
    "start_time": "2022-02-16T03:51:27.010Z"
   },
   {
    "duration": 8,
    "start_time": "2022-02-16T03:54:05.506Z"
   },
   {
    "duration": 8,
    "start_time": "2022-02-16T03:54:05.697Z"
   },
   {
    "duration": 3,
    "start_time": "2022-02-16T03:54:05.856Z"
   },
   {
    "duration": 5,
    "start_time": "2022-02-16T03:54:06.501Z"
   },
   {
    "duration": 5,
    "start_time": "2022-02-16T03:55:06.225Z"
   },
   {
    "duration": 8,
    "start_time": "2022-02-16T03:55:30.711Z"
   },
   {
    "duration": 4,
    "start_time": "2022-02-16T03:57:07.814Z"
   },
   {
    "duration": 194,
    "start_time": "2022-02-16T04:01:15.203Z"
   },
   {
    "duration": 182,
    "start_time": "2022-02-16T04:01:20.782Z"
   },
   {
    "duration": 174,
    "start_time": "2022-02-16T04:01:23.278Z"
   },
   {
    "duration": 7,
    "start_time": "2022-02-16T04:01:45.552Z"
   },
   {
    "duration": 13,
    "start_time": "2022-02-16T04:04:14.771Z"
   },
   {
    "duration": 13,
    "start_time": "2022-02-16T04:04:48.198Z"
   },
   {
    "duration": 64,
    "start_time": "2022-02-16T04:06:05.681Z"
   },
   {
    "duration": 56,
    "start_time": "2022-02-16T04:06:11.832Z"
   },
   {
    "duration": 249,
    "start_time": "2022-02-16T04:06:18.831Z"
   },
   {
    "duration": 701,
    "start_time": "2022-02-16T04:06:49.000Z"
   },
   {
    "duration": 11,
    "start_time": "2022-02-16T04:07:31.261Z"
   },
   {
    "duration": 12,
    "start_time": "2022-02-16T04:07:59.524Z"
   },
   {
    "duration": 14,
    "start_time": "2022-02-16T04:08:36.456Z"
   },
   {
    "duration": 12,
    "start_time": "2022-02-16T04:08:43.424Z"
   },
   {
    "duration": 12,
    "start_time": "2022-02-16T04:09:47.191Z"
   },
   {
    "duration": 22,
    "start_time": "2022-02-16T04:10:11.254Z"
   },
   {
    "duration": 12,
    "start_time": "2022-02-16T04:10:23.778Z"
   },
   {
    "duration": 180,
    "start_time": "2022-02-16T04:12:12.726Z"
   },
   {
    "duration": 178,
    "start_time": "2022-02-16T04:12:31.358Z"
   },
   {
    "duration": 182,
    "start_time": "2022-02-16T04:12:55.592Z"
   },
   {
    "duration": 6,
    "start_time": "2022-02-16T04:14:03.336Z"
   },
   {
    "duration": 7,
    "start_time": "2022-02-16T04:14:33.396Z"
   },
   {
    "duration": 5,
    "start_time": "2022-02-16T04:15:26.001Z"
   },
   {
    "duration": 6,
    "start_time": "2022-02-16T04:17:14.745Z"
   },
   {
    "duration": 4387,
    "start_time": "2022-02-16T04:17:15.122Z"
   },
   {
    "duration": 6,
    "start_time": "2022-02-16T04:17:45.243Z"
   },
   {
    "duration": 5,
    "start_time": "2022-02-16T04:18:47.216Z"
   },
   {
    "duration": 13,
    "start_time": "2022-02-16T04:27:42.626Z"
   },
   {
    "duration": 3,
    "start_time": "2022-02-16T04:27:43.330Z"
   },
   {
    "duration": 53,
    "start_time": "2022-02-16T04:27:54.904Z"
   },
   {
    "duration": 7,
    "start_time": "2022-02-16T04:27:55.727Z"
   },
   {
    "duration": 2095,
    "start_time": "2022-02-16T04:28:32.743Z"
   },
   {
    "duration": 389,
    "start_time": "2022-02-16T04:28:46.123Z"
   },
   {
    "duration": 16,
    "start_time": "2022-02-16T04:28:46.514Z"
   },
   {
    "duration": 4,
    "start_time": "2022-02-16T04:28:46.845Z"
   },
   {
    "duration": 260,
    "start_time": "2022-02-16T04:29:02.322Z"
   },
   {
    "duration": 269,
    "start_time": "2022-02-16T04:31:16.187Z"
   },
   {
    "duration": 8,
    "start_time": "2022-02-16T04:32:07.114Z"
   },
   {
    "duration": 10,
    "start_time": "2022-02-16T04:32:11.550Z"
   },
   {
    "duration": 5,
    "start_time": "2022-02-16T04:32:11.931Z"
   },
   {
    "duration": 5,
    "start_time": "2022-02-16T04:32:12.536Z"
   },
   {
    "duration": 11,
    "start_time": "2022-02-16T04:32:13.093Z"
   },
   {
    "duration": 3255,
    "start_time": "2022-02-16T04:32:13.886Z"
   },
   {
    "duration": 3494,
    "start_time": "2022-02-16T04:32:32.448Z"
   },
   {
    "duration": 12800,
    "start_time": "2022-02-16T04:33:00.502Z"
   },
   {
    "duration": 3449,
    "start_time": "2022-02-16T04:33:27.647Z"
   },
   {
    "duration": 3347,
    "start_time": "2022-02-16T04:34:37.183Z"
   },
   {
    "duration": 3725,
    "start_time": "2022-02-16T04:34:52.293Z"
   },
   {
    "duration": 175,
    "start_time": "2022-02-16T04:36:51.878Z"
   },
   {
    "duration": 168,
    "start_time": "2022-02-16T04:36:58.577Z"
   },
   {
    "duration": 3697,
    "start_time": "2022-02-16T04:37:08.733Z"
   },
   {
    "duration": 3079,
    "start_time": "2022-02-16T04:37:17.008Z"
   },
   {
    "duration": 2992,
    "start_time": "2022-02-16T04:37:39.827Z"
   },
   {
    "duration": 2875,
    "start_time": "2022-02-16T04:37:54.175Z"
   },
   {
    "duration": 2722,
    "start_time": "2022-02-16T04:38:28.113Z"
   },
   {
    "duration": 3318,
    "start_time": "2022-02-16T04:38:41.658Z"
   },
   {
    "duration": 7,
    "start_time": "2022-02-16T04:40:44.541Z"
   },
   {
    "duration": 3533,
    "start_time": "2022-02-16T04:41:02.021Z"
   },
   {
    "duration": 2992,
    "start_time": "2022-02-16T04:41:13.541Z"
   },
   {
    "duration": 1111,
    "start_time": "2022-02-16T04:41:21.726Z"
   },
   {
    "duration": 3162,
    "start_time": "2022-02-16T04:41:26.535Z"
   },
   {
    "duration": 12,
    "start_time": "2022-02-16T04:41:38.346Z"
   },
   {
    "duration": 10,
    "start_time": "2022-02-16T04:41:38.745Z"
   },
   {
    "duration": 553,
    "start_time": "2022-02-16T04:41:38.977Z"
   },
   {
    "duration": 395,
    "start_time": "2022-02-16T04:42:17.307Z"
   },
   {
    "duration": 358,
    "start_time": "2022-02-16T04:42:28.040Z"
   },
   {
    "duration": 689,
    "start_time": "2022-02-16T04:42:57.483Z"
   },
   {
    "duration": 396,
    "start_time": "2022-02-16T04:43:19.401Z"
   },
   {
    "duration": 442,
    "start_time": "2022-02-16T04:44:36.310Z"
   },
   {
    "duration": 655,
    "start_time": "2022-02-16T04:44:44.539Z"
   },
   {
    "duration": 434,
    "start_time": "2022-02-16T04:44:52.224Z"
   },
   {
    "duration": 58,
    "start_time": "2022-02-16T04:47:03.189Z"
   },
   {
    "duration": 180,
    "start_time": "2022-02-16T04:47:11.277Z"
   },
   {
    "duration": 15,
    "start_time": "2022-02-16T04:47:16.347Z"
   },
   {
    "duration": 1081,
    "start_time": "2022-02-16T04:56:37.001Z"
   },
   {
    "duration": 88,
    "start_time": "2022-02-16T04:56:38.084Z"
   },
   {
    "duration": 88,
    "start_time": "2022-02-16T04:56:38.174Z"
   },
   {
    "duration": 17,
    "start_time": "2022-02-16T04:56:38.264Z"
   },
   {
    "duration": 12,
    "start_time": "2022-02-16T04:56:38.283Z"
   },
   {
    "duration": 8,
    "start_time": "2022-02-16T04:56:38.297Z"
   },
   {
    "duration": 26,
    "start_time": "2022-02-16T04:56:38.307Z"
   },
   {
    "duration": 4,
    "start_time": "2022-02-16T04:56:38.336Z"
   },
   {
    "duration": 5,
    "start_time": "2022-02-16T04:56:38.342Z"
   },
   {
    "duration": 8,
    "start_time": "2022-02-16T04:56:38.348Z"
   },
   {
    "duration": 6,
    "start_time": "2022-02-16T04:56:38.357Z"
   },
   {
    "duration": 6,
    "start_time": "2022-02-16T04:56:38.364Z"
   },
   {
    "duration": 6,
    "start_time": "2022-02-16T04:56:38.371Z"
   },
   {
    "duration": 7,
    "start_time": "2022-02-16T04:56:38.378Z"
   },
   {
    "duration": 7,
    "start_time": "2022-02-16T04:56:38.386Z"
   },
   {
    "duration": 20,
    "start_time": "2022-02-16T04:56:38.431Z"
   },
   {
    "duration": 4,
    "start_time": "2022-02-16T04:56:38.452Z"
   },
   {
    "duration": 11,
    "start_time": "2022-02-16T04:56:38.458Z"
   },
   {
    "duration": 18,
    "start_time": "2022-02-16T04:56:38.470Z"
   },
   {
    "duration": 4,
    "start_time": "2022-02-16T04:56:38.490Z"
   },
   {
    "duration": 37,
    "start_time": "2022-02-16T04:56:38.495Z"
   },
   {
    "duration": 889,
    "start_time": "2022-02-16T04:56:38.534Z"
   },
   {
    "duration": 4,
    "start_time": "2022-02-16T04:56:39.426Z"
   },
   {
    "duration": 6,
    "start_time": "2022-02-16T04:56:39.433Z"
   },
   {
    "duration": 4,
    "start_time": "2022-02-16T04:56:39.440Z"
   },
   {
    "duration": 3,
    "start_time": "2022-02-16T04:56:39.446Z"
   },
   {
    "duration": 27,
    "start_time": "2022-02-16T04:56:39.450Z"
   },
   {
    "duration": 14,
    "start_time": "2022-02-16T04:56:39.479Z"
   },
   {
    "duration": 41,
    "start_time": "2022-02-16T04:56:39.495Z"
   },
   {
    "duration": 19,
    "start_time": "2022-02-16T04:56:39.537Z"
   },
   {
    "duration": 10,
    "start_time": "2022-02-16T04:56:39.558Z"
   },
   {
    "duration": 19,
    "start_time": "2022-02-16T04:56:39.569Z"
   },
   {
    "duration": 5,
    "start_time": "2022-02-16T04:56:39.589Z"
   },
   {
    "duration": 34,
    "start_time": "2022-02-16T04:56:39.596Z"
   },
   {
    "duration": 11,
    "start_time": "2022-02-16T04:56:39.632Z"
   },
   {
    "duration": 7,
    "start_time": "2022-02-16T04:56:39.644Z"
   },
   {
    "duration": 11,
    "start_time": "2022-02-16T04:56:39.653Z"
   },
   {
    "duration": 21,
    "start_time": "2022-02-16T04:56:39.666Z"
   },
   {
    "duration": 6,
    "start_time": "2022-02-16T04:56:39.689Z"
   },
   {
    "duration": 44,
    "start_time": "2022-02-16T04:56:39.696Z"
   },
   {
    "duration": 6,
    "start_time": "2022-02-16T04:56:39.742Z"
   },
   {
    "duration": 5,
    "start_time": "2022-02-16T04:56:39.750Z"
   },
   {
    "duration": 9,
    "start_time": "2022-02-16T04:56:39.757Z"
   },
   {
    "duration": 22,
    "start_time": "2022-02-16T04:56:39.768Z"
   },
   {
    "duration": 55,
    "start_time": "2022-02-16T04:56:39.791Z"
   },
   {
    "duration": 13,
    "start_time": "2022-02-16T04:56:39.847Z"
   },
   {
    "duration": 13,
    "start_time": "2022-02-16T04:56:39.861Z"
   },
   {
    "duration": 13,
    "start_time": "2022-02-16T04:56:39.875Z"
   },
   {
    "duration": 4,
    "start_time": "2022-02-16T04:56:39.890Z"
   },
   {
    "duration": 54,
    "start_time": "2022-02-16T04:56:39.896Z"
   },
   {
    "duration": 8,
    "start_time": "2022-02-16T04:56:39.951Z"
   },
   {
    "duration": 6,
    "start_time": "2022-02-16T04:56:39.960Z"
   },
   {
    "duration": 405,
    "start_time": "2022-02-16T04:56:39.968Z"
   },
   {
    "duration": 24,
    "start_time": "2022-02-16T04:56:40.375Z"
   },
   {
    "duration": 5,
    "start_time": "2022-02-16T04:56:40.401Z"
   },
   {
    "duration": 32,
    "start_time": "2022-02-16T04:56:40.408Z"
   },
   {
    "duration": 10,
    "start_time": "2022-02-16T04:56:40.442Z"
   },
   {
    "duration": 16,
    "start_time": "2022-02-16T04:56:40.454Z"
   },
   {
    "duration": 130,
    "start_time": "2022-02-16T04:56:40.471Z"
   },
   {
    "duration": 34,
    "start_time": "2022-02-16T04:56:40.603Z"
   },
   {
    "duration": 17,
    "start_time": "2022-02-16T04:56:40.639Z"
   },
   {
    "duration": 2282,
    "start_time": "2022-02-16T04:56:40.658Z"
   },
   {
    "duration": 9,
    "start_time": "2022-02-16T04:56:42.942Z"
   },
   {
    "duration": 8,
    "start_time": "2022-02-16T04:56:42.953Z"
   },
   {
    "duration": 3,
    "start_time": "2022-02-16T04:56:42.963Z"
   },
   {
    "duration": 6,
    "start_time": "2022-02-16T04:56:42.968Z"
   },
   {
    "duration": 5,
    "start_time": "2022-02-16T04:56:42.976Z"
   },
   {
    "duration": 50,
    "start_time": "2022-02-16T04:56:42.988Z"
   },
   {
    "duration": 8,
    "start_time": "2022-02-16T04:56:43.041Z"
   },
   {
    "duration": 5,
    "start_time": "2022-02-16T04:56:43.051Z"
   },
   {
    "duration": 7,
    "start_time": "2022-02-16T04:56:43.058Z"
   },
   {
    "duration": 4,
    "start_time": "2022-02-16T04:56:43.067Z"
   },
   {
    "duration": 13,
    "start_time": "2022-02-16T04:56:43.072Z"
   },
   {
    "duration": 4,
    "start_time": "2022-02-16T04:56:43.086Z"
   },
   {
    "duration": 52,
    "start_time": "2022-02-16T04:56:43.131Z"
   },
   {
    "duration": 6,
    "start_time": "2022-02-16T04:56:43.184Z"
   },
   {
    "duration": 2344,
    "start_time": "2022-02-16T04:56:43.191Z"
   },
   {
    "duration": 594,
    "start_time": "2022-02-16T04:56:45.536Z"
   },
   {
    "duration": 5,
    "start_time": "2022-02-16T04:56:46.132Z"
   },
   {
    "duration": 5,
    "start_time": "2022-02-16T04:56:46.138Z"
   },
   {
    "duration": 358,
    "start_time": "2022-02-16T04:56:46.144Z"
   },
   {
    "duration": 7,
    "start_time": "2022-02-16T04:56:46.504Z"
   },
   {
    "duration": 17,
    "start_time": "2022-02-16T04:56:46.513Z"
   },
   {
    "duration": 4,
    "start_time": "2022-02-16T04:56:46.532Z"
   },
   {
    "duration": 4,
    "start_time": "2022-02-16T04:56:46.538Z"
   },
   {
    "duration": 10,
    "start_time": "2022-02-16T04:56:46.543Z"
   },
   {
    "duration": 3519,
    "start_time": "2022-02-16T04:56:46.555Z"
   },
   {
    "duration": 9,
    "start_time": "2022-02-16T04:56:50.076Z"
   },
   {
    "duration": 8,
    "start_time": "2022-02-16T04:56:50.087Z"
   },
   {
    "duration": 392,
    "start_time": "2022-02-16T04:56:50.096Z"
   },
   {
    "duration": 296,
    "start_time": "2022-02-16T04:56:50.490Z"
   },
   {
    "duration": 15,
    "start_time": "2022-02-16T04:56:50.787Z"
   },
   {
    "duration": 1637,
    "start_time": "2022-02-16T09:32:28.999Z"
   },
   {
    "duration": 493,
    "start_time": "2022-02-16T09:32:30.639Z"
   },
   {
    "duration": 73,
    "start_time": "2022-02-16T09:32:31.134Z"
   },
   {
    "duration": 30,
    "start_time": "2022-02-16T09:32:31.209Z"
   },
   {
    "duration": 19,
    "start_time": "2022-02-16T09:32:31.240Z"
   },
   {
    "duration": 17,
    "start_time": "2022-02-16T09:32:31.261Z"
   },
   {
    "duration": 9,
    "start_time": "2022-02-16T09:32:31.279Z"
   },
   {
    "duration": 5,
    "start_time": "2022-02-16T09:32:31.290Z"
   },
   {
    "duration": 9,
    "start_time": "2022-02-16T09:32:31.297Z"
   },
   {
    "duration": 25,
    "start_time": "2022-02-16T09:32:31.308Z"
   },
   {
    "duration": 6,
    "start_time": "2022-02-16T09:32:31.334Z"
   },
   {
    "duration": 7,
    "start_time": "2022-02-16T09:32:31.341Z"
   },
   {
    "duration": 10,
    "start_time": "2022-02-16T09:32:31.350Z"
   },
   {
    "duration": 8,
    "start_time": "2022-02-16T09:32:31.361Z"
   },
   {
    "duration": 9,
    "start_time": "2022-02-16T09:32:31.371Z"
   },
   {
    "duration": 21,
    "start_time": "2022-02-16T09:32:31.381Z"
   },
   {
    "duration": 4,
    "start_time": "2022-02-16T09:32:31.404Z"
   },
   {
    "duration": 30,
    "start_time": "2022-02-16T09:32:31.410Z"
   },
   {
    "duration": 21,
    "start_time": "2022-02-16T09:32:31.442Z"
   },
   {
    "duration": 5,
    "start_time": "2022-02-16T09:32:31.465Z"
   },
   {
    "duration": 8,
    "start_time": "2022-02-16T09:32:31.472Z"
   },
   {
    "duration": 1257,
    "start_time": "2022-02-16T09:32:31.482Z"
   },
   {
    "duration": 2,
    "start_time": "2022-02-16T09:32:32.741Z"
   },
   {
    "duration": 10,
    "start_time": "2022-02-16T09:32:32.745Z"
   },
   {
    "duration": 8,
    "start_time": "2022-02-16T09:32:32.757Z"
   },
   {
    "duration": 7,
    "start_time": "2022-02-16T09:32:32.767Z"
   },
   {
    "duration": 91,
    "start_time": "2022-02-16T09:32:32.777Z"
   },
   {
    "duration": 8,
    "start_time": "2022-02-16T09:32:32.870Z"
   },
   {
    "duration": 9,
    "start_time": "2022-02-16T09:32:32.880Z"
   },
   {
    "duration": 41,
    "start_time": "2022-02-16T09:32:32.891Z"
   },
   {
    "duration": 13,
    "start_time": "2022-02-16T09:32:32.933Z"
   },
   {
    "duration": 22,
    "start_time": "2022-02-16T09:32:32.947Z"
   },
   {
    "duration": 6,
    "start_time": "2022-02-16T09:32:32.970Z"
   },
   {
    "duration": 5,
    "start_time": "2022-02-16T09:32:32.977Z"
   },
   {
    "duration": 8,
    "start_time": "2022-02-16T09:32:32.984Z"
   },
   {
    "duration": 15,
    "start_time": "2022-02-16T09:32:32.994Z"
   },
   {
    "duration": 25,
    "start_time": "2022-02-16T09:32:33.010Z"
   },
   {
    "duration": 27,
    "start_time": "2022-02-16T09:32:33.036Z"
   },
   {
    "duration": 5,
    "start_time": "2022-02-16T09:32:33.064Z"
   },
   {
    "duration": 21,
    "start_time": "2022-02-16T09:32:33.071Z"
   },
   {
    "duration": 5,
    "start_time": "2022-02-16T09:32:33.094Z"
   },
   {
    "duration": 6,
    "start_time": "2022-02-16T09:32:33.100Z"
   },
   {
    "duration": 26,
    "start_time": "2022-02-16T09:32:33.108Z"
   },
   {
    "duration": 25,
    "start_time": "2022-02-16T09:32:33.135Z"
   },
   {
    "duration": 20,
    "start_time": "2022-02-16T09:32:33.162Z"
   },
   {
    "duration": 11,
    "start_time": "2022-02-16T09:32:33.184Z"
   },
   {
    "duration": 34,
    "start_time": "2022-02-16T09:32:33.197Z"
   },
   {
    "duration": 10,
    "start_time": "2022-02-16T09:32:33.233Z"
   },
   {
    "duration": 3,
    "start_time": "2022-02-16T09:32:33.244Z"
   },
   {
    "duration": 23,
    "start_time": "2022-02-16T09:32:33.248Z"
   },
   {
    "duration": 4,
    "start_time": "2022-02-16T09:32:33.273Z"
   },
   {
    "duration": 7,
    "start_time": "2022-02-16T09:32:33.278Z"
   },
   {
    "duration": 625,
    "start_time": "2022-02-16T09:32:33.287Z"
   },
   {
    "duration": -2234,
    "start_time": "2022-02-16T09:32:36.149Z"
   },
   {
    "duration": -2244,
    "start_time": "2022-02-16T09:32:36.160Z"
   },
   {
    "duration": -2251,
    "start_time": "2022-02-16T09:32:36.168Z"
   },
   {
    "duration": -2315,
    "start_time": "2022-02-16T09:32:36.234Z"
   },
   {
    "duration": -2328,
    "start_time": "2022-02-16T09:32:36.248Z"
   },
   {
    "duration": -2339,
    "start_time": "2022-02-16T09:32:36.260Z"
   },
   {
    "duration": -2365,
    "start_time": "2022-02-16T09:32:36.287Z"
   },
   {
    "duration": -2378,
    "start_time": "2022-02-16T09:32:36.301Z"
   },
   {
    "duration": -2389,
    "start_time": "2022-02-16T09:32:36.314Z"
   },
   {
    "duration": -2402,
    "start_time": "2022-02-16T09:32:36.328Z"
   },
   {
    "duration": -2435,
    "start_time": "2022-02-16T09:32:36.362Z"
   },
   {
    "duration": -2447,
    "start_time": "2022-02-16T09:32:36.375Z"
   },
   {
    "duration": -2458,
    "start_time": "2022-02-16T09:32:36.388Z"
   },
   {
    "duration": -2468,
    "start_time": "2022-02-16T09:32:36.399Z"
   },
   {
    "duration": -2478,
    "start_time": "2022-02-16T09:32:36.410Z"
   },
   {
    "duration": -2489,
    "start_time": "2022-02-16T09:32:36.422Z"
   },
   {
    "duration": -2521,
    "start_time": "2022-02-16T09:32:36.456Z"
   },
   {
    "duration": -2559,
    "start_time": "2022-02-16T09:32:36.495Z"
   },
   {
    "duration": -2570,
    "start_time": "2022-02-16T09:32:36.507Z"
   },
   {
    "duration": -2582,
    "start_time": "2022-02-16T09:32:36.520Z"
   },
   {
    "duration": -2594,
    "start_time": "2022-02-16T09:32:36.534Z"
   },
   {
    "duration": -2611,
    "start_time": "2022-02-16T09:32:36.553Z"
   },
   {
    "duration": -2624,
    "start_time": "2022-02-16T09:32:36.567Z"
   },
   {
    "duration": -2635,
    "start_time": "2022-02-16T09:32:36.580Z"
   },
   {
    "duration": -2646,
    "start_time": "2022-02-16T09:32:36.592Z"
   },
   {
    "duration": -2682,
    "start_time": "2022-02-16T09:32:36.629Z"
   },
   {
    "duration": -2710,
    "start_time": "2022-02-16T09:32:36.659Z"
   },
   {
    "duration": -2719,
    "start_time": "2022-02-16T09:32:36.669Z"
   },
   {
    "duration": -2730,
    "start_time": "2022-02-16T09:32:36.681Z"
   },
   {
    "duration": -2741,
    "start_time": "2022-02-16T09:32:36.694Z"
   },
   {
    "duration": -2750,
    "start_time": "2022-02-16T09:32:36.704Z"
   },
   {
    "duration": -2759,
    "start_time": "2022-02-16T09:32:36.715Z"
   },
   {
    "duration": -2791,
    "start_time": "2022-02-16T09:32:36.748Z"
   },
   {
    "duration": -2804,
    "start_time": "2022-02-16T09:32:36.762Z"
   },
   {
    "duration": -2813,
    "start_time": "2022-02-16T09:32:36.773Z"
   },
   {
    "duration": -2873,
    "start_time": "2022-02-16T09:32:36.834Z"
   },
   {
    "duration": -2899,
    "start_time": "2022-02-16T09:32:36.861Z"
   },
   {
    "duration": -2914,
    "start_time": "2022-02-16T09:32:36.878Z"
   },
   {
    "duration": -2925,
    "start_time": "2022-02-16T09:32:36.890Z"
   },
   {
    "duration": 1685,
    "start_time": "2022-02-16T09:38:37.143Z"
   },
   {
    "duration": 99,
    "start_time": "2022-02-16T09:38:38.831Z"
   },
   {
    "duration": 73,
    "start_time": "2022-02-16T09:38:38.932Z"
   },
   {
    "duration": 34,
    "start_time": "2022-02-16T09:38:39.007Z"
   },
   {
    "duration": 14,
    "start_time": "2022-02-16T09:38:39.043Z"
   },
   {
    "duration": 11,
    "start_time": "2022-02-16T09:38:39.059Z"
   },
   {
    "duration": 8,
    "start_time": "2022-02-16T09:38:39.072Z"
   },
   {
    "duration": 4,
    "start_time": "2022-02-16T09:38:39.082Z"
   },
   {
    "duration": 45,
    "start_time": "2022-02-16T09:38:39.088Z"
   },
   {
    "duration": 6,
    "start_time": "2022-02-16T09:38:39.135Z"
   },
   {
    "duration": 8,
    "start_time": "2022-02-16T09:38:39.143Z"
   },
   {
    "duration": 7,
    "start_time": "2022-02-16T09:38:39.153Z"
   },
   {
    "duration": 7,
    "start_time": "2022-02-16T09:38:39.162Z"
   },
   {
    "duration": 8,
    "start_time": "2022-02-16T09:38:39.170Z"
   },
   {
    "duration": 12,
    "start_time": "2022-02-16T09:38:39.180Z"
   },
   {
    "duration": 47,
    "start_time": "2022-02-16T09:38:39.194Z"
   },
   {
    "duration": 5,
    "start_time": "2022-02-16T09:38:39.243Z"
   },
   {
    "duration": 9,
    "start_time": "2022-02-16T09:38:39.249Z"
   },
   {
    "duration": 24,
    "start_time": "2022-02-16T09:38:39.259Z"
   },
   {
    "duration": 5,
    "start_time": "2022-02-16T09:38:39.284Z"
   },
   {
    "duration": 8,
    "start_time": "2022-02-16T09:38:39.291Z"
   },
   {
    "duration": 1558,
    "start_time": "2022-02-16T09:38:39.301Z"
   },
   {
    "duration": 2,
    "start_time": "2022-02-16T09:38:40.862Z"
   },
   {
    "duration": 5,
    "start_time": "2022-02-16T09:38:40.867Z"
   },
   {
    "duration": 6,
    "start_time": "2022-02-16T09:38:40.873Z"
   },
   {
    "duration": 4,
    "start_time": "2022-02-16T09:38:40.880Z"
   },
   {
    "duration": 52,
    "start_time": "2022-02-16T09:38:40.886Z"
   },
   {
    "duration": 9,
    "start_time": "2022-02-16T09:38:40.939Z"
   },
   {
    "duration": 8,
    "start_time": "2022-02-16T09:38:40.949Z"
   },
   {
    "duration": 101,
    "start_time": "2022-02-16T09:38:40.959Z"
   },
   {
    "duration": 13,
    "start_time": "2022-02-16T09:38:41.061Z"
   },
   {
    "duration": 22,
    "start_time": "2022-02-16T09:38:41.075Z"
   },
   {
    "duration": 5,
    "start_time": "2022-02-16T09:38:41.098Z"
   },
   {
    "duration": 3,
    "start_time": "2022-02-16T09:38:41.132Z"
   },
   {
    "duration": 8,
    "start_time": "2022-02-16T09:38:41.137Z"
   },
   {
    "duration": 7,
    "start_time": "2022-02-16T09:38:41.146Z"
   },
   {
    "duration": 7,
    "start_time": "2022-02-16T09:38:41.155Z"
   },
   {
    "duration": 25,
    "start_time": "2022-02-16T09:38:41.164Z"
   },
   {
    "duration": 6,
    "start_time": "2022-02-16T09:38:41.191Z"
   },
   {
    "duration": 31,
    "start_time": "2022-02-16T09:38:41.232Z"
   },
   {
    "duration": 6,
    "start_time": "2022-02-16T09:38:41.265Z"
   },
   {
    "duration": 3,
    "start_time": "2022-02-16T09:38:41.273Z"
   },
   {
    "duration": 24,
    "start_time": "2022-02-16T09:38:41.278Z"
   },
   {
    "duration": 41,
    "start_time": "2022-02-16T09:38:41.304Z"
   },
   {
    "duration": 24,
    "start_time": "2022-02-16T09:38:41.347Z"
   },
   {
    "duration": 13,
    "start_time": "2022-02-16T09:38:41.373Z"
   },
   {
    "duration": 10,
    "start_time": "2022-02-16T09:38:41.388Z"
   },
   {
    "duration": 33,
    "start_time": "2022-02-16T09:38:41.400Z"
   },
   {
    "duration": 3,
    "start_time": "2022-02-16T09:38:41.435Z"
   },
   {
    "duration": 20,
    "start_time": "2022-02-16T09:38:41.440Z"
   },
   {
    "duration": 5,
    "start_time": "2022-02-16T09:38:41.461Z"
   },
   {
    "duration": 5,
    "start_time": "2022-02-16T09:38:41.468Z"
   },
   {
    "duration": 757,
    "start_time": "2022-02-16T09:38:41.475Z"
   },
   {
    "duration": -494,
    "start_time": "2022-02-16T09:38:42.728Z"
   },
   {
    "duration": -524,
    "start_time": "2022-02-16T09:38:42.760Z"
   },
   {
    "duration": -546,
    "start_time": "2022-02-16T09:38:42.783Z"
   },
   {
    "duration": -567,
    "start_time": "2022-02-16T09:38:42.804Z"
   },
   {
    "duration": -579,
    "start_time": "2022-02-16T09:38:42.817Z"
   },
   {
    "duration": -716,
    "start_time": "2022-02-16T09:38:42.955Z"
   },
   {
    "duration": -1548,
    "start_time": "2022-02-16T09:38:43.789Z"
   },
   {
    "duration": -1606,
    "start_time": "2022-02-16T09:38:43.848Z"
   },
   {
    "duration": -1619,
    "start_time": "2022-02-16T09:38:43.862Z"
   },
   {
    "duration": -1653,
    "start_time": "2022-02-16T09:38:43.897Z"
   },
   {
    "duration": -1659,
    "start_time": "2022-02-16T09:38:43.904Z"
   },
   {
    "duration": -1666,
    "start_time": "2022-02-16T09:38:43.912Z"
   },
   {
    "duration": -1677,
    "start_time": "2022-02-16T09:38:43.924Z"
   },
   {
    "duration": -1683,
    "start_time": "2022-02-16T09:38:43.931Z"
   },
   {
    "duration": -1691,
    "start_time": "2022-02-16T09:38:43.940Z"
   },
   {
    "duration": -1697,
    "start_time": "2022-02-16T09:38:43.947Z"
   },
   {
    "duration": -1713,
    "start_time": "2022-02-16T09:38:43.964Z"
   },
   {
    "duration": -1720,
    "start_time": "2022-02-16T09:38:43.972Z"
   },
   {
    "duration": -1726,
    "start_time": "2022-02-16T09:38:43.978Z"
   },
   {
    "duration": -1733,
    "start_time": "2022-02-16T09:38:43.986Z"
   },
   {
    "duration": -1741,
    "start_time": "2022-02-16T09:38:43.995Z"
   },
   {
    "duration": -1747,
    "start_time": "2022-02-16T09:38:44.002Z"
   },
   {
    "duration": -1754,
    "start_time": "2022-02-16T09:38:44.010Z"
   },
   {
    "duration": -1760,
    "start_time": "2022-02-16T09:38:44.017Z"
   },
   {
    "duration": -1767,
    "start_time": "2022-02-16T09:38:44.025Z"
   },
   {
    "duration": -1772,
    "start_time": "2022-02-16T09:38:44.031Z"
   },
   {
    "duration": -1781,
    "start_time": "2022-02-16T09:38:44.041Z"
   },
   {
    "duration": -1789,
    "start_time": "2022-02-16T09:38:44.050Z"
   },
   {
    "duration": -1823,
    "start_time": "2022-02-16T09:38:44.085Z"
   },
   {
    "duration": -1835,
    "start_time": "2022-02-16T09:38:44.098Z"
   },
   {
    "duration": -1842,
    "start_time": "2022-02-16T09:38:44.106Z"
   },
   {
    "duration": -1847,
    "start_time": "2022-02-16T09:38:44.112Z"
   },
   {
    "duration": -1853,
    "start_time": "2022-02-16T09:38:44.119Z"
   },
   {
    "duration": -1861,
    "start_time": "2022-02-16T09:38:44.127Z"
   },
   {
    "duration": -1872,
    "start_time": "2022-02-16T09:38:44.139Z"
   },
   {
    "duration": -1878,
    "start_time": "2022-02-16T09:38:44.146Z"
   },
   {
    "duration": -1885,
    "start_time": "2022-02-16T09:38:44.154Z"
   },
   {
    "duration": -1893,
    "start_time": "2022-02-16T09:38:44.163Z"
   },
   {
    "duration": -1897,
    "start_time": "2022-02-16T09:38:44.168Z"
   },
   {
    "duration": 2005,
    "start_time": "2022-02-16T09:40:13.211Z"
   }
  ],
  "kernelspec": {
   "display_name": "Python 3",
   "language": "python",
   "name": "python3"
  },
  "language_info": {
   "codemirror_mode": {
    "name": "ipython",
    "version": 3
   },
   "file_extension": ".py",
   "mimetype": "text/x-python",
   "name": "python",
   "nbconvert_exporter": "python",
   "pygments_lexer": "ipython3",
   "version": "3.8.8"
  },
  "toc": {
   "base_numbering": 1,
   "nav_menu": {},
   "number_sections": true,
   "sideBar": true,
   "skip_h1_title": false,
   "title_cell": "Table of Contents",
   "title_sidebar": "Contents",
   "toc_cell": false,
   "toc_position": {
    "height": "calc(100% - 180px)",
    "left": "10px",
    "top": "150px",
    "width": "165px"
   },
   "toc_section_display": true,
   "toc_window_display": false
  }
 },
 "nbformat": 4,
 "nbformat_minor": 2
}
